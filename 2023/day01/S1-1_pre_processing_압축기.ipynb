{
 "cells": [
  {
   "cell_type": "markdown",
   "metadata": {
    "id": "8VYvLRP6CtaC"
   },
   "source": [
    "# 초기 설정 및 라이브러리 불러오기"
   ]
  },
  {
   "cell_type": "code",
   "execution_count": 1,
   "metadata": {
    "colab": {
     "base_uri": "https://localhost:8080/"
    },
    "executionInfo": {
     "elapsed": 41644,
     "status": "ok",
     "timestamp": 1690431654992,
     "user": {
      "displayName": "YK CHA",
      "userId": "13863917908140273125"
     },
     "user_tz": -540
    },
    "id": "04WaQizLpk2R",
    "outputId": "0c1ff210-84bf-4c8a-d9a7-ad43ecced6a6"
   },
   "outputs": [],
   "source": [
    "# 구글 드라이브로부터 데이터 불러오기\n",
    "# from google.colab import drive\n",
    "# drive.mount('/content/gdrive')\n",
    "\n",
    "# 데이터 분석 및 처리 용이\n",
    "import pandas as pd\n",
    "import numpy as np\n",
    "np.set_printoptions(linewidth=120)\n",
    "\n",
    "# 데이터 스케일링/정규화\n",
    "from sklearn.preprocessing import StandardScaler, MinMaxScaler, RobustScaler, MaxAbsScaler\n",
    "import matplotlib.pyplot as plt\n",
    "\n",
    "# 변수 저장/불러오기\n",
    "import pickle"
   ]
  },
  {
   "cell_type": "markdown",
   "metadata": {
    "id": "MREiMZJ0CnYh"
   },
   "source": [
    "# 작업 파일(working directory) 설정"
   ]
  },
  {
   "cell_type": "code",
   "execution_count": null,
   "metadata": {
    "colab": {
     "base_uri": "https://localhost:8080/"
    },
    "executionInfo": {
     "elapsed": 423,
     "status": "ok",
     "timestamp": 1690431820494,
     "user": {
      "displayName": "YK CHA",
      "userId": "13863917908140273125"
     },
     "user_tz": -540
    },
    "id": "gM34LQzNvMZr",
    "outputId": "af3c73b9-2a8a-464a-ef5c-fa4384a4f6c9"
   },
   "outputs": [],
   "source": [
    "# %cd /..\n",
    "# %cd content/gdrive/MyDrive/hanon_1st\n",
    "\n",
    "# Additional command for the diriectory\n",
    "# !pwd : 현재 directory 확인\n",
    "# !ls  : 현재 directory 에서의 파일들 확인"
   ]
  },
  {
   "cell_type": "code",
   "execution_count": 2,
   "metadata": {
    "colab": {
     "base_uri": "https://localhost:8080/"
    },
    "executionInfo": {
     "elapsed": 550,
     "status": "ok",
     "timestamp": 1690431826485,
     "user": {
      "displayName": "YK CHA",
      "userId": "13863917908140273125"
     },
     "user_tz": -540
    },
    "id": "TAUrjeQZli41",
    "outputId": "d0ae1e0e-3914-4291-c747-41c30d0c9a49"
   },
   "outputs": [
    {
     "name": "stderr",
     "output_type": "stream",
     "text": [
      "'ls'은(는) 내부 또는 외부 명령, 실행할 수 있는 프로그램, 또는\n",
      "배치 파일이 아닙니다.\n"
     ]
    }
   ],
   "source": [
    "# !ls"
   ]
  },
  {
   "cell_type": "markdown",
   "metadata": {
    "id": "hvdNWLY_Ca4j"
   },
   "source": [
    "# 데이터 불러오기\n",
    "\n",
    "excel 파일 검토\n",
    "\n",
    "excel 파일 현재 directory 넣기\n",
    "\n"
   ]
  },
  {
   "cell_type": "code",
   "execution_count": 3,
   "metadata": {
    "colab": {
     "base_uri": "https://localhost:8080/",
     "height": 423
    },
    "executionInfo": {
     "elapsed": 2301,
     "status": "ok",
     "timestamp": 1690432419555,
     "user": {
      "displayName": "YK CHA",
      "userId": "13863917908140273125"
     },
     "user_tz": -540
    },
    "id": "E58i-mp1mG7a",
    "outputId": "23c95360-f8f3-453c-869d-ac65854c4270"
   },
   "outputs": [
    {
     "data": {
      "text/html": [
       "<div>\n",
       "<style scoped>\n",
       "    .dataframe tbody tr th:only-of-type {\n",
       "        vertical-align: middle;\n",
       "    }\n",
       "\n",
       "    .dataframe tbody tr th {\n",
       "        vertical-align: top;\n",
       "    }\n",
       "\n",
       "    .dataframe thead th {\n",
       "        text-align: right;\n",
       "    }\n",
       "</style>\n",
       "<table border=\"1\" class=\"dataframe\">\n",
       "  <thead>\n",
       "    <tr style=\"text-align: right;\">\n",
       "      <th></th>\n",
       "      <th>Amb T</th>\n",
       "      <th>RPM</th>\n",
       "      <th>P1</th>\n",
       "      <th>T1</th>\n",
       "      <th>P2</th>\n",
       "      <th>T2</th>\n",
       "      <th>Suc_SH</th>\n",
       "      <th>Comp_Power</th>\n",
       "      <th>Ref_flow</th>\n",
       "      <th>P_ratio</th>\n",
       "    </tr>\n",
       "  </thead>\n",
       "  <tbody>\n",
       "    <tr>\n",
       "      <th>0</th>\n",
       "      <td>-19.911888</td>\n",
       "      <td>2999</td>\n",
       "      <td>-0.06</td>\n",
       "      <td>-29.87</td>\n",
       "      <td>3.5</td>\n",
       "      <td>12.1</td>\n",
       "      <td>0.9693</td>\n",
       "      <td>736.0</td>\n",
       "      <td>51.0</td>\n",
       "      <td>4.658</td>\n",
       "    </tr>\n",
       "    <tr>\n",
       "      <th>1</th>\n",
       "      <td>-19.939777</td>\n",
       "      <td>2999</td>\n",
       "      <td>-0.06</td>\n",
       "      <td>-29.72</td>\n",
       "      <td>3.5</td>\n",
       "      <td>12.4</td>\n",
       "      <td>1.1190</td>\n",
       "      <td>736.0</td>\n",
       "      <td>52.0</td>\n",
       "      <td>4.658</td>\n",
       "    </tr>\n",
       "    <tr>\n",
       "      <th>2</th>\n",
       "      <td>-19.972445</td>\n",
       "      <td>2999</td>\n",
       "      <td>-0.06</td>\n",
       "      <td>-29.79</td>\n",
       "      <td>3.4</td>\n",
       "      <td>12.0</td>\n",
       "      <td>1.0490</td>\n",
       "      <td>736.0</td>\n",
       "      <td>53.0</td>\n",
       "      <td>4.555</td>\n",
       "    </tr>\n",
       "    <tr>\n",
       "      <th>3</th>\n",
       "      <td>-19.992556</td>\n",
       "      <td>2999</td>\n",
       "      <td>0.02</td>\n",
       "      <td>-28.25</td>\n",
       "      <td>3.5</td>\n",
       "      <td>14.9</td>\n",
       "      <td>0.7970</td>\n",
       "      <td>736.0</td>\n",
       "      <td>52.0</td>\n",
       "      <td>4.304</td>\n",
       "    </tr>\n",
       "    <tr>\n",
       "      <th>4</th>\n",
       "      <td>-19.985001</td>\n",
       "      <td>2999</td>\n",
       "      <td>0.00</td>\n",
       "      <td>-28.35</td>\n",
       "      <td>3.5</td>\n",
       "      <td>14.9</td>\n",
       "      <td>1.1350</td>\n",
       "      <td>788.6</td>\n",
       "      <td>55.0</td>\n",
       "      <td>4.387</td>\n",
       "    </tr>\n",
       "    <tr>\n",
       "      <th>...</th>\n",
       "      <td>...</td>\n",
       "      <td>...</td>\n",
       "      <td>...</td>\n",
       "      <td>...</td>\n",
       "      <td>...</td>\n",
       "      <td>...</td>\n",
       "      <td>...</td>\n",
       "      <td>...</td>\n",
       "      <td>...</td>\n",
       "      <td>...</td>\n",
       "    </tr>\n",
       "    <tr>\n",
       "      <th>1838</th>\n",
       "      <td>24.944889</td>\n",
       "      <td>1499</td>\n",
       "      <td>3.70</td>\n",
       "      <td>12.90</td>\n",
       "      <td>10.1</td>\n",
       "      <td>45.7</td>\n",
       "      <td>0.9989</td>\n",
       "      <td>788.4</td>\n",
       "      <td>108.4</td>\n",
       "      <td>2.352</td>\n",
       "    </tr>\n",
       "    <tr>\n",
       "      <th>1839</th>\n",
       "      <td>24.987165</td>\n",
       "      <td>1499</td>\n",
       "      <td>3.80</td>\n",
       "      <td>13.40</td>\n",
       "      <td>10.0</td>\n",
       "      <td>44.4</td>\n",
       "      <td>0.8202</td>\n",
       "      <td>788.4</td>\n",
       "      <td>109.6</td>\n",
       "      <td>2.283</td>\n",
       "    </tr>\n",
       "    <tr>\n",
       "      <th>1840</th>\n",
       "      <td>24.994055</td>\n",
       "      <td>2999</td>\n",
       "      <td>1.60</td>\n",
       "      <td>17.70</td>\n",
       "      <td>10.8</td>\n",
       "      <td>79.3</td>\n",
       "      <td>23.5000</td>\n",
       "      <td>1419.0</td>\n",
       "      <td>101.6</td>\n",
       "      <td>4.494</td>\n",
       "    </tr>\n",
       "    <tr>\n",
       "      <th>1841</th>\n",
       "      <td>24.981777</td>\n",
       "      <td>2999</td>\n",
       "      <td>1.90</td>\n",
       "      <td>-1.80</td>\n",
       "      <td>11.4</td>\n",
       "      <td>56.2</td>\n",
       "      <td>0.9260</td>\n",
       "      <td>1524.0</td>\n",
       "      <td>128.4</td>\n",
       "      <td>4.239</td>\n",
       "    </tr>\n",
       "    <tr>\n",
       "      <th>1842</th>\n",
       "      <td>24.966444</td>\n",
       "      <td>2999</td>\n",
       "      <td>1.90</td>\n",
       "      <td>-1.80</td>\n",
       "      <td>11.4</td>\n",
       "      <td>50.1</td>\n",
       "      <td>0.9260</td>\n",
       "      <td>1524.0</td>\n",
       "      <td>135.2</td>\n",
       "      <td>4.239</td>\n",
       "    </tr>\n",
       "  </tbody>\n",
       "</table>\n",
       "<p>1843 rows × 10 columns</p>\n",
       "</div>"
      ],
      "text/plain": [
       "          Amb T   RPM    P1     T1    P2    T2   Suc_SH  Comp_Power  Ref_flow  \\\n",
       "0    -19.911888  2999 -0.06 -29.87   3.5  12.1   0.9693       736.0      51.0   \n",
       "1    -19.939777  2999 -0.06 -29.72   3.5  12.4   1.1190       736.0      52.0   \n",
       "2    -19.972445  2999 -0.06 -29.79   3.4  12.0   1.0490       736.0      53.0   \n",
       "3    -19.992556  2999  0.02 -28.25   3.5  14.9   0.7970       736.0      52.0   \n",
       "4    -19.985001  2999  0.00 -28.35   3.5  14.9   1.1350       788.6      55.0   \n",
       "...         ...   ...   ...    ...   ...   ...      ...         ...       ...   \n",
       "1838  24.944889  1499  3.70  12.90  10.1  45.7   0.9989       788.4     108.4   \n",
       "1839  24.987165  1499  3.80  13.40  10.0  44.4   0.8202       788.4     109.6   \n",
       "1840  24.994055  2999  1.60  17.70  10.8  79.3  23.5000      1419.0     101.6   \n",
       "1841  24.981777  2999  1.90  -1.80  11.4  56.2   0.9260      1524.0     128.4   \n",
       "1842  24.966444  2999  1.90  -1.80  11.4  50.1   0.9260      1524.0     135.2   \n",
       "\n",
       "      P_ratio  \n",
       "0       4.658  \n",
       "1       4.658  \n",
       "2       4.555  \n",
       "3       4.304  \n",
       "4       4.387  \n",
       "...       ...  \n",
       "1838    2.352  \n",
       "1839    2.283  \n",
       "1840    4.494  \n",
       "1841    4.239  \n",
       "1842    4.239  \n",
       "\n",
       "[1843 rows x 10 columns]"
      ]
     },
     "execution_count": 3,
     "metadata": {},
     "output_type": "execute_result"
    }
   ],
   "source": [
    "filename='압축기_data.xlsx'\n",
    "df = pd.read_excel(filename,engine='openpyxl',sheet_name='Sheet1 (2)',header=0,usecols='A:E,H,W,J,K,F')\n",
    "df"
   ]
  },
  {
   "cell_type": "markdown",
   "metadata": {
    "id": "QmvQiQGiNfvk"
   },
   "source": [
    "![Slide9](https://github.com/woooky/jinwook/assets/84065529/74273291-de73-4575-b801-08141b18695a)"
   ]
  },
  {
   "cell_type": "code",
   "execution_count": null,
   "metadata": {
    "colab": {
     "base_uri": "https://localhost:8080/",
     "height": 269
    },
    "executionInfo": {
     "elapsed": 561,
     "status": "ok",
     "timestamp": 1690432483166,
     "user": {
      "displayName": "YK CHA",
      "userId": "13863917908140273125"
     },
     "user_tz": -540
    },
    "id": "KY62Jijy5kt2",
    "outputId": "a41a73d8-1293-4e7a-fc77-bd631b1e83a1"
   },
   "outputs": [],
   "source": [
    "# 임의의 행의 데이터 확인\n",
    "df.iloc[20:27]"
   ]
  },
  {
   "cell_type": "code",
   "execution_count": null,
   "metadata": {
    "colab": {
     "base_uri": "https://localhost:8080/"
    },
    "executionInfo": {
     "elapsed": 404,
     "status": "ok",
     "timestamp": 1690432522442,
     "user": {
      "displayName": "YK CHA",
      "userId": "13863917908140273125"
     },
     "user_tz": -540
    },
    "id": "6HND3cyW5vmr",
    "outputId": "4c7ad5b5-cbdd-498b-fb18-f2442bfd3251"
   },
   "outputs": [],
   "source": [
    "# data frame의 사이즈 출력\n",
    "df.shape"
   ]
  },
  {
   "cell_type": "code",
   "execution_count": null,
   "metadata": {
    "colab": {
     "base_uri": "https://localhost:8080/"
    },
    "executionInfo": {
     "elapsed": 569,
     "status": "ok",
     "timestamp": 1690432558784,
     "user": {
      "displayName": "YK CHA",
      "userId": "13863917908140273125"
     },
     "user_tz": -540
    },
    "id": "G8W8DUveXUUv",
    "outputId": "18a41655-9b2a-4719-e406-cf12c552523e"
   },
   "outputs": [],
   "source": [
    "# 각 칼럼의 데이터 타입\n",
    "df.dtypes"
   ]
  },
  {
   "cell_type": "code",
   "execution_count": null,
   "metadata": {
    "colab": {
     "base_uri": "https://localhost:8080/"
    },
    "executionInfo": {
     "elapsed": 441,
     "status": "ok",
     "timestamp": 1690432611949,
     "user": {
      "displayName": "YK CHA",
      "userId": "13863917908140273125"
     },
     "user_tz": -540
    },
    "id": "_bQYHYbwzzbn",
    "outputId": "1b6c9b06-5b66-4749-ba77-b991b8776f0a"
   },
   "outputs": [],
   "source": [
    "# data frame의 칼럼명 출력\n",
    "df.columns"
   ]
  },
  {
   "cell_type": "code",
   "execution_count": null,
   "metadata": {
    "colab": {
     "base_uri": "https://localhost:8080/",
     "height": 35
    },
    "executionInfo": {
     "elapsed": 410,
     "status": "ok",
     "timestamp": 1690432626205,
     "user": {
      "displayName": "YK CHA",
      "userId": "13863917908140273125"
     },
     "user_tz": -540
    },
    "id": "0H3O7Np61aFq",
    "outputId": "013289a8-8f29-40d9-8c3e-e86f8510d4a1"
   },
   "outputs": [],
   "source": [
    "# data frame의 특정 위치의 칼럼명 출력\n",
    "df.columns[4]"
   ]
  },
  {
   "cell_type": "code",
   "execution_count": null,
   "metadata": {
    "colab": {
     "base_uri": "https://localhost:8080/"
    },
    "executionInfo": {
     "elapsed": 426,
     "status": "ok",
     "timestamp": 1690432635746,
     "user": {
      "displayName": "YK CHA",
      "userId": "13863917908140273125"
     },
     "user_tz": -540
    },
    "id": "8jgSCVnw1NCd",
    "outputId": "e4aaa80c-05f5-4e03-a7d0-f422ab7d49a9"
   },
   "outputs": [],
   "source": [
    "# 특정 칼럼의 데이터 출력\n",
    "df.RPM"
   ]
  },
  {
   "cell_type": "code",
   "execution_count": null,
   "metadata": {
    "colab": {
     "base_uri": "https://localhost:8080/",
     "height": 423
    },
    "executionInfo": {
     "elapsed": 419,
     "status": "ok",
     "timestamp": 1690432657145,
     "user": {
      "displayName": "YK CHA",
      "userId": "13863917908140273125"
     },
     "user_tz": -540
    },
    "id": "ffJ_Lbzz-xmM",
    "outputId": "ee40854d-e519-4f04-b699-b0a631b2bca3"
   },
   "outputs": [],
   "source": [
    "# 특정 칼럼의 데이터 출력 2\n",
    "df[['RPM']]"
   ]
  },
  {
   "cell_type": "code",
   "execution_count": null,
   "metadata": {
    "colab": {
     "base_uri": "https://localhost:8080/"
    },
    "executionInfo": {
     "elapsed": 431,
     "status": "ok",
     "timestamp": 1690432673781,
     "user": {
      "displayName": "YK CHA",
      "userId": "13863917908140273125"
     },
     "user_tz": -540
    },
    "id": "0-Uzuw8F4Ukz",
    "outputId": "bfd88b51-d820-483b-b9e6-efd9af422ed3"
   },
   "outputs": [],
   "source": [
    "# 특정 칼럼, 로우의 데이터 출력\n",
    "df.RPM[130]"
   ]
  },
  {
   "cell_type": "markdown",
   "metadata": {
    "id": "_Hs9QN8GH25Y"
   },
   "source": [
    "# input - output 설정"
   ]
  },
  {
   "cell_type": "code",
   "execution_count": null,
   "metadata": {
    "colab": {
     "base_uri": "https://localhost:8080/"
    },
    "executionInfo": {
     "elapsed": 421,
     "status": "ok",
     "timestamp": 1690432702419,
     "user": {
      "displayName": "YK CHA",
      "userId": "13863917908140273125"
     },
     "user_tz": -540
    },
    "id": "ubZl3ZR2w07Q",
    "outputId": "9cd86d57-82b6-47e1-e8cf-6a8868d2d70a"
   },
   "outputs": [],
   "source": [
    "for i in range(df.shape[1]):\n",
    "    print(i, df.columns[i])"
   ]
  },
  {
   "cell_type": "code",
   "execution_count": null,
   "metadata": {
    "executionInfo": {
     "elapsed": 425,
     "status": "ok",
     "timestamp": 1690432723325,
     "user": {
      "displayName": "YK CHA",
      "userId": "13863917908140273125"
     },
     "user_tz": -540
    },
    "id": "1okuFoxl5npZ"
   },
   "outputs": [],
   "source": [
    "select_input=[0,1,2,3,4,6,9]\n",
    "select_output=[8]"
   ]
  },
  {
   "cell_type": "code",
   "execution_count": null,
   "metadata": {
    "colab": {
     "base_uri": "https://localhost:8080/",
     "height": 423
    },
    "executionInfo": {
     "elapsed": 415,
     "status": "ok",
     "timestamp": 1690432741236,
     "user": {
      "displayName": "YK CHA",
      "userId": "13863917908140273125"
     },
     "user_tz": -540
    },
    "id": "11LKG9SJ6BWO",
    "outputId": "aebe2053-408d-4bb0-d447-652ea27f6409"
   },
   "outputs": [],
   "source": [
    "selected_col_name=df.columns[select_input]\n",
    "input_pd=df[selected_col_name]\n",
    "input_pd"
   ]
  },
  {
   "cell_type": "code",
   "execution_count": null,
   "metadata": {
    "colab": {
     "base_uri": "https://localhost:8080/"
    },
    "executionInfo": {
     "elapsed": 433,
     "status": "ok",
     "timestamp": 1690432774415,
     "user": {
      "displayName": "YK CHA",
      "userId": "13863917908140273125"
     },
     "user_tz": -540
    },
    "id": "X5edpURa6CU1",
    "outputId": "8c25daf5-5903-4cf3-cea8-43f5d6b56e71"
   },
   "outputs": [],
   "source": [
    "input_np=input_pd.to_numpy()\n",
    "print(input_np)"
   ]
  },
  {
   "cell_type": "code",
   "execution_count": null,
   "metadata": {
    "colab": {
     "base_uri": "https://localhost:8080/"
    },
    "executionInfo": {
     "elapsed": 405,
     "status": "ok",
     "timestamp": 1690432844090,
     "user": {
      "displayName": "YK CHA",
      "userId": "13863917908140273125"
     },
     "user_tz": -540
    },
    "id": "AejnEpWu66TQ",
    "outputId": "909228fe-e102-439f-a281-854f6748fd40"
   },
   "outputs": [],
   "source": [
    "# Output\n",
    "selected_col_name=df.columns[select_output]\n",
    "output_pd=df[selected_col_name]\n",
    "output_np=output_pd.to_numpy()\n",
    "output_np"
   ]
  },
  {
   "cell_type": "code",
   "execution_count": null,
   "metadata": {
    "colab": {
     "base_uri": "https://localhost:8080/"
    },
    "executionInfo": {
     "elapsed": 652,
     "status": "ok",
     "timestamp": 1690432881257,
     "user": {
      "displayName": "YK CHA",
      "userId": "13863917908140273125"
     },
     "user_tz": -540
    },
    "id": "CDOjfmQw_kDd",
    "outputId": "32f45501-aa2b-4b21-a48c-c3d094a8d689"
   },
   "outputs": [],
   "source": [
    "print(' Input data dimension = ' , input_np.shape)\n",
    "print(' Output data dimension = ' , output_np.shape)"
   ]
  },
  {
   "cell_type": "markdown",
   "metadata": {
    "id": "Wmz55P7P9GMl"
   },
   "source": [
    "# 데이터 스케일링/정규화:\n",
    "특성별로 값의 범위가 다 다르기 때문에 어떤 특성은 값이 너무 작고 어떤 특성은 값이 너무 크다면 알고리즘 학습 시 0으로 수렴하거나 무한으로 발산해버리면서 원하는 결과값이 나오지 않을 수 있다."
   ]
  },
  {
   "cell_type": "markdown",
   "metadata": {
    "id": "mWFvDkiL_NWo"
   },
   "source": [
    "StandardScaler\n",
    ": 평균=0, 표준편차=1로 조정해서 모든 특성이 같은 크기를 갖게 한다.\n",
    "\n",
    "MinMaxScaler\n",
    ": 최대값=1, 최소값=0으로 조정, 아웃라이어에 취약\n",
    "\n",
    "RobustScaler\n",
    ": 중앙값=0, IQR(1분위~3분위값)=1로 조정, 아웃라이어 영향을 최소화하며 정규분포보다 더 넓게 분포\n",
    "\n",
    "MaxAbsScaler\n",
    ": 0을 기준으로 절대값이 가장 큰 수가 1 또는 -1이 되도록 조정, 양수 데이터로만 구성된 데이터에서는 아웃라이어에 민감"
   ]
  },
  {
   "cell_type": "code",
   "execution_count": null,
   "metadata": {
    "colab": {
     "base_uri": "https://localhost:8080/",
     "height": 484
    },
    "executionInfo": {
     "elapsed": 495,
     "status": "ok",
     "timestamp": 1690432924761,
     "user": {
      "displayName": "YK CHA",
      "userId": "13863917908140273125"
     },
     "user_tz": -540
    },
    "id": "REn4b3wRGMP2",
    "outputId": "fe361832-f248-4274-fe2c-56fb44dcc9fb"
   },
   "outputs": [],
   "source": [
    "plt.subplot(1,2,1)\n",
    "plt.hist(input_np[:,0])\n",
    "plt.subplot(1,2,2)\n",
    "plt.hist(input_np[:,1])"
   ]
  },
  {
   "cell_type": "code",
   "execution_count": null,
   "metadata": {
    "colab": {
     "base_uri": "https://localhost:8080/"
    },
    "executionInfo": {
     "elapsed": 544,
     "status": "ok",
     "timestamp": 1690433067291,
     "user": {
      "displayName": "YK CHA",
      "userId": "13863917908140273125"
     },
     "user_tz": -540
    },
    "id": "gEayL6sk9Edm",
    "outputId": "fe4a4847-3772-47ec-94c9-611405668d7b"
   },
   "outputs": [],
   "source": [
    "# 스케일러 선택\n",
    "scaler_X=StandardScaler()\n",
    "\n",
    "# 스케일링 학습\n",
    "scaler_X.fit(input_np)\n",
    "\n",
    "# 스케일링\n",
    "X_scaled = scaler_X.transform(input_np)\n",
    "\n",
    "print(X_scaled)"
   ]
  },
  {
   "cell_type": "code",
   "execution_count": null,
   "metadata": {
    "colab": {
     "base_uri": "https://localhost:8080/",
     "height": 503
    },
    "executionInfo": {
     "elapsed": 1440,
     "status": "ok",
     "timestamp": 1690433095663,
     "user": {
      "displayName": "YK CHA",
      "userId": "13863917908140273125"
     },
     "user_tz": -540
    },
    "id": "6adJU5MKGEuE",
    "outputId": "eb55a9c0-4daa-4031-b61c-ee5867336aa3"
   },
   "outputs": [],
   "source": [
    "plt.subplot(1,2,1)\n",
    "plt.hist(X_scaled[:,0])\n",
    "plt.subplot(1,2,2)\n",
    "plt.hist(X_scaled[:,1])"
   ]
  },
  {
   "cell_type": "code",
   "execution_count": null,
   "metadata": {
    "colab": {
     "base_uri": "https://localhost:8080/",
     "height": 612
    },
    "executionInfo": {
     "elapsed": 479,
     "status": "ok",
     "timestamp": 1690433176005,
     "user": {
      "displayName": "YK CHA",
      "userId": "13863917908140273125"
     },
     "user_tz": -540
    },
    "id": "BlH2M4acALda",
    "outputId": "b74fa23e-0043-459c-df18-46a9b66c9929"
   },
   "outputs": [],
   "source": [
    "# 원래 스케일로 복구\n",
    "X_rescaled=scaler_X.inverse_transform(X_scaled)\n",
    "\n",
    "print(X_rescaled)\n",
    "plt.subplot(1,2,1)\n",
    "plt.hist(X_rescaled[:,0])\n",
    "plt.subplot(1,2,2)\n",
    "plt.hist(X_rescaled[:,1])"
   ]
  },
  {
   "cell_type": "code",
   "execution_count": null,
   "metadata": {
    "executionInfo": {
     "elapsed": 442,
     "status": "ok",
     "timestamp": 1690433198996,
     "user": {
      "displayName": "YK CHA",
      "userId": "13863917908140273125"
     },
     "user_tz": -540
    },
    "id": "bCASE9_8C0yn"
   },
   "outputs": [],
   "source": [
    "# output 데이터에 대한 스케일링\n",
    "scaler_Y=StandardScaler()\n",
    "scaler_Y.fit(output_np)\n",
    "Y_scaled = scaler_Y.transform(output_np)"
   ]
  },
  {
   "cell_type": "markdown",
   "metadata": {
    "id": "bFxPTj9XFVAi"
   },
   "source": [
    "# 최종 준비 데이터\n",
    "\n",
    "입력 데이터 : X_scaled,\n",
    "\n",
    "출력 데이터 : Y_scaled\n",
    "\n",
    "스케일링 정보 : scaler_X, scaler_Y\n",
    "\n",
    "\n",
    "\n",
    "\n",
    "\n",
    "\n",
    "\n",
    "\n",
    "\n",
    "\n",
    "\n"
   ]
  },
  {
   "cell_type": "code",
   "execution_count": null,
   "metadata": {
    "executionInfo": {
     "elapsed": 419,
     "status": "ok",
     "timestamp": 1690433221137,
     "user": {
      "displayName": "YK CHA",
      "userId": "13863917908140273125"
     },
     "user_tz": -540
    },
    "id": "HblilFzH-nfS"
   },
   "outputs": [],
   "source": [
    "with open(\"Compressor_pp.pkl\", \"wb\") as file:\n",
    "    pickle.dump((X_scaled, Y_scaled, scaler_X, scaler_Y), file)"
   ]
  }
 ],
 "metadata": {
  "accelerator": "GPU",
  "colab": {
   "gpuType": "T4",
   "provenance": []
  },
  "kernelspec": {
   "display_name": "Python 3 (ipykernel)",
   "language": "python",
   "name": "python3"
  },
  "language_info": {
   "codemirror_mode": {
    "name": "ipython",
    "version": 3
   },
   "file_extension": ".py",
   "mimetype": "text/x-python",
   "name": "python",
   "nbconvert_exporter": "python",
   "pygments_lexer": "ipython3",
   "version": "3.11.5"
  }
 },
 "nbformat": 4,
 "nbformat_minor": 1
}
