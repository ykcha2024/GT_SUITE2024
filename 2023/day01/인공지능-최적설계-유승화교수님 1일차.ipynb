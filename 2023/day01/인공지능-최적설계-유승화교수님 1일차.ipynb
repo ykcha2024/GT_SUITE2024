{
 "cells": [
  {
   "cell_type": "markdown",
   "id": "86597c00",
   "metadata": {
    "id": "86597c00"
   },
   "source": [
    "# <center>복합재료 응력 분석을 위한 Deep learning 활용</center>\n",
    "<br>\n",
    "\n",
    "<center><em> 한국과학기술원 유승화 교수님 MMMM연구실<em>  </center>\n",
    "<center><em> 박사과정 박동근 </center>\n",
    "    \n"
   ]
  },
  {
   "cell_type": "markdown",
   "id": "66174ff0",
   "metadata": {
    "id": "66174ff0"
   },
   "source": [
    "## 1.introdcution\n",
    "\n",
    "### 1.1 문제 정의\n",
    " * __복합재료 응력 분석의 중요성__ : 재료 내 응력 집중 현상은 균열 전파로 이어지므로 이러한 현상을 미리 예측하는 것이 상당히 중요함.\n",
    "![example 2](https://github.com/DonggeunPark/DG/assets/131414228/bf5e1a1b-3f91-422c-9c7f-69370f849fba)\n",
    "<br>\n",
    " * __복합재료 응력 분석을 위한 기존 접근 방법__ : 유한요소해석 방법론을 통해 관심있는 재료 형상으로 부터 수치적으로 변형 및 응력 상태에 대해 시뮬레이션 접근 가능함.\n",
    "![example 3](https://github.com/DonggeunPark/DG/assets/131414228/b5643c8b-b708-4dea-9770-9c8a933c9556)\n",
    "<br>\n",
    " * __시뮬레이션 방법론의 한계__ : 새로운 입력 (형상, 경계조건)에 따라 관심있는 flux를 계산하는 것은 __큰 시간-비용 문제__ 가 발생함.\n",
    "    "
   ]
  },
  {
   "cell_type": "markdown",
   "id": "127de071",
   "metadata": {
    "id": "127de071"
   },
   "source": [
    "### 1.2 딥러닝 (Deep learning) 방법론\n",
    " * 딥러닝 방법론은 인공신경망과 기계학습을 결합하여 __복잡한 패턴을 학습하는 기법__.\n",
    " * __대량의 데이터__ 를 사용하고 다층 구조를 가진 신경망을 구성하여 특징을 추출하고 예측을 수행함.\n",
    " * 즉, __관심있는 입력 (x)__ 과 __알고자하는 출력 (y)간 관계__ 를 신경망을 통해 학습하여 __새로운 x__ 에 대해 예측하는 방법론.\n",
    "    "
   ]
  },
  {
   "cell_type": "markdown",
   "id": "dc30681a",
   "metadata": {
    "id": "dc30681a"
   },
   "source": [
    "## 2 딥러닝 방법론 절차에 따른 line-by-line code!\n",
    "\n",
    "![example 5](https://github.com/DonggeunPark/DG/assets/131414228/112a0c45-1b42-42e8-b0ed-0b5b3a2ded44)\n",
    "###  Two-phase composite 내 응력 분석 예제\n",
    "\n",
    "![f](https://github.com/DonggeunPark/DG/assets/131414228/0ce5ab6e-81ea-4704-b8f3-2ca75db197f0)\n",
    "\n",
    "### Step 1 \"데이터 전처리 및 분석\"\n",
    "\n",
    "* 딥러닝을 활용한 문제 해결의 첫 번째는 **\"데이터 분석\"** 이다.\n",
    "풀고자하는 문제가 명시되면 첫 번째로 데이터를 생성하고 이를 파이썬 플랫폼에 이식을 해준 뒤,\n",
    "어떠한 형태를 갖고 있는지, **데이터가 오류가 없는지 분석과정**이 필요하다 :)\n",
    "\n",
    "* 코드를 한줄씩 디버깅하며 **어떤 의미**인지 확인하고 #주석을 통해 간단한 설명을 참조하면 좋을 듯 하다."
   ]
  },
  {
   "cell_type": "code",
   "execution_count": null,
   "id": "XIh3U1PjLfjo",
   "metadata": {
    "colab": {
     "base_uri": "https://localhost:8080/"
    },
    "executionInfo": {
     "elapsed": 23305,
     "status": "ok",
     "timestamp": 1690441817980,
     "user": {
      "displayName": "YK CHA",
      "userId": "13863917908140273125"
     },
     "user_tz": -540
    },
    "id": "XIh3U1PjLfjo",
    "outputId": "401c3fe2-7770-4180-d8e9-e831aaf2af8d"
   },
   "outputs": [],
   "source": [
    "# from google.colab import drive\n",
    "# drive.mount('/content/drive')"
   ]
  },
  {
   "cell_type": "code",
   "execution_count": null,
   "id": "Ku0rLL6FLrfh",
   "metadata": {
    "colab": {
     "base_uri": "https://localhost:8080/"
    },
    "executionInfo": {
     "elapsed": 311,
     "status": "ok",
     "timestamp": 1690441998333,
     "user": {
      "displayName": "YK CHA",
      "userId": "13863917908140273125"
     },
     "user_tz": -540
    },
    "id": "Ku0rLL6FLrfh",
    "outputId": "97c7223c-f255-4952-9939-f8a7a2718665"
   },
   "outputs": [],
   "source": [
    "# %cd /..\n",
    "# %cd /content/drive/MyDrive/hanon_1st"
   ]
  },
  {
   "cell_type": "code",
   "execution_count": 1,
   "id": "5509447d",
   "metadata": {
    "executionInfo": {
     "elapsed": 1346,
     "status": "ok",
     "timestamp": 1690442998442,
     "user": {
      "displayName": "YK CHA",
      "userId": "13863917908140273125"
     },
     "user_tz": -540
    },
    "id": "5509447d"
   },
   "outputs": [],
   "source": [
    "import numpy as np\n",
    "import seaborn as sns\n",
    "\n",
    "# numpy, seaborn은 라이브러리로써 코드 활용을 위한 도구라고 생각하면 편하다!\n",
    "x  = np.load('64_64_20_120_x_data.npy') # x에 FEM 시뮬레이션에 의해 생성된 복합재 데이터를 이식하는 작업.\n",
    "y = np.load('64_64_20_120_strain.npy')"
   ]
  },
  {
   "cell_type": "code",
   "execution_count": 2,
   "id": "2b62af28",
   "metadata": {
    "colab": {
     "base_uri": "https://localhost:8080/"
    },
    "executionInfo": {
     "elapsed": 309,
     "status": "ok",
     "timestamp": 1690443004033,
     "user": {
      "displayName": "YK CHA",
      "userId": "13863917908140273125"
     },
     "user_tz": -540
    },
    "id": "2b62af28",
    "outputId": "5d1c1367-f40e-4b7f-c6e7-685f5dcd7d26",
    "scrolled": true
   },
   "outputs": [
    {
     "name": "stdout",
     "output_type": "stream",
     "text": [
      "x의 데이터 형태:(1500, 64, 64)\n",
      "y의 데이터 형태:(1500, 64, 64)\n"
     ]
    }
   ],
   "source": [
    "np.shape(x) # 이식된 x가 어떤 차원을 갖는지 분석이 필요하다.\n",
    "# 1500개의 데이터 개수를 갖고 64X64크기 행렬을 갖는 것을 의미함.\n",
    "np.shape(x)\n",
    "print('x의 데이터 형태:'+str(np.shape(x)))\n",
    "print('y의 데이터 형태:'+str(np.shape(y)))"
   ]
  },
  {
   "cell_type": "markdown",
   "id": "c202bc6d",
   "metadata": {
    "id": "c202bc6d"
   },
   "source": [
    "* FEM 데이터가 파이썬 플랫폼에 잘 이식되었는지 확인된 후, 시각적 분석은 필수적이다!\n",
    "* 시각화 방법은 강의 외 범위로 다양한 서적 및 Youtube를 통해 참조하려한다.\n",
    "* 본 강의에서는 복합재료 및 응력분포를 시각화하는데 필요한 코드만 작성하였다."
   ]
  },
  {
   "cell_type": "code",
   "execution_count": 3,
   "id": "e4b13c67",
   "metadata": {
    "id": "e4b13c67",
    "outputId": "730e1d7f-ec36-48db-b01f-8acb9479e44e",
    "scrolled": false
   },
   "outputs": [
    {
     "data": {
      "text/plain": [
       "[]"
      ]
     },
     "execution_count": 3,
     "metadata": {},
     "output_type": "execute_result"
    },
    {
     "data": {
      "image/png": "[encoded data removed]",
      "text/plain": [
       "<Figure size 1400x500 with 4 Axes>"
      ]
     },
     "metadata": {},
     "output_type": "display_data"
    }
   ],
   "source": [
    "import matplotlib.pyplot as plt\n",
    "\n",
    "fig,ax = plt.subplots(1,2, figsize = (7*2,5))\n",
    "sns.heatmap(x[1], cmap = 'Blues', ax = ax[0])\n",
    "ax[0].set_xticks([])\n",
    "ax[0].set_yticks([])\n",
    "\n",
    "sns.heatmap(y[1], cmap = 'RdYlBu_r', ax = ax[1])\n",
    "ax[1].set_xticks([])\n",
    "ax[1].set_yticks([])"
   ]
  },
  {
   "cell_type": "markdown",
   "id": "7c0920ea",
   "metadata": {
    "id": "7c0920ea"
   },
   "source": [
    "## Step 2 \"딥러닝 구조 설계\"\n",
    " * U-Net은 의료 이미지 분할 등에 널리 사용되는 딥러닝 알고리즘으로, 이미지의 컨텍스트 정보를 효과적으로 보존하면서 정확한 분할 결과를 제공함.\n",
    " * U-Net은 인코더와 디코더로 구성되며, 인코더는 이미지의 고수준 특징을 추출하고 디코더는 추출한 정보를 이용하여 입력 이미지의 크기에 맞는 출력 맵을 생성.\n",
    " * 학습된 U-Net은 새로운 이미지에 대한 출력을 수행할 수 있습니다.\n",
    " * 기존 U-Net과 달리 복합재 형상 (Configuration)으로부터 상응하는 continuous한 값을 갖는 응력 분포 (Stress fields)를 예측하기 위해 마지막 feature map을 변형함.\n",
    "![example 1](https://github.com/DonggeunPark/DG/assets/131414228/f7a57a3a-22c3-43a9-9f49-2b084a04bc7b)\n"
   ]
  },
  {
   "cell_type": "code",
   "execution_count": 4,
   "id": "61949f19",
   "metadata": {
    "executionInfo": {
     "elapsed": 289,
     "status": "ok",
     "timestamp": 1690443903234,
     "user": {
      "displayName": "YK CHA",
      "userId": "13863917908140273125"
     },
     "user_tz": -540
    },
    "id": "61949f19",
    "scrolled": true
   },
   "outputs": [],
   "source": [
    "from tensorflow.keras.models import Model\n",
    "from tensorflow.keras.layers import Input, Conv2D, MaxPooling2D, Dropout, UpSampling2D, concatenate\n",
    "from tensorflow.keras import optimizers\n",
    "import keras\n",
    "\n",
    "def UNet(input_shape=(64, 64, 1)):\n",
    "    inputs = Input(input_shape)\n",
    "\n",
    "    # Encoder\n",
    "    conv1 = Conv2D(64, 3, activation='relu', padding='same')(inputs)\n",
    "    conv1 = Conv2D(64, 3, activation='relu', padding='same')(conv1)\n",
    "    pool1 = MaxPooling2D(pool_size=(2, 2))(conv1)\n",
    "\n",
    "    conv2 = Conv2D(64, 3, activation='relu', padding='same')(pool1)\n",
    "    conv2 = Conv2D(64, 3, activation='relu', padding='same')(conv2)\n",
    "    pool2 = MaxPooling2D(pool_size=(2, 2))(conv2)\n",
    "\n",
    "    conv3 = Conv2D(64, 3, activation='relu', padding='same')(pool2)\n",
    "    conv3 = Conv2D(64, 3, activation='relu', padding='same')(conv3)\n",
    "    pool3 = MaxPooling2D(pool_size=(2, 2))(conv3)\n",
    "\n",
    "    # Bridge\n",
    "    conv5 = Conv2D(64, 3, activation='relu', padding='same')(pool3)\n",
    "    conv5 = Conv2D(64, 3, activation='relu', padding='same')(conv5)\n",
    "    drop5 = Dropout(0.5)(conv5)\n",
    "\n",
    "    # Decoder\n",
    "    up7 = Conv2D(64, 2, activation='relu', padding='same')(UpSampling2D(size=(2, 2))(drop5))\n",
    "    merge7 = concatenate([conv3, up7], axis=3)\n",
    "    conv7 = Conv2D(64, 3, activation='relu', padding='same')(merge7)\n",
    "    conv7 = Conv2D(64, 3, activation='relu', padding='same')(conv7)\n",
    "\n",
    "    up8 = Conv2D(64, 2, activation='relu', padding='same')(UpSampling2D(size=(2, 2))(conv7))\n",
    "    merge8 = concatenate([conv2, up8], axis=3)\n",
    "    conv8 = Conv2D(64, 3, activation='relu', padding='same')(merge8)\n",
    "    conv8 = Conv2D(64, 3, activation='relu', padding='same')(conv8)\n",
    "\n",
    "    up9 = Conv2D(64, 2, activation='relu', padding='same')(UpSampling2D(size=(2, 2))(conv8))\n",
    "    merge9 = concatenate([conv1, up9], axis=3)\n",
    "    conv9 = Conv2D(64, 3, activation='relu', padding='same')(merge9)\n",
    "    conv9 = Conv2D(64, 3, activation='relu', padding='same')(conv9)\n",
    "\n",
    "    # Output\n",
    "    outputs = Conv2D(1, 1, activation='relu')(conv9)\n",
    "\n",
    "    model = Model(inputs=inputs, outputs=outputs)\n",
    "    return model"
   ]
  },
  {
   "cell_type": "markdown",
   "id": "797f1112",
   "metadata": {
    "id": "797f1112"
   },
   "source": [
    "# Step 3 학습 및 예측을 위한 데이터 셋 분할\n",
    "\n",
    " * 원하는 길이 혹은 분율을 설정하여 데이터 세트를 학습 및 시험 세트로 구성함.\n",
    " * 학습 세트와 시험 세트는 서로 전혀 다른 데이터 세트로, 새로운 조합에 대해 일반화 능력을 가져야함"
   ]
  },
  {
   "cell_type": "code",
   "execution_count": 5,
   "id": "980c93f8",
   "metadata": {
    "executionInfo": {
     "elapsed": 285,
     "status": "ok",
     "timestamp": 1690443915218,
     "user": {
      "displayName": "YK CHA",
      "userId": "13863917908140273125"
     },
     "user_tz": -540
    },
    "id": "980c93f8"
   },
   "outputs": [],
   "source": [
    "x = np.expand_dims(x, axis=-1)\n",
    "y = np.expand_dims(y, axis=-1)\n",
    "\n",
    "x_train = x[0:1000]\n",
    "y_train = y[0:1000]\n",
    "\n",
    "x_val = x[1000:]\n",
    "y_val = y[1000:]\n"
   ]
  },
  {
   "cell_type": "code",
   "execution_count": 6,
   "id": "9CjPpAKxUMUf",
   "metadata": {
    "colab": {
     "base_uri": "https://localhost:8080/"
    },
    "executionInfo": {
     "elapsed": 310,
     "status": "ok",
     "timestamp": 1690444044054,
     "user": {
      "displayName": "YK CHA",
      "userId": "13863917908140273125"
     },
     "user_tz": -540
    },
    "id": "9CjPpAKxUMUf",
    "outputId": "d7aba525-9898-406a-8f65-0f92f57938ff"
   },
   "outputs": [
    {
     "name": "stdout",
     "output_type": "stream",
     "text": [
      "(1500, 64, 64, 1)\n"
     ]
    }
   ],
   "source": [
    "print(np.shape(x))"
   ]
  },
  {
   "cell_type": "code",
   "execution_count": 7,
   "id": "bd79245f",
   "metadata": {
    "colab": {
     "base_uri": "https://localhost:8080/"
    },
    "executionInfo": {
     "elapsed": 660,
     "status": "ok",
     "timestamp": 1690444100944,
     "user": {
      "displayName": "YK CHA",
      "userId": "13863917908140273125"
     },
     "user_tz": -540
    },
    "id": "bd79245f",
    "outputId": "b03c0118-ee2f-4748-8f7b-a7f62720e86b",
    "scrolled": false
   },
   "outputs": [
    {
     "name": "stdout",
     "output_type": "stream",
     "text": [
      "Model: \"model\"\n",
      "__________________________________________________________________________________________________\n",
      " Layer (type)                Output Shape                 Param #   Connected to                  \n",
      "==================================================================================================\n",
      " input_2 (InputLayer)        [(None, 64, 64, 1)]          0         []                            \n",
      "                                                                                                  \n",
      " conv2d (Conv2D)             (None, 64, 64, 64)           640       ['input_2[0][0]']             \n",
      "                                                                                                  \n",
      " conv2d_1 (Conv2D)           (None, 64, 64, 64)           36928     ['conv2d[0][0]']              \n",
      "                                                                                                  \n",
      " max_pooling2d (MaxPooling2  (None, 32, 32, 64)           0         ['conv2d_1[0][0]']            \n",
      " D)                                                                                               \n",
      "                                                                                                  \n",
      " conv2d_2 (Conv2D)           (None, 32, 32, 64)           36928     ['max_pooling2d[0][0]']       \n",
      "                                                                                                  \n",
      " conv2d_3 (Conv2D)           (None, 32, 32, 64)           36928     ['conv2d_2[0][0]']            \n",
      "                                                                                                  \n",
      " max_pooling2d_1 (MaxPoolin  (None, 16, 16, 64)           0         ['conv2d_3[0][0]']            \n",
      " g2D)                                                                                             \n",
      "                                                                                                  \n",
      " conv2d_4 (Conv2D)           (None, 16, 16, 64)           36928     ['max_pooling2d_1[0][0]']     \n",
      "                                                                                                  \n",
      " conv2d_5 (Conv2D)           (None, 16, 16, 64)           36928     ['conv2d_4[0][0]']            \n",
      "                                                                                                  \n",
      " max_pooling2d_2 (MaxPoolin  (None, 8, 8, 64)             0         ['conv2d_5[0][0]']            \n",
      " g2D)                                                                                             \n",
      "                                                                                                  \n",
      " conv2d_6 (Conv2D)           (None, 8, 8, 64)             36928     ['max_pooling2d_2[0][0]']     \n",
      "                                                                                                  \n",
      " conv2d_7 (Conv2D)           (None, 8, 8, 64)             36928     ['conv2d_6[0][0]']            \n",
      "                                                                                                  \n",
      " dropout (Dropout)           (None, 8, 8, 64)             0         ['conv2d_7[0][0]']            \n",
      "                                                                                                  \n",
      " up_sampling2d (UpSampling2  (None, 16, 16, 64)           0         ['dropout[0][0]']             \n",
      " D)                                                                                               \n",
      "                                                                                                  \n",
      " conv2d_8 (Conv2D)           (None, 16, 16, 64)           16448     ['up_sampling2d[0][0]']       \n",
      "                                                                                                  \n",
      " concatenate (Concatenate)   (None, 16, 16, 128)          0         ['conv2d_5[0][0]',            \n",
      "                                                                     'conv2d_8[0][0]']            \n",
      "                                                                                                  \n",
      " conv2d_9 (Conv2D)           (None, 16, 16, 64)           73792     ['concatenate[0][0]']         \n",
      "                                                                                                  \n",
      " conv2d_10 (Conv2D)          (None, 16, 16, 64)           36928     ['conv2d_9[0][0]']            \n",
      "                                                                                                  \n",
      " up_sampling2d_1 (UpSamplin  (None, 32, 32, 64)           0         ['conv2d_10[0][0]']           \n",
      " g2D)                                                                                             \n",
      "                                                                                                  \n",
      " conv2d_11 (Conv2D)          (None, 32, 32, 64)           16448     ['up_sampling2d_1[0][0]']     \n",
      "                                                                                                  \n",
      " concatenate_1 (Concatenate  (None, 32, 32, 128)          0         ['conv2d_3[0][0]',            \n",
      " )                                                                   'conv2d_11[0][0]']           \n",
      "                                                                                                  \n",
      " conv2d_12 (Conv2D)          (None, 32, 32, 64)           73792     ['concatenate_1[0][0]']       \n",
      "                                                                                                  \n",
      " conv2d_13 (Conv2D)          (None, 32, 32, 64)           36928     ['conv2d_12[0][0]']           \n",
      "                                                                                                  \n",
      " up_sampling2d_2 (UpSamplin  (None, 64, 64, 64)           0         ['conv2d_13[0][0]']           \n",
      " g2D)                                                                                             \n",
      "                                                                                                  \n",
      " conv2d_14 (Conv2D)          (None, 64, 64, 64)           16448     ['up_sampling2d_2[0][0]']     \n",
      "                                                                                                  \n",
      " concatenate_2 (Concatenate  (None, 64, 64, 128)          0         ['conv2d_1[0][0]',            \n",
      " )                                                                   'conv2d_14[0][0]']           \n",
      "                                                                                                  \n",
      " conv2d_15 (Conv2D)          (None, 64, 64, 64)           73792     ['concatenate_2[0][0]']       \n",
      "                                                                                                  \n",
      " conv2d_16 (Conv2D)          (None, 64, 64, 64)           36928     ['conv2d_15[0][0]']           \n",
      "                                                                                                  \n",
      " conv2d_17 (Conv2D)          (None, 64, 64, 1)            65        ['conv2d_16[0][0]']           \n",
      "                                                                                                  \n",
      "==================================================================================================\n",
      "Total params: 640705 (2.44 MB)\n",
      "Trainable params: 640705 (2.44 MB)\n",
      "Non-trainable params: 0 (0.00 Byte)\n",
      "__________________________________________________________________________________________________\n"
     ]
    }
   ],
   "source": [
    "input_img = keras.layers.Input((x.shape[1], x.shape[2], 1))\n",
    "model = UNet()\n",
    "adam = optimizers.Adam(learning_rate=1e-03, beta_1=0.9, beta_2=0.9, epsilon=None, amsgrad=False)\n",
    "#adam = optimizers.Adam(learning_rate=1e-03, beta_1=0.9, beta_2=0.9, epsilon=None, decay=1E-6 , amsgrad=False)\n",
    "model.compile(optimizer = 'adam', loss='mse', metrics=['mae'])\n",
    "model.summary()\n"
   ]
  },
  {
   "cell_type": "code",
   "execution_count": 8,
   "id": "1ea5f24c",
   "metadata": {
    "colab": {
     "base_uri": "https://localhost:8080/",
     "height": 741
    },
    "executionInfo": {
     "elapsed": 472,
     "status": "error",
     "timestamp": 1690444288988,
     "user": {
      "displayName": "YK CHA",
      "userId": "13863917908140273125"
     },
     "user_tz": -540
    },
    "id": "1ea5f24c",
    "outputId": "3244f8aa-a1da-4c1c-b21f-a822d1b81354"
   },
   "outputs": [
    {
     "name": "stdout",
     "output_type": "stream",
     "text": [
      "Epoch 1/30\n",
      "10/10 [==============================] - 62s 6s/step - loss: 167.8557 - mae: 9.7165 - val_loss: 110.9296 - val_mae: 9.3524\n",
      "Epoch 2/30\n",
      "10/10 [==============================] - 62s 6s/step - loss: 111.6657 - mae: 8.5959 - val_loss: 74.9774 - val_mae: 7.2045\n",
      "Epoch 3/30\n",
      "10/10 [==============================] - 61s 6s/step - loss: 52.8738 - mae: 5.5891 - val_loss: 42.3895 - val_mae: 5.5933\n",
      "Epoch 4/30\n",
      "10/10 [==============================] - 61s 6s/step - loss: 42.9765 - mae: 5.3944 - val_loss: 32.6796 - val_mae: 5.0082\n",
      "Epoch 5/30\n",
      "10/10 [==============================] - 61s 6s/step - loss: 40.8652 - mae: 5.2744 - val_loss: 27.8463 - val_mae: 4.6096\n",
      "Epoch 6/30\n",
      "10/10 [==============================] - 60s 6s/step - loss: 39.2274 - mae: 5.1917 - val_loss: 25.2648 - val_mae: 4.2079\n",
      "Epoch 7/30\n",
      "10/10 [==============================] - 61s 6s/step - loss: 37.6560 - mae: 5.0376 - val_loss: 23.2743 - val_mae: 4.1298\n",
      "Epoch 8/30\n",
      "10/10 [==============================] - 61s 6s/step - loss: 36.2853 - mae: 4.9218 - val_loss: 22.0528 - val_mae: 4.0284\n",
      "Epoch 9/30\n",
      "10/10 [==============================] - 61s 6s/step - loss: 34.2104 - mae: 4.7743 - val_loss: 21.0415 - val_mae: 3.7041\n",
      "Epoch 10/30\n",
      "10/10 [==============================] - 60s 6s/step - loss: 31.0931 - mae: 4.5587 - val_loss: 17.7819 - val_mae: 3.4944\n",
      "Epoch 11/30\n",
      "10/10 [==============================] - 59s 6s/step - loss: 26.5022 - mae: 4.1620 - val_loss: 14.1792 - val_mae: 3.1113\n",
      "Epoch 12/30\n",
      "10/10 [==============================] - 60s 6s/step - loss: 19.9504 - mae: 3.5688 - val_loss: 9.6963 - val_mae: 2.5378\n",
      "Epoch 13/30\n",
      "10/10 [==============================] - 60s 6s/step - loss: 13.2324 - mae: 2.8280 - val_loss: 7.2787 - val_mae: 2.1430\n",
      "Epoch 14/30\n",
      "10/10 [==============================] - 61s 6s/step - loss: 9.2728 - mae: 2.2980 - val_loss: 7.3654 - val_mae: 2.1190\n",
      "Epoch 15/30\n",
      "10/10 [==============================] - 60s 6s/step - loss: 6.4900 - mae: 1.8904 - val_loss: 3.8537 - val_mae: 1.5270\n",
      "Epoch 16/30\n",
      "10/10 [==============================] - 60s 6s/step - loss: 4.5965 - mae: 1.5805 - val_loss: 3.1751 - val_mae: 1.3650\n",
      "Epoch 17/30\n",
      "10/10 [==============================] - 60s 6s/step - loss: 3.5581 - mae: 1.3805 - val_loss: 2.5233 - val_mae: 1.2135\n",
      "Epoch 18/30\n",
      "10/10 [==============================] - 60s 6s/step - loss: 2.7747 - mae: 1.2025 - val_loss: 2.3551 - val_mae: 1.1671\n",
      "Epoch 19/30\n",
      "10/10 [==============================] - 60s 6s/step - loss: 2.1862 - mae: 1.0517 - val_loss: 2.7816 - val_mae: 1.2719\n",
      "Epoch 20/30\n",
      "10/10 [==============================] - 60s 6s/step - loss: 1.8412 - mae: 0.9566 - val_loss: 3.0107 - val_mae: 1.3192\n",
      "Epoch 21/30\n",
      "10/10 [==============================] - 60s 6s/step - loss: 1.6340 - mae: 0.8970 - val_loss: 4.0063 - val_mae: 1.5758\n",
      "Epoch 22/30\n",
      "10/10 [==============================] - 59s 6s/step - loss: 1.4675 - mae: 0.8472 - val_loss: 3.2101 - val_mae: 1.4011\n",
      "Epoch 23/30\n",
      "10/10 [==============================] - 60s 6s/step - loss: 1.4146 - mae: 0.8299 - val_loss: 3.9123 - val_mae: 1.5820\n",
      "Epoch 24/30\n",
      "10/10 [==============================] - 61s 6s/step - loss: 1.3203 - mae: 0.7982 - val_loss: 3.4974 - val_mae: 1.5062\n",
      "Epoch 25/30\n",
      "10/10 [==============================] - 61s 6s/step - loss: 1.2011 - mae: 0.7560 - val_loss: 3.2354 - val_mae: 1.4555\n",
      "Epoch 26/30\n",
      "10/10 [==============================] - 59s 6s/step - loss: 1.1297 - mae: 0.7311 - val_loss: 3.9381 - val_mae: 1.6457\n",
      "Epoch 27/30\n",
      "10/10 [==============================] - 59s 6s/step - loss: 1.0771 - mae: 0.7127 - val_loss: 2.7452 - val_mae: 1.3269\n",
      "Epoch 28/30\n",
      "10/10 [==============================] - 60s 6s/step - loss: 1.0124 - mae: 0.6878 - val_loss: 3.7052 - val_mae: 1.6034\n",
      "Epoch 29/30\n",
      "10/10 [==============================] - 58s 6s/step - loss: 0.9623 - mae: 0.6695 - val_loss: 3.0124 - val_mae: 1.4249\n",
      "Epoch 30/30\n",
      "10/10 [==============================] - 58s 6s/step - loss: 0.9300 - mae: 0.6578 - val_loss: 3.3336 - val_mae: 1.5044\n"
     ]
    }
   ],
   "source": [
    "results = model.fit(x_train, y_train*10000,  validation_data=(x_val, y_val*10000), batch_size = 100, epochs = 30)"
   ]
  },
  {
   "cell_type": "markdown",
   "id": "349072b8",
   "metadata": {
    "id": "349072b8"
   },
   "source": [
    "# Step 4 학습된 모델 저장 및 학습 과정 시각화\n",
    " * 학습된 딥러닝 모델을 재사용하기 위해 학습된 parameter들을 저장하고, 앞서 설명한 학습 및 시험 데이터 세트에 대해 오버피팅 여부를 확인 필요"
   ]
  },
  {
   "cell_type": "code",
   "execution_count": 9,
   "id": "4a26f3de",
   "metadata": {
    "id": "4a26f3de",
    "outputId": "6afc4c06-8f74-4fc4-a7ae-5e3a545feddb"
   },
   "outputs": [
    {
     "name": "stdout",
     "output_type": "stream",
     "text": [
      "Saved model to disk\n"
     ]
    }
   ],
   "source": [
    "from keras.models import model_from_json, load_model\n",
    "\n",
    "model_json = model.to_json()\n",
    "\n",
    "with open(\"UNet.json\", \"w\") as json_file :\n",
    "    json_file.write(model_json)\n",
    "\n",
    "model.save_weights(\"UNet.h5\")\n",
    "print(\"Saved model to disk\")"
   ]
  },
  {
   "cell_type": "code",
   "execution_count": 10,
   "id": "a312916b",
   "metadata": {
    "id": "a312916b",
    "outputId": "ffa09093-00ce-4e97-ab96-09f46acb1bdb",
    "scrolled": false
   },
   "outputs": [
    {
     "data": {
      "text/plain": [
       "<matplotlib.legend.Legend at 0x1cc04fe2f90>"
      ]
     },
     "execution_count": 10,
     "metadata": {},
     "output_type": "execute_result"
    },
    {
     "data": {
      "image/png": "[encoded data removed]",
      "text/plain": [
       "<Figure size 1000x400 with 1 Axes>"
      ]
     },
     "metadata": {},
     "output_type": "display_data"
    }
   ],
   "source": [
    "plt.figure(figsize = (10,4))\n",
    "plt.plot(results.history['loss'],color = 'k', label = 'Training set')\n",
    "plt.plot(results.history['val_loss'], color = 'b', label = 'Validation set')\n",
    "plt.yscale('log')\n",
    "plt.legend()"
   ]
  },
  {
   "cell_type": "markdown",
   "id": "10683ab2",
   "metadata": {
    "id": "10683ab2"
   },
   "source": [
    "# Step 5 모델 호출 및 성능 테스트"
   ]
  },
  {
   "cell_type": "code",
   "execution_count": 11,
   "id": "5af7a95b",
   "metadata": {
    "id": "5af7a95b",
    "outputId": "e7bef46f-dc0f-4690-be65-3d64bcc69c49"
   },
   "outputs": [
    {
     "name": "stdout",
     "output_type": "stream",
     "text": [
      "16/16 [==============================] - 5s 321ms/step\n"
     ]
    }
   ],
   "source": [
    "from keras.models import model_from_json, load_model\n",
    "from tensorflow.keras.models import Model\n",
    "from tensorflow.keras.layers import Input, Conv2D, MaxPooling2D, Dropout, UpSampling2D, concatenate\n",
    "from tensorflow.keras import optimizers\n",
    "import keras\n",
    "import tensorflow as tf\n",
    "json_file = open(\"UNet.json\", \"r\")\n",
    "loaded_model_json = json_file.read()\n",
    "json_file.close()\n",
    "loaded_model = tf.keras.models.model_from_json(loaded_model_json)\n",
    "loaded_model.load_weights(\"UNet.h5\")\n",
    "\n",
    "y_pre = loaded_model.predict(x_val)\n",
    "y_pre = y_pre.reshape(x_val.shape[0],64,64)\n",
    "y_pre = y_pre/10000"
   ]
  },
  {
   "cell_type": "code",
   "execution_count": null,
   "id": "a36f6517",
   "metadata": {
    "id": "a36f6517",
    "outputId": "d7d01e4b-0235-4226-a8e4-1c60a7e92ce2"
   },
   "outputs": [],
   "source": [
    "import matplotlib.pyplot as plt\n",
    "inputs = int(input('What is data sample?'))\n",
    "fig,ax = plt.subplots(1,4, figsize = (7*4,5))\n",
    "sns.heatmap(x_val[inputs], cmap = 'Blues', ax = ax[0])\n",
    "ax[0].set_xticks([])\n",
    "ax[0].set_yticks([])\n",
    "\n",
    "sns.heatmap(y_val[inputs], cmap = 'RdYlBu_r', ax = ax[1])\n",
    "ax[1].set_xticks([])\n",
    "ax[1].set_yticks([])\n",
    "ax[1].set_title('FEM')\n",
    "\n",
    "sns.heatmap(y_pre[inputs], cmap = 'RdYlBu_r', ax = ax[2])\n",
    "ax[2].set_xticks([])\n",
    "ax[2].set_yticks([])\n",
    "ax[2].set_title('Deep learning')\n",
    "\n",
    "ax[3].plot(y_pre[0].reshape(64*64),y_val[0].reshape(64*64), linewidth = 0.05)"
   ]
  },
  {
   "cell_type": "code",
   "execution_count": null,
   "id": "df79c20e",
   "metadata": {
    "id": "df79c20e"
   },
   "outputs": [],
   "source": []
  },
  {
   "cell_type": "code",
   "execution_count": null,
   "id": "a4da522b",
   "metadata": {},
   "outputs": [],
   "source": []
  }
 ],
 "metadata": {
  "colab": {
   "provenance": []
  },
  "kernelspec": {
   "display_name": "Python 3 (ipykernel)",
   "language": "python",
   "name": "python3"
  },
  "language_info": {
   "codemirror_mode": {
    "name": "ipython",
    "version": 3
   },
   "file_extension": ".py",
   "mimetype": "text/x-python",
   "name": "python",
   "nbconvert_exporter": "python",
   "pygments_lexer": "ipython3",
   "version": "3.11.5"
  }
 },
 "nbformat": 4,
 "nbformat_minor": 5
}
