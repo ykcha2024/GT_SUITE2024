{
 "cells": [
  {
   "cell_type": "markdown",
   "metadata": {
    "id": "2WC07KZJYNTx"
   },
   "source": [
    "# **Ch 0. 초기 설정 및 라이브러리 불러오기**"
   ]
  },
  {
   "cell_type": "code",
   "execution_count": null,
   "metadata": {
    "colab": {
     "base_uri": "https://localhost:8080/"
    },
    "executionInfo": {
     "elapsed": 21696,
     "status": "ok",
     "timestamp": 1690436494129,
     "user": {
      "displayName": "YK CHA",
      "userId": "13863917908140273125"
     },
     "user_tz": -540
    },
    "id": "1GpDZ5zhBPLe",
    "outputId": "a414a350-02f8-4111-fce1-35186f2b0f50"
   },
   "outputs": [],
   "source": [
    "# 구글 드라이브로부터 데이터 불러오기\n",
    "# from google.colab import drive\n",
    "# drive.mount('/content/gdrive')\n",
    "\n",
    "# 변수 저장/불러오기\n",
    "import pickle\n",
    "\n",
    "# 학습/평가 데이터 분할\n",
    "from sklearn.model_selection import train_test_split\n",
    "\n",
    "# 학습 결과 평가\n",
    "from sklearn.metrics import mean_squared_error, r2_score\n",
    "\n",
    "# 시각화\n",
    "import matplotlib.pyplot as plt"
   ]
  },
  {
   "cell_type": "code",
   "execution_count": null,
   "metadata": {
    "colab": {
     "base_uri": "https://localhost:8080/"
    },
    "executionInfo": {
     "elapsed": 8,
     "status": "ok",
     "timestamp": 1690436494129,
     "user": {
      "displayName": "YK CHA",
      "userId": "13863917908140273125"
     },
     "user_tz": -540
    },
    "id": "UblrlWIpBmI8",
    "outputId": "3d042ce7-3c30-49ea-cfcb-4bd67f36a045"
   },
   "outputs": [],
   "source": [
    "# %cd /..\n",
    "# %cd content/gdrive/MyDrive/hanon_1st\n",
    "\n",
    "# Additional command for the diriectory\n",
    "# !pwd : 현재 directory 확인\n",
    "# !ls  : 현재 directory 에서의 파일들 확인"
   ]
  },
  {
   "cell_type": "code",
   "execution_count": null,
   "metadata": {
    "executionInfo": {
     "elapsed": 5,
     "status": "ok",
     "timestamp": 1690436494130,
     "user": {
      "displayName": "YK CHA",
      "userId": "13863917908140273125"
     },
     "user_tz": -540
    },
    "id": "R2JX063GTVae"
   },
   "outputs": [],
   "source": [
    "# 변수 불러오기\n",
    "with open(\"Compressor_pp.pkl\", \"rb\") as file:\n",
    "    X_scaled, Y_scaled, scaler_X, scaler_Y = pickle.load(file)"
   ]
  },
  {
   "cell_type": "markdown",
   "metadata": {
    "id": "YuWNjwQGN5Uf"
   },
   "source": [
    "# **Ch 1. Support Vector Regression (SVR)**"
   ]
  },
  {
   "cell_type": "markdown",
   "metadata": {
    "id": "wzPWgS3ymLPw"
   },
   "source": [
    "## Ch 1-1. 모델 생성 및 학습\n"
   ]
  },
  {
   "cell_type": "code",
   "execution_count": null,
   "metadata": {
    "executionInfo": {
     "elapsed": 551,
     "status": "ok",
     "timestamp": 1690436494677,
     "user": {
      "displayName": "YK CHA",
      "userId": "13863917908140273125"
     },
     "user_tz": -540
    },
    "id": "y_FdQRdZN4ZK"
   },
   "outputs": [],
   "source": [
    "# SVR 불러오기\n",
    "from sklearn.svm import SVR"
   ]
  },
  {
   "cell_type": "code",
   "execution_count": null,
   "metadata": {
    "executionInfo": {
     "elapsed": 10,
     "status": "ok",
     "timestamp": 1690436494677,
     "user": {
      "displayName": "YK CHA",
      "userId": "13863917908140273125"
     },
     "user_tz": -540
    },
    "id": "7JYoKKPnoXGn"
   },
   "outputs": [],
   "source": [
    "# 데이터를 학습용과 테스트용으로 분리\n",
    "X_scaled_train, X_scaled_test, Y_scaled_train, Y_scaled_test = train_test_split(X_scaled, Y_scaled, test_size=0.3, random_state=42)"
   ]
  },
  {
   "cell_type": "code",
   "execution_count": null,
   "metadata": {},
   "outputs": [],
   "source": [
    "# SVM Model Warning 수정\n",
    "# print(X_scaled_train.shape)\n",
    "# print(Y_scaled_train.shape)\n",
    "Y_scaled_train = Y_scaled_train.reshape(-1, )\n",
    "# print(Y_scaled_train.shape)"
   ]
  },
  {
   "cell_type": "code",
   "execution_count": null,
   "metadata": {
    "colab": {
     "base_uri": "https://localhost:8080/",
     "height": 131
    },
    "executionInfo": {
     "elapsed": 11,
     "status": "ok",
     "timestamp": 1690436494678,
     "user": {
      "displayName": "YK CHA",
      "userId": "13863917908140273125"
     },
     "user_tz": -540
    },
    "id": "AMmHrRm0OJnZ",
    "outputId": "ce637fec-1d80-4513-8a65-adc09d765412"
   },
   "outputs": [],
   "source": [
    "# SVR 학습\n",
    "# https://scikit-learn.org/stable/modules/generated/sklearn.svm.SVR.html\n",
    "# svm_model = SVR(kernel='linear')\n",
    "svm_model = SVR(kernel='rbf')\n",
    "svm_model.fit(X_scaled_train, Y_scaled_train)"
   ]
  },
  {
   "cell_type": "markdown",
   "metadata": {
    "id": "U_6szSXAmUdP"
   },
   "source": [
    "## Ch 1-2. 모델 평가"
   ]
  },
  {
   "cell_type": "markdown",
   "metadata": {
    "id": "ocPlIY2s-nIu"
   },
   "source": [
    "![MSE](https://github.com/woooky/jinwook/assets/84065529/a212b536-657b-42cc-b41b-8027a3b3b14c)\n",
    "\n",
    "![R2](https://github.com/woooky/jinwook/assets/84065529/e3ba38b7-9c11-46a3-addc-7893bbcf76fb)"
   ]
  },
  {
   "cell_type": "code",
   "execution_count": null,
   "metadata": {
    "executionInfo": {
     "elapsed": 8,
     "status": "ok",
     "timestamp": 1690436494678,
     "user": {
      "displayName": "YK CHA",
      "userId": "13863917908140273125"
     },
     "user_tz": -540
    },
    "id": "b-yz-SyMOk8k"
   },
   "outputs": [],
   "source": [
    "# 학습된 SVR을 활용하여 테스트 셋 예측\n",
    "Y_scaled_train_pred = svm_model.predict(X_scaled_train)\n",
    "Y_scaled_test_pred = svm_model.predict(X_scaled_test)"
   ]
  },
  {
   "cell_type": "code",
   "execution_count": null,
   "metadata": {
    "colab": {
     "base_uri": "https://localhost:8080/"
    },
    "executionInfo": {
     "elapsed": 8,
     "status": "ok",
     "timestamp": 1690436494678,
     "user": {
      "displayName": "YK CHA",
      "userId": "13863917908140273125"
     },
     "user_tz": -540
    },
    "id": "g881bub7Oq1P",
    "outputId": "c3153090-bcfd-44f0-971a-06b2af33c255"
   },
   "outputs": [],
   "source": [
    "# SVR 학습 성능 평가\n",
    "mse_train = mean_squared_error(Y_scaled_train, Y_scaled_train_pred)\n",
    "print(\"MSE_train:\", mse_train)\n",
    "r2_train = r2_score(Y_scaled_train, Y_scaled_train_pred)\n",
    "print(\"R-squared_train:\", r2_train)\n",
    "\n",
    "mse_test = mean_squared_error(Y_scaled_test, Y_scaled_test_pred)\n",
    "print(\"MSE_test:\", mse_test)\n",
    "r2_test = r2_score(Y_scaled_test, Y_scaled_test_pred)\n",
    "print(\"R-squared_test:\", r2_test)"
   ]
  },
  {
   "cell_type": "code",
   "execution_count": null,
   "metadata": {},
   "outputs": [],
   "source": [
    "# 예측 값과 실제 값 비교를 위한 데이터 준비\n",
    "plt.figure(figsize=(15, 4))  # 그래프 크기 설정\n",
    "# 실제 값과 예측 값 비교를 위한 plot for test dataset\n",
    "plt.subplot(1,3,1)\n",
    "plt.scatter(Y_scaled_train_pred, Y_scaled_train, c='orange', alpha=0.5)"
   ]
  },
  {
   "cell_type": "code",
   "execution_count": null,
   "metadata": {},
   "outputs": [],
   "source": [
    "# 수정 - min, max array dimension fit\n",
    "\n",
    "# min_val = min(min(Y_scaled_test_pred), min(Y_scaled_test))\n",
    "# print(min_val.shape)\n",
    "# min_val = min_val.reshape(-1, )\n",
    "# print(min_val.shape)\n",
    "# max_val = max(max(Y_scaled_test_pred), max(Y_scaled_test))\n",
    "# print(max_val.shape)"
   ]
  },
  {
   "cell_type": "code",
   "execution_count": null,
   "metadata": {
    "colab": {
     "base_uri": "https://localhost:8080/",
     "height": 466
    },
    "executionInfo": {
     "elapsed": 2708,
     "status": "ok",
     "timestamp": 1690436497381,
     "user": {
      "displayName": "YK CHA",
      "userId": "13863917908140273125"
     },
     "user_tz": -540
    },
    "id": "iBqf_AFnpktt",
    "outputId": "e18b66d2-7bee-4169-9986-7aa6aef1ee9d"
   },
   "outputs": [],
   "source": [
    "# 예측 값과 실제 값 비교를 위한 데이터 준비\n",
    "plt.figure(figsize=(15, 4))  # 그래프 크기 설정\n",
    "\n",
    "# 실제 값과 예측 값 비교를 위한 plot for test dataset\n",
    "plt.subplot(1,3,1)\n",
    "plt.scatter(Y_scaled_train_pred, Y_scaled_train, c='orange', alpha=0.5)\n",
    "# x=y 그리기\n",
    "min_val = min(min(Y_scaled_test_pred), min(Y_scaled_test))\n",
    "# print(min_val.shape)\n",
    "min_val = min_val.reshape(-1, )\n",
    "# print(min_val.shape)\n",
    "\n",
    "max_val = max(max(Y_scaled_test_pred), max(Y_scaled_test))\n",
    "# print(max_val.shape)\n",
    "\n",
    "plt.plot([min_val, max_val], [min_val, max_val], color='black', linestyle='-')\n",
    "# plot\n",
    "plt.title(\"Support Vector Regression\")\n",
    "plt.xlabel(\"Predicted value\")\n",
    "plt.ylabel(\"Actual value\")\n",
    "plt.legend(['Test dataset','x=y'])\n",
    "\n",
    "# 실제 값과 예측 값 비교를 위한 plot for training dataset\n",
    "plt.subplot(1,3,2)\n",
    "plt.scatter(Y_scaled_test_pred, Y_scaled_test, c='blue', alpha=0.5)\n",
    "# x=y 그리기\n",
    "min_val = min(min(Y_scaled_test_pred), min(Y_scaled_test))\n",
    "\n",
    "# print(min_val.shape)\n",
    "min_val = min_val.reshape(-1, )\n",
    "# print(min_val.shape)\n",
    "\n",
    "max_val = max(max(Y_scaled_test_pred), max(Y_scaled_test))\n",
    "# print(max_val.shape)\n",
    "\n",
    "plt.plot([min_val, max_val], [min_val, max_val], color='black', linestyle='-')\n",
    "# plot\n",
    "plt.title(\"Support Vector Regression\")\n",
    "plt.xlabel(\"Predicted value\")\n",
    "plt.ylabel(\"Actual value\")\n",
    "plt.legend(['Training dataset','x=y'])\n",
    "\n",
    "# 실제 값과 예측 값 비교를 위한 plot for training dataset\n",
    "plt.subplot(1,3,3)\n",
    "plt.scatter(Y_scaled_train_pred, Y_scaled_train, c='orange', alpha=0.5)\n",
    "plt.scatter(Y_scaled_test_pred, Y_scaled_test, c='blue', alpha=0.5)\n",
    "# x=y 그리기\n",
    "min_val = min(min(Y_scaled_test_pred), min(Y_scaled_test))\n",
    "# print(min_val.shape)\n",
    "min_val = min_val.reshape(-1, )\n",
    "# print(min_val.shape)\n",
    "\n",
    "max_val = max(max(Y_scaled_test_pred), max(Y_scaled_test))\n",
    "# print(max_val.shape)\n",
    "\n",
    "plt.plot([min_val, max_val], [min_val, max_val], color='black', linestyle='-')\n",
    "# plot\n",
    "plt.title(\"Support Vector Regression\")\n",
    "plt.xlabel(\"Predicted value\")\n",
    "plt.ylabel(\"Actual value\")\n",
    "plt.legend(['Test dataset','Training dataset','x=y'])\n",
    "\n",
    "plt.show()"
   ]
  },
  {
   "cell_type": "markdown",
   "metadata": {
    "id": "lICHNtvjpl_-"
   },
   "source": [
    "## Ch 1-3. 임의의 input에 대한 output 예측"
   ]
  },
  {
   "cell_type": "code",
   "execution_count": null,
   "metadata": {
    "colab": {
     "base_uri": "https://localhost:8080/"
    },
    "executionInfo": {
     "elapsed": 8,
     "status": "ok",
     "timestamp": 1690436497382,
     "user": {
      "displayName": "YK CHA",
      "userId": "13863917908140273125"
     },
     "user_tz": -540
    },
    "id": "vBqLMMy2Tkmi",
    "outputId": "e314794e-4691-4c2f-8ed0-370b4ad0c656"
   },
   "outputs": [],
   "source": [
    "# 알고싶은 input\n",
    "X_unknown=[-15, 3000, -0.1, -20, 2.1, 1.2, 4.0]\n",
    "\n",
    "# input 스케일링\n",
    "X_unknown_scaled=scaler_X.transform([X_unknown])\n",
    "\n",
    "# 예측\n",
    "y_pred_unknown =  svm_model.predict(X_unknown_scaled)\n",
    "print(y_pred_unknown)"
   ]
  },
  {
   "cell_type": "markdown",
   "metadata": {
    "id": "eD5tVFmvaXpr"
   },
   "source": [
    "# **Ch 2. Random Forest Regression (RFR)**\n"
   ]
  },
  {
   "cell_type": "markdown",
   "metadata": {
    "id": "fEf6cQhm_8oX"
   },
   "source": [
    "## Ch 2-1. 모델 생성 및 학습"
   ]
  },
  {
   "cell_type": "code",
   "execution_count": null,
   "metadata": {
    "executionInfo": {
     "elapsed": 6,
     "status": "ok",
     "timestamp": 1690436497382,
     "user": {
      "displayName": "YK CHA",
      "userId": "13863917908140273125"
     },
     "user_tz": -540
    },
    "id": "iMcEbFdtahWw"
   },
   "outputs": [],
   "source": [
    "from sklearn.ensemble import RandomForestRegressor"
   ]
  },
  {
   "cell_type": "code",
   "execution_count": null,
   "metadata": {
    "colab": {
     "base_uri": "https://localhost:8080/",
     "height": 111
    },
    "executionInfo": {
     "elapsed": 528,
     "status": "ok",
     "timestamp": 1690436497904,
     "user": {
      "displayName": "YK CHA",
      "userId": "13863917908140273125"
     },
     "user_tz": -540
    },
    "id": "S58oJJ4lalTS",
    "outputId": "31846ba7-db4f-42d6-c8e8-9352f3e97939"
   },
   "outputs": [],
   "source": [
    "# https://scikit-learn.org/stable/modules/generated/sklearn.ensemble.RandomForestRegressor.html\n",
    "rfr_model = RandomForestRegressor(n_estimators=5, random_state=42)\n",
    "\n",
    "rfr_model.fit(X_scaled_train, Y_scaled_train)"
   ]
  },
  {
   "cell_type": "markdown",
   "metadata": {
    "id": "U0pv64CKAAgR"
   },
   "source": [
    "## Ch 2-2. 모델 평가"
   ]
  },
  {
   "cell_type": "code",
   "execution_count": null,
   "metadata": {
    "executionInfo": {
     "elapsed": 8,
     "status": "ok",
     "timestamp": 1690436497904,
     "user": {
      "displayName": "YK CHA",
      "userId": "13863917908140273125"
     },
     "user_tz": -540
    },
    "id": "l77HOMHBarDh"
   },
   "outputs": [],
   "source": [
    "# 학습된 RFR을 활용하여 테스트 셋 예측\n",
    "Y_scaled_train_pred = rfr_model.predict(X_scaled_train)\n",
    "Y_scaled_test_pred = rfr_model.predict(X_scaled_test)"
   ]
  },
  {
   "cell_type": "code",
   "execution_count": null,
   "metadata": {},
   "outputs": [],
   "source": [
    "Y_scaled_train_pred, Y_scaled_test_pred\n",
    "print(Y_scaled_train_pred.shape)\n",
    "print(Y_scaled_test_pred.shape)"
   ]
  },
  {
   "cell_type": "code",
   "execution_count": null,
   "metadata": {
    "colab": {
     "base_uri": "https://localhost:8080/"
    },
    "executionInfo": {
     "elapsed": 8,
     "status": "ok",
     "timestamp": 1690436497905,
     "user": {
      "displayName": "YK CHA",
      "userId": "13863917908140273125"
     },
     "user_tz": -540
    },
    "id": "Vc3rJBh7awzg",
    "outputId": "e983dc33-9aee-4a00-fc15-cf84899e717d"
   },
   "outputs": [],
   "source": [
    "# RFR 학습 성능 평가 for train\n",
    "mse_train = mean_squared_error(Y_scaled_train, Y_scaled_train_pred)\n",
    "print(\"MSE_train:\", mse_train)\n",
    "r2_train = r2_score(Y_scaled_train, Y_scaled_train_pred)\n",
    "print(\"R-squared_train:\", r2_train)\n",
    "\n",
    "# RFR 학습 성능 평가 for test\n",
    "mse_test = mean_squared_error(Y_scaled_test, Y_scaled_test_pred)\n",
    "print(\"MSE_test:\", mse_test)\n",
    "r2_test = r2_score(Y_scaled_test, Y_scaled_test_pred)\n",
    "print(\"R-squared_test:\", r2_test)"
   ]
  },
  {
   "cell_type": "code",
   "execution_count": null,
   "metadata": {
    "colab": {
     "base_uri": "https://localhost:8080/",
     "height": 410
    },
    "executionInfo": {
     "elapsed": 2250,
     "status": "ok",
     "timestamp": 1690436500149,
     "user": {
      "displayName": "YK CHA",
      "userId": "13863917908140273125"
     },
     "user_tz": -540
    },
    "id": "v2jViPFQa1iA",
    "outputId": "2e0435cc-9ced-4113-e0ed-4c141105477d"
   },
   "outputs": [],
   "source": [
    "# 예측 값과 실제 값 비교를 위한 데이터 준비\n",
    "plt.figure(figsize=(15, 4))  # 그래프 크기 설정\n",
    "\n",
    "# 실제 값과 예측 값 비교를 위한 plot for test dataset\n",
    "plt.subplot(1,3,1)\n",
    "plt.scatter(Y_scaled_train_pred, Y_scaled_train, c='orange', alpha=0.5)\n",
    "# x=y 그리기\n",
    "min_val = min(min(Y_scaled_test_pred), min(Y_scaled_test))\n",
    "max_val = max(max(Y_scaled_test_pred), max(Y_scaled_test))\n",
    "plt.plot([min_val, max_val], [min_val, max_val], color='black', linestyle='-')\n",
    "# plot\n",
    "plt.title(\"Random Forest Regression\")\n",
    "plt.xlabel(\"Predicted value\")\n",
    "plt.ylabel(\"Actual value\")\n",
    "plt.legend(['Test dataset','x=y'])\n",
    "\n",
    "# 실제 값과 예측 값 비교를 위한 plot for training dataset\n",
    "plt.subplot(1,3,2)\n",
    "plt.scatter(Y_scaled_test_pred, Y_scaled_test, c='blue', alpha=0.5)\n",
    "# x=y 그리기\n",
    "min_val = min(min(Y_scaled_test_pred), min(Y_scaled_test))\n",
    "max_val = max(max(Y_scaled_test_pred), max(Y_scaled_test))\n",
    "plt.plot([min_val, max_val], [min_val, max_val], color='black', linestyle='-')\n",
    "# plot\n",
    "plt.title(\"Random Forest Regression\")\n",
    "plt.xlabel(\"Predicted value\")\n",
    "plt.ylabel(\"Actual value\")\n",
    "plt.legend(['Training dataset','x=y'])\n",
    "\n",
    "# 실제 값과 예측 값 비교를 위한 plot for training dataset\n",
    "plt.subplot(1,3,3)\n",
    "plt.scatter(Y_scaled_train_pred, Y_scaled_train, c='orange', alpha=0.5)\n",
    "plt.scatter(Y_scaled_test_pred, Y_scaled_test, c='blue', alpha=0.5)\n",
    "# x=y 그리기\n",
    "min_val = min(min(Y_scaled_test_pred), min(Y_scaled_test))\n",
    "max_val = max(max(Y_scaled_test_pred), max(Y_scaled_test))\n",
    "plt.plot([min_val, max_val], [min_val, max_val], color='black', linestyle='-')\n",
    "# plot\n",
    "plt.title(\"Random Forest Regression\")\n",
    "plt.xlabel(\"Predicted value\")\n",
    "plt.ylabel(\"Actual value\")\n",
    "plt.legend(['Test dataset','Training dataset','x=y'])\n",
    "\n",
    "plt.show()"
   ]
  },
  {
   "cell_type": "markdown",
   "metadata": {
    "id": "zUXNHR3KAk7n"
   },
   "source": [
    "## Ch 2-3. 결정트리 시각화"
   ]
  },
  {
   "cell_type": "code",
   "execution_count": null,
   "metadata": {
    "executionInfo": {
     "elapsed": 7,
     "status": "ok",
     "timestamp": 1690436500150,
     "user": {
      "displayName": "YK CHA",
      "userId": "13863917908140273125"
     },
     "user_tz": -540
    },
    "id": "d-gsm2-KFyWv",
    "scrolled": true
   },
   "outputs": [],
   "source": [
    "# 결정트리 시각화\n",
    "import graphviz\n",
    "from sklearn import tree"
   ]
  },
  {
   "cell_type": "code",
   "execution_count": null,
   "metadata": {
    "scrolled": true
   },
   "outputs": [],
   "source": [
    "# !pip show scikit-learn\n",
    "\n",
    "# import sklearn\n",
    "# print(sklearn.__version__) #1.2.2\n",
    "print(graphviz.__version__) #0.20.1"
   ]
  },
  {
   "cell_type": "code",
   "execution_count": null,
   "metadata": {
    "executionInfo": {
     "elapsed": 8303,
     "status": "ok",
     "timestamp": 1690436508447,
     "user": {
      "displayName": "YK CHA",
      "userId": "13863917908140273125"
     },
     "user_tz": -540
    },
    "id": "WKR3OK9EF2dY"
   },
   "outputs": [],
   "source": [
    "# 개별 트리 시각화\n",
    "for i, estimator in enumerate(rfr_model.estimators_):\n",
    "    dot_data = tree.export_graphviz(estimator, out_file=None,\n",
    "                                    filled=True, rounded=True,\n",
    "                                    special_characters=True)\n",
    "    graph = graphviz.Source(dot_data)\n",
    "    graph.view(filename=f\"tree_{i+1}\")"
   ]
  },
  {
   "cell_type": "code",
   "execution_count": null,
   "metadata": {
    "colab": {
     "base_uri": "https://localhost:8080/",
     "height": 1000
    },
    "executionInfo": {
     "elapsed": 1792,
     "status": "ok",
     "timestamp": 1690436510225,
     "user": {
      "displayName": "YK CHA",
      "userId": "13863917908140273125"
     },
     "user_tz": -540
    },
    "id": "5501CpitI8Ps",
    "outputId": "9ee5b4d6-adf8-42d0-c002-1e99b6bb8333",
    "scrolled": false
   },
   "outputs": [],
   "source": [
    "display(graphviz.Source(dot_data))"
   ]
  },
  {
   "cell_type": "markdown",
   "metadata": {
    "id": "qiV0fMNkAoqP"
   },
   "source": [
    "## Ch 2-4. 임의의 input에 대한 output 예측"
   ]
  },
  {
   "cell_type": "code",
   "execution_count": null,
   "metadata": {
    "colab": {
     "base_uri": "https://localhost:8080/"
    },
    "executionInfo": {
     "elapsed": 10,
     "status": "ok",
     "timestamp": 1690436510225,
     "user": {
      "displayName": "YK CHA",
      "userId": "13863917908140273125"
     },
     "user_tz": -540
    },
    "id": "lxKwIMd8YFvh",
    "outputId": "0aa14e1e-ef60-4941-e58c-88e8be4b9fbb"
   },
   "outputs": [],
   "source": [
    "# 알고싶은 input\n",
    "X_unknown=[-15, 3000, -0.1, -20, 2.1, 1.2, 4.0]\n",
    "\n",
    "# input 스케일링\n",
    "X_unknown_scaled=scaler_X.transform([X_unknown])\n",
    "\n",
    "# 예측\n",
    "y_pred_unknown =  rfr_model.predict(X_unknown_scaled)\n",
    "print(y_pred_unknown)"
   ]
  },
  {
   "cell_type": "markdown",
   "metadata": {
    "id": "6vH3hEu1d2er"
   },
   "source": [
    "# **Ch 3. Deep Neural Network (DNN)**\n"
   ]
  },
  {
   "cell_type": "markdown",
   "metadata": {
    "id": "BpPfUkKeY-61"
   },
   "source": [
    "## Ch 3-1. 모델 생성 및 학습"
   ]
  },
  {
   "cell_type": "code",
   "execution_count": null,
   "metadata": {
    "executionInfo": {
     "elapsed": 2740,
     "status": "ok",
     "timestamp": 1690436512959,
     "user": {
      "displayName": "YK CHA",
      "userId": "13863917908140273125"
     },
     "user_tz": -540
    },
    "id": "f7PQcc_FbpB7",
    "scrolled": true
   },
   "outputs": [],
   "source": [
    "import tensorflow as tf"
   ]
  },
  {
   "cell_type": "code",
   "execution_count": null,
   "metadata": {},
   "outputs": [],
   "source": [
    "print(tf.__version__) # 2.13.0"
   ]
  },
  {
   "cell_type": "code",
   "execution_count": null,
   "metadata": {
    "colab": {
     "base_uri": "https://localhost:8080/"
    },
    "executionInfo": {
     "elapsed": 16669,
     "status": "ok",
     "timestamp": 1690436529617,
     "user": {
      "displayName": "YK CHA",
      "userId": "13863917908140273125"
     },
     "user_tz": -540
    },
    "id": "G16N95KYd-AL",
    "outputId": "aaff235b-13aa-42d4-a5ec-d48c95f72781"
   },
   "outputs": [],
   "source": [
    "dnn_model = tf.keras.models.Sequential([\n",
    "    tf.keras.layers.Dense(64, activation='relu', input_shape=(X_scaled_train.shape[1],)),\n",
    "    tf.keras.layers.Dense(64, activation='relu'),\n",
    "    tf.keras.layers.Dense(1)\n",
    "])\n",
    "dnn_model.compile(loss='mean_squared_error', optimizer='adam')\n",
    "\n",
    "hist=dnn_model.fit(X_scaled_train, Y_scaled_train, epochs=50, batch_size=32, verbose=1)"
   ]
  },
  {
   "cell_type": "markdown",
   "metadata": {
    "id": "uX9xf7-jZKGE"
   },
   "source": [
    "## Ch 3-2. 모델 평가"
   ]
  },
  {
   "cell_type": "code",
   "execution_count": null,
   "metadata": {
    "colab": {
     "base_uri": "https://localhost:8080/"
    },
    "executionInfo": {
     "elapsed": 487,
     "status": "ok",
     "timestamp": 1690436530099,
     "user": {
      "displayName": "YK CHA",
      "userId": "13863917908140273125"
     },
     "user_tz": -540
    },
    "id": "jIgOL-8BeUhH",
    "outputId": "acca2585-f881-4e99-cdf2-ce8f73208d6f"
   },
   "outputs": [],
   "source": [
    "# 학습된 DNN을 활용하여 테스트 셋 예측\n",
    "Y_scaled_train_pred = dnn_model.predict(X_scaled_train)\n",
    "Y_scaled_test_pred = dnn_model.predict(X_scaled_test)"
   ]
  },
  {
   "cell_type": "code",
   "execution_count": null,
   "metadata": {
    "colab": {
     "base_uri": "https://localhost:8080/"
    },
    "executionInfo": {
     "elapsed": 4,
     "status": "ok",
     "timestamp": 1690436530099,
     "user": {
      "displayName": "YK CHA",
      "userId": "13863917908140273125"
     },
     "user_tz": -540
    },
    "id": "n8bfJPjrfCO6",
    "outputId": "b0b701c9-9024-44ec-9b01-799876196b38"
   },
   "outputs": [],
   "source": [
    "# DNN 학습 성능 평가 for train\n",
    "mse_train = mean_squared_error(Y_scaled_train, Y_scaled_train_pred)\n",
    "print(\"MSE_train:\", mse_train)\n",
    "r2_train = r2_score(Y_scaled_train, Y_scaled_train_pred)\n",
    "print(\"R-squared_train:\", r2_train)\n",
    "\n",
    "# DNN 학습 성능 평가 for test\n",
    "mse_test = mean_squared_error(Y_scaled_test, Y_scaled_test_pred)\n",
    "print(\"MSE_test:\", mse_test)\n",
    "r2_test = r2_score(Y_scaled_test, Y_scaled_test_pred)\n",
    "print(\"R-squared_test:\", r2_test)"
   ]
  },
  {
   "cell_type": "code",
   "execution_count": null,
   "metadata": {
    "colab": {
     "base_uri": "https://localhost:8080/",
     "height": 410
    },
    "executionInfo": {
     "elapsed": 1258,
     "status": "ok",
     "timestamp": 1690436531354,
     "user": {
      "displayName": "YK CHA",
      "userId": "13863917908140273125"
     },
     "user_tz": -540
    },
    "id": "OGVbPX5BfOtx",
    "outputId": "ab6abf42-590f-4a52-ed1f-75fe2c400151"
   },
   "outputs": [],
   "source": [
    "# 예측 값과 실제 값 비교를 위한 데이터 준비\n",
    "plt.figure(figsize=(15, 4))  # 그래프 크기 설정\n",
    "\n",
    "# 실제 값과 예측 값 비교를 위한 plot for test dataset\n",
    "plt.subplot(1,3,1)\n",
    "plt.scatter(Y_scaled_train_pred, Y_scaled_train, c='orange', alpha=0.5)\n",
    "# x=y 그리기\n",
    "min_val = min(min(Y_scaled_test_pred), min(Y_scaled_test))\n",
    "max_val = max(max(Y_scaled_test_pred), max(Y_scaled_test))\n",
    "plt.plot([min_val, max_val], [min_val, max_val], color='black', linestyle='-')\n",
    "# plot\n",
    "plt.title(\"Deep Neural Network\")\n",
    "plt.xlabel(\"Predicted value\")\n",
    "plt.ylabel(\"Actual value\")\n",
    "plt.legend(['Test dataset','x=y'])\n",
    "\n",
    "# 실제 값과 예측 값 비교를 위한 plot for training dataset\n",
    "plt.subplot(1,3,2)\n",
    "plt.scatter(Y_scaled_test_pred, Y_scaled_test, c='blue', alpha=0.5)\n",
    "# x=y 그리기\n",
    "min_val = min(min(Y_scaled_test_pred), min(Y_scaled_test))\n",
    "max_val = max(max(Y_scaled_test_pred), max(Y_scaled_test))\n",
    "plt.plot([min_val, max_val], [min_val, max_val], color='black', linestyle='-')\n",
    "# plot\n",
    "plt.title(\"Deep Neural Network\")\n",
    "plt.xlabel(\"Predicted value\")\n",
    "plt.ylabel(\"Actual value\")\n",
    "plt.legend(['Training dataset','x=y'])\n",
    "\n",
    "# 실제 값과 예측 값 비교를 위한 plot for training dataset\n",
    "plt.subplot(1,3,3)\n",
    "plt.scatter(Y_scaled_train_pred, Y_scaled_train, c='orange', alpha=0.5)\n",
    "plt.scatter(Y_scaled_test_pred, Y_scaled_test, c='blue', alpha=0.5)\n",
    "# x=y 그리기\n",
    "min_val = min(min(Y_scaled_test_pred), min(Y_scaled_test))\n",
    "max_val = max(max(Y_scaled_test_pred), max(Y_scaled_test))\n",
    "plt.plot([min_val, max_val], [min_val, max_val], color='black', linestyle='-')\n",
    "# plot\n",
    "plt.title(\"Deep Neural Network\")\n",
    "plt.xlabel(\"Predicted value\")\n",
    "plt.ylabel(\"Actual value\")\n",
    "plt.legend(['Test dataset','Training dataset','x=y'])\n",
    "\n",
    "plt.show()"
   ]
  },
  {
   "cell_type": "code",
   "execution_count": null,
   "metadata": {
    "colab": {
     "base_uri": "https://localhost:8080/",
     "height": 451
    },
    "executionInfo": {
     "elapsed": 10,
     "status": "ok",
     "timestamp": 1690436531354,
     "user": {
      "displayName": "YK CHA",
      "userId": "13863917908140273125"
     },
     "user_tz": -540
    },
    "id": "O8geAm0JfjCd",
    "outputId": "5788bd2e-7e4f-4a90-fa64-aab8434753bf"
   },
   "outputs": [],
   "source": [
    "# 손실 그래프\n",
    "plt.plot(hist.history['loss'], label='Train Loss')\n",
    "plt.xlabel('Epochs')\n",
    "plt.ylabel('Loss')\n",
    "plt.legend()\n",
    "plt.show()"
   ]
  },
  {
   "cell_type": "code",
   "execution_count": null,
   "metadata": {},
   "outputs": [],
   "source": []
  }
 ],
 "metadata": {
  "accelerator": "GPU",
  "colab": {
   "gpuType": "T4",
   "provenance": []
  },
  "kernelspec": {
   "display_name": "Python 3 (ipykernel)",
   "language": "python",
   "name": "python3"
  },
  "language_info": {
   "codemirror_mode": {
    "name": "ipython",
    "version": 3
   },
   "file_extension": ".py",
   "mimetype": "text/x-python",
   "name": "python",
   "nbconvert_exporter": "python",
   "pygments_lexer": "ipython3",
   "version": "3.11.5"
  }
 },
 "nbformat": 4,
 "nbformat_minor": 1
}
