{
 "cells": [
  {
   "cell_type": "markdown",
   "metadata": {
    "id": "2WC07KZJYNTx"
   },
   "source": [
    "# **Ch 0. 초기 설정 및 라이브러리 불러오기**"
   ]
  },
  {
   "cell_type": "code",
   "execution_count": null,
   "metadata": {
    "colab": {
     "base_uri": "https://localhost:8080/"
    },
    "executionInfo": {
     "elapsed": 25832,
     "status": "ok",
     "timestamp": 1690438389869,
     "user": {
      "displayName": "YK CHA",
      "userId": "13863917908140273125"
     },
     "user_tz": -540
    },
    "id": "1GpDZ5zhBPLe",
    "outputId": "9137054e-42f0-4c8b-8dc7-0cc15fa5f57d"
   },
   "outputs": [],
   "source": [
    "# 구글 드라이브로부터 데이터 불러오기\n",
    "# from google.colab import drive\n",
    "# drive.mount('/content/gdrive')\n",
    "\n",
    "# 변수 저장/불러오기\n",
    "import pickle\n",
    "\n",
    "# 학습/평가 데이터 분할\n",
    "from sklearn.model_selection import train_test_split\n",
    "\n",
    "# 학습 결과 평가\n",
    "from sklearn.metrics import mean_squared_error, r2_score\n",
    "\n",
    "# 시각화\n",
    "import matplotlib.pyplot as plt"
   ]
  },
  {
   "cell_type": "code",
   "execution_count": null,
   "metadata": {
    "colab": {
     "base_uri": "https://localhost:8080/"
    },
    "executionInfo": {
     "elapsed": 9,
     "status": "ok",
     "timestamp": 1690438389870,
     "user": {
      "displayName": "YK CHA",
      "userId": "13863917908140273125"
     },
     "user_tz": -540
    },
    "id": "UblrlWIpBmI8",
    "outputId": "2927d582-27b2-4afc-9069-aa58db174811"
   },
   "outputs": [],
   "source": [
    "# %cd /..\n",
    "# %cd content/gdrive/MyDrive/hanon_1st\n",
    "\n",
    "# Additional command for the diriectory\n",
    "# !pwd : 현재 directory 확인\n",
    "# !ls  : 현재 directory 에서의 파일들 확인"
   ]
  },
  {
   "cell_type": "code",
   "execution_count": null,
   "metadata": {
    "executionInfo": {
     "elapsed": 758,
     "status": "ok",
     "timestamp": 1690438390624,
     "user": {
      "displayName": "YK CHA",
      "userId": "13863917908140273125"
     },
     "user_tz": -540
    },
    "id": "R2JX063GTVae"
   },
   "outputs": [],
   "source": [
    "# 변수 불러오기\n",
    "with open(\"Heat_Exchanger_pp.pkl\", \"rb\") as file:\n",
    "    X_scaled, Y_scaled, scaler_X, scaler_Y = pickle.load(file)"
   ]
  },
  {
   "cell_type": "markdown",
   "metadata": {
    "id": "YuWNjwQGN5Uf"
   },
   "source": [
    "# **Ch 1. Support Vector Regression (SVR)**"
   ]
  },
  {
   "cell_type": "markdown",
   "metadata": {
    "id": "wzPWgS3ymLPw"
   },
   "source": [
    "## Ch 1-1. 모델 생성 및 학습\n"
   ]
  },
  {
   "cell_type": "code",
   "execution_count": null,
   "metadata": {
    "executionInfo": {
     "elapsed": 13,
     "status": "ok",
     "timestamp": 1690438390624,
     "user": {
      "displayName": "YK CHA",
      "userId": "13863917908140273125"
     },
     "user_tz": -540
    },
    "id": "y_FdQRdZN4ZK"
   },
   "outputs": [],
   "source": [
    "# SVR 불러오기\n",
    "from sklearn.svm import SVR"
   ]
  },
  {
   "cell_type": "code",
   "execution_count": null,
   "metadata": {
    "executionInfo": {
     "elapsed": 11,
     "status": "ok",
     "timestamp": 1690438390624,
     "user": {
      "displayName": "YK CHA",
      "userId": "13863917908140273125"
     },
     "user_tz": -540
    },
    "id": "7JYoKKPnoXGn"
   },
   "outputs": [],
   "source": [
    "# 데이터를 학습용과 테스트용으로 분리\n",
    "X_scaled_train, X_scaled_test, Y_scaled_train, Y_scaled_test = train_test_split(X_scaled, Y_scaled, test_size=0.3, random_state=42)"
   ]
  },
  {
   "cell_type": "code",
   "execution_count": null,
   "metadata": {},
   "outputs": [],
   "source": [
    "# print(X_scaled_train.shape)\n",
    "# print(Y_scaled_train.shape)\n",
    "# Y_scaled_train = Y_scaled_train.reshape(-1, )\n",
    "# print(Y_scaled_train.shape)\n",
    "\n",
    "# print(X_scaled_test.shape)\n",
    "# print(Y_scaled_test.shape)\n",
    "# print(X_scaled.shape)\n",
    "# print(Y_scaled.shape)\n",
    "# print(scaler_X)\n",
    "# print(scaler_Y)\n",
    "# scaler_X\n",
    "# scaler_Y\n",
    "# print(X_scaled_train)\n",
    "# X_scaled_train\n",
    "# print(Y_scaled_train)\n",
    "# Y_scaled_train"
   ]
  },
  {
   "cell_type": "code",
   "execution_count": null,
   "metadata": {
    "colab": {
     "base_uri": "https://localhost:8080/",
     "height": 0
    },
    "executionInfo": {
     "elapsed": 11,
     "status": "ok",
     "timestamp": 1690438390625,
     "user": {
      "displayName": "YK CHA",
      "userId": "13863917908140273125"
     },
     "user_tz": -540
    },
    "id": "AMmHrRm0OJnZ",
    "outputId": "e34cbd40-cc64-4f16-aea9-286a48ef0748"
   },
   "outputs": [],
   "source": [
    "# SVR 학습\n",
    "# https://scikit-learn.org/stable/modules/generated/sklearn.svm.SVR.html\n",
    "svm_model = SVR(kernel='linear')\n",
    "#svm_model = SVR(kernel='rbf')\n",
    "# Default parameters for SVR\n",
    "# svm_model = SVR(kernel='rbf', degree=3, gamma='scale', coef0=0.0, tol=0.001, C=1.0, epsilon=0.1, shrinking=True, cache_size=200, verbose=False, max_iter=-1)\n",
    "svm_model.fit(X_scaled_train, Y_scaled_train.)"
   ]
  },
  {
   "cell_type": "markdown",
   "metadata": {
    "id": "U_6szSXAmUdP"
   },
   "source": [
    "## Ch 1-2. 모델 평가"
   ]
  },
  {
   "cell_type": "code",
   "execution_count": null,
   "metadata": {
    "executionInfo": {
     "elapsed": 9,
     "status": "ok",
     "timestamp": 1690438391155,
     "user": {
      "displayName": "YK CHA",
      "userId": "13863917908140273125"
     },
     "user_tz": -540
    },
    "id": "b-yz-SyMOk8k"
   },
   "outputs": [],
   "source": [
    "# 학습된 SVR을 활용하여 테스트 셋 예측\n",
    "Y_scaled_train_pred = svm_model.predict(X_scaled_train)\n",
    "Y_scaled_test_pred = svm_model.predict(X_scaled_test)"
   ]
  },
  {
   "cell_type": "code",
   "execution_count": null,
   "metadata": {
    "colab": {
     "base_uri": "https://localhost:8080/"
    },
    "executionInfo": {
     "elapsed": 9,
     "status": "ok",
     "timestamp": 1690438391156,
     "user": {
      "displayName": "YK CHA",
      "userId": "13863917908140273125"
     },
     "user_tz": -540
    },
    "id": "g881bub7Oq1P",
    "outputId": "f76c29b2-724c-48e3-c99c-0eac40a0453b"
   },
   "outputs": [],
   "source": [
    "# SVR 학습 성능 평가\n",
    "mse_train = mean_squared_error(Y_scaled_train, Y_scaled_train_pred)\n",
    "print(\"MSE_train:\", mse_train)\n",
    "r2_train = r2_score(Y_scaled_train, Y_scaled_train_pred)\n",
    "print(\"R-squared_train:\", r2_train)\n",
    "\n",
    "mse_test = mean_squared_error(Y_scaled_test, Y_scaled_test_pred)\n",
    "print(\"MSE_test:\", mse_test)\n",
    "r2_test = r2_score(Y_scaled_test, Y_scaled_test_pred)\n",
    "print(\"R-squared_test:\", r2_test)"
   ]
  },
  {
   "cell_type": "code",
   "execution_count": null,
   "metadata": {},
   "outputs": [],
   "source": [
    "# 예측 값과 실제 값 비교를 위한 데이터 준비\n",
    "plt.figure(figsize=(15, 4))  # 그래프 크기 설정\n",
    "\n",
    "# 실제 값과 예측 값 비교를 위한 plot for test dataset\n",
    "plt.subplot(1,3,1)\n",
    "plt.scatter(Y_scaled_train_pred, Y_scaled_train, c='orange', alpha=0.5)\n",
    "# x=y 그리기\n",
    "min_val = min(min(Y_scaled_test_pred), min(Y_scaled_test))\n",
    "# print(min_val.shape)\n",
    "# min_val = min_val.reshape(-1, )\n",
    "print(min_val.shape)\n",
    "print(max_val.shape)\n",
    "max_val = max(max(Y_scaled_test_pred), max(Y_scaled_test))\n",
    "print(max_val.shape)\n",
    "max_val = max_val.reshape(-1, )\n",
    "print(max_val.shape)\n"
   ]
  },
  {
   "cell_type": "code",
   "execution_count": null,
   "metadata": {
    "colab": {
     "base_uri": "https://localhost:8080/",
     "height": 466
    },
    "executionInfo": {
     "elapsed": 1127,
     "status": "ok",
     "timestamp": 1690438392275,
     "user": {
      "displayName": "YK CHA",
      "userId": "13863917908140273125"
     },
     "user_tz": -540
    },
    "id": "iBqf_AFnpktt",
    "outputId": "f14eae0e-1733-481f-dd06-cb36c3042350"
   },
   "outputs": [],
   "source": [
    "# 예측 값과 실제 값 비교를 위한 데이터 준비\n",
    "plt.figure(figsize=(15, 4))  # 그래프 크기 설정\n",
    "\n",
    "# 실제 값과 예측 값 비교를 위한 plot for test dataset\n",
    "plt.subplot(1,3,1)\n",
    "plt.scatter(Y_scaled_train_pred, Y_scaled_train, c='orange', alpha=0.5)\n",
    "# x=y 그리기\n",
    "min_val = min(min(Y_scaled_test_pred), min(Y_scaled_test))\n",
    "max_val = max(max(Y_scaled_test_pred), max(Y_scaled_test))\n",
    "max_val = max_val.reshape(-1, ) # 수정\n",
    "\n",
    "plt.plot([min_val, max_val], [min_val, max_val], color='black', linestyle='-')\n",
    "# plot\n",
    "plt.title(\"Support Vector Regression\")\n",
    "plt.xlabel(\"Predicted value\")\n",
    "plt.ylabel(\"Actual value\")\n",
    "plt.legend(['Test dataset','x=y'])\n",
    "\n",
    "# 실제 값과 예측 값 비교를 위한 plot for training dataset\n",
    "plt.subplot(1,3,2)\n",
    "plt.scatter(Y_scaled_test_pred, Y_scaled_test, c='blue', alpha=0.5)\n",
    "# x=y 그리기\n",
    "min_val = min(min(Y_scaled_test_pred), min(Y_scaled_test))\n",
    "max_val = max(max(Y_scaled_test_pred), max(Y_scaled_test))\n",
    "max_val = max_val.reshape(-1, ) # 수정\n",
    "\n",
    "plt.plot([min_val, max_val], [min_val, max_val], color='black', linestyle='-')\n",
    "# plot\n",
    "plt.title(\"Support Vector Regression\")\n",
    "plt.xlabel(\"Predicted value\")\n",
    "plt.ylabel(\"Actual value\")\n",
    "plt.legend(['Training dataset','x=y'])\n",
    "\n",
    "# 실제 값과 예측 값 비교를 위한 plot for training dataset\n",
    "plt.subplot(1,3,3)\n",
    "plt.scatter(Y_scaled_train_pred, Y_scaled_train, c='orange', alpha=0.5)\n",
    "plt.scatter(Y_scaled_test_pred, Y_scaled_test, c='blue', alpha=0.5)\n",
    "# x=y 그리기\n",
    "min_val = min(min(Y_scaled_test_pred), min(Y_scaled_test))\n",
    "max_val = max(max(Y_scaled_test_pred), max(Y_scaled_test))\n",
    "max_val = max_val.reshape(-1, ) # 수정\n",
    "\n",
    "plt.plot([min_val, max_val], [min_val, max_val], color='black', linestyle='-')\n",
    "# plot\n",
    "plt.title(\"Support Vector Regression\")\n",
    "plt.xlabel(\"Predicted value\")\n",
    "plt.ylabel(\"Actual value\")\n",
    "plt.legend(['Test dataset','Training dataset','x=y'])\n",
    "\n",
    "plt.show()"
   ]
  },
  {
   "cell_type": "markdown",
   "metadata": {
    "id": "eD5tVFmvaXpr"
   },
   "source": [
    "# **Ch 2. Random Forest Regression (RFR)**\n"
   ]
  },
  {
   "cell_type": "markdown",
   "metadata": {
    "id": "fEf6cQhm_8oX"
   },
   "source": [
    "## Ch 2-1. 모델 생성 및 학습"
   ]
  },
  {
   "cell_type": "code",
   "execution_count": null,
   "metadata": {
    "executionInfo": {
     "elapsed": 1386,
     "status": "ok",
     "timestamp": 1690438393656,
     "user": {
      "displayName": "YK CHA",
      "userId": "13863917908140273125"
     },
     "user_tz": -540
    },
    "id": "iMcEbFdtahWw"
   },
   "outputs": [],
   "source": [
    "from sklearn.ensemble import RandomForestRegressor"
   ]
  },
  {
   "cell_type": "code",
   "execution_count": null,
   "metadata": {
    "colab": {
     "base_uri": "https://localhost:8080/",
     "height": 0
    },
    "executionInfo": {
     "elapsed": 17,
     "status": "ok",
     "timestamp": 1690438393657,
     "user": {
      "displayName": "YK CHA",
      "userId": "13863917908140273125"
     },
     "user_tz": -540
    },
    "id": "S58oJJ4lalTS",
    "outputId": "8fbc1ac4-7479-4813-e016-fb7fd8574ead"
   },
   "outputs": [],
   "source": [
    "# https://scikit-learn.org/stable/modules/generated/sklearn.ensemble.RandomForestRegressor.html\n",
    "rfr_model = RandomForestRegressor(n_estimators=5)\n",
    "# rfr_model = RandomForestRegressor(n_estimators=100, criterion='squared_error', max_depth=None, min_samples_split=2, min_samples_leaf=1, min_weight_fraction_leaf=0.0, max_features=1.0, max_leaf_nodes=None, min_impurity_decrease=0.0, bootstrap=True, oob_score=False, n_jobs=None, random_state=None, verbose=0, warm_start=False, ccp_alpha=0.0, max_samples=None)[source]\n",
    "\n",
    "rfr_model.fit(X_scaled_train, Y_scaled_train)"
   ]
  },
  {
   "cell_type": "markdown",
   "metadata": {
    "id": "U0pv64CKAAgR"
   },
   "source": [
    "## Ch 2-2. 모델 평가"
   ]
  },
  {
   "cell_type": "code",
   "execution_count": null,
   "metadata": {
    "executionInfo": {
     "elapsed": 13,
     "status": "ok",
     "timestamp": 1690438393657,
     "user": {
      "displayName": "YK CHA",
      "userId": "13863917908140273125"
     },
     "user_tz": -540
    },
    "id": "l77HOMHBarDh"
   },
   "outputs": [],
   "source": [
    "# 학습된 RFR을 활용하여 테스트 셋 예측\n",
    "Y_scaled_train_pred = rfr_model.predict(X_scaled_train)\n",
    "Y_scaled_test_pred = rfr_model.predict(X_scaled_test)"
   ]
  },
  {
   "cell_type": "code",
   "execution_count": null,
   "metadata": {
    "colab": {
     "base_uri": "https://localhost:8080/"
    },
    "executionInfo": {
     "elapsed": 13,
     "status": "ok",
     "timestamp": 1690438393658,
     "user": {
      "displayName": "YK CHA",
      "userId": "13863917908140273125"
     },
     "user_tz": -540
    },
    "id": "Vc3rJBh7awzg",
    "outputId": "35007069-8e79-4427-8e50-d12d8cdd24f2"
   },
   "outputs": [],
   "source": [
    "# RFR 학습 성능 평가 for train\n",
    "mse_train = mean_squared_error(Y_scaled_train, Y_scaled_train_pred)\n",
    "print(\"MSE_train:\", mse_train)\n",
    "r2_train = r2_score(Y_scaled_train, Y_scaled_train_pred)\n",
    "print(\"R-squared_train:\", r2_train)\n",
    "\n",
    "# RFR 학습 성능 평가 for test\n",
    "mse_test = mean_squared_error(Y_scaled_test, Y_scaled_test_pred)\n",
    "print(\"MSE_test:\", mse_test)\n",
    "r2_test = r2_score(Y_scaled_test, Y_scaled_test_pred)\n",
    "print(\"R-squared_test:\", r2_test)"
   ]
  },
  {
   "cell_type": "code",
   "execution_count": null,
   "metadata": {
    "colab": {
     "base_uri": "https://localhost:8080/",
     "height": 410
    },
    "executionInfo": {
     "elapsed": 12,
     "status": "ok",
     "timestamp": 1690438393658,
     "user": {
      "displayName": "YK CHA",
      "userId": "13863917908140273125"
     },
     "user_tz": -540
    },
    "id": "v2jViPFQa1iA",
    "outputId": "0b1caad3-7ac9-4499-9dc9-f15fcf1abe14"
   },
   "outputs": [],
   "source": [
    "# 예측 값과 실제 값 비교를 위한 데이터 준비\n",
    "plt.figure(figsize=(15, 4))  # 그래프 크기 설정\n",
    "\n",
    "# 실제 값과 예측 값 비교를 위한 plot for test dataset\n",
    "plt.subplot(1,3,1)\n",
    "plt.scatter(Y_scaled_train_pred, Y_scaled_train, c='orange', alpha=0.5)\n",
    "# x=y 그리기\n",
    "min_val = min(min(Y_scaled_test_pred), min(Y_scaled_test))\n",
    "max_val = max(max(Y_scaled_test_pred), max(Y_scaled_test))\n",
    "plt.plot([min_val, max_val], [min_val, max_val], color='black', linestyle='-')\n",
    "# plot\n",
    "plt.title(\"Support Vector Regression\")\n",
    "plt.xlabel(\"Predicted value\")\n",
    "plt.ylabel(\"Actual value\")\n",
    "plt.legend(['Test dataset','x=y'])\n",
    "\n",
    "# 실제 값과 예측 값 비교를 위한 plot for training dataset\n",
    "plt.subplot(1,3,2)\n",
    "plt.scatter(Y_scaled_test_pred, Y_scaled_test, c='blue', alpha=0.5)\n",
    "# x=y 그리기\n",
    "min_val = min(min(Y_scaled_test_pred), min(Y_scaled_test))\n",
    "max_val = max(max(Y_scaled_test_pred), max(Y_scaled_test))\n",
    "plt.plot([min_val, max_val], [min_val, max_val], color='black', linestyle='-')\n",
    "# plot\n",
    "plt.title(\"Support Vector Regression\")\n",
    "plt.xlabel(\"Predicted value\")\n",
    "plt.ylabel(\"Actual value\")\n",
    "plt.legend(['Training dataset','x=y'])\n",
    "\n",
    "# 실제 값과 예측 값 비교를 위한 plot for training dataset\n",
    "plt.subplot(1,3,3)\n",
    "plt.scatter(Y_scaled_train_pred, Y_scaled_train, c='orange', alpha=0.5)\n",
    "plt.scatter(Y_scaled_test_pred, Y_scaled_test, c='blue', alpha=0.5)\n",
    "# x=y 그리기\n",
    "min_val = min(min(Y_scaled_test_pred), min(Y_scaled_test))\n",
    "max_val = max(max(Y_scaled_test_pred), max(Y_scaled_test))\n",
    "plt.plot([min_val, max_val], [min_val, max_val], color='black', linestyle='-')\n",
    "# plot\n",
    "plt.title(\"Support Vector Regression\")\n",
    "plt.xlabel(\"Predicted value\")\n",
    "plt.ylabel(\"Actual value\")\n",
    "plt.legend(['Test dataset','Training dataset','x=y'])\n",
    "\n",
    "plt.show()"
   ]
  },
  {
   "cell_type": "markdown",
   "metadata": {
    "id": "zUXNHR3KAk7n"
   },
   "source": [
    "## Ch 2-3. 결정트리 시각화"
   ]
  },
  {
   "cell_type": "code",
   "execution_count": null,
   "metadata": {
    "executionInfo": {
     "elapsed": 11,
     "status": "ok",
     "timestamp": 1690438393658,
     "user": {
      "displayName": "YK CHA",
      "userId": "13863917908140273125"
     },
     "user_tz": -540
    },
    "id": "d-gsm2-KFyWv"
   },
   "outputs": [],
   "source": [
    "# 결정트리 시각화\n",
    "import graphviz\n",
    "from sklearn import tree"
   ]
  },
  {
   "cell_type": "code",
   "execution_count": null,
   "metadata": {
    "executionInfo": {
     "elapsed": 712,
     "status": "ok",
     "timestamp": 1690438394359,
     "user": {
      "displayName": "YK CHA",
      "userId": "13863917908140273125"
     },
     "user_tz": -540
    },
    "id": "WKR3OK9EF2dY"
   },
   "outputs": [],
   "source": [
    "# 개별 트리 시각화\n",
    "for i, estimator in enumerate(rfr_model.estimators_):\n",
    "    dot_data = tree.export_graphviz(estimator, out_file=None,\n",
    "                                    filled=True, rounded=True,\n",
    "                                    special_characters=True)\n",
    "    graph = graphviz.Source(dot_data)\n",
    "    graph.view(filename=f\"tree2_{i+1}\")"
   ]
  },
  {
   "cell_type": "code",
   "execution_count": null,
   "metadata": {
    "colab": {
     "base_uri": "https://localhost:8080/",
     "height": 0
    },
    "executionInfo": {
     "elapsed": 1287,
     "status": "ok",
     "timestamp": 1690438395642,
     "user": {
      "displayName": "YK CHA",
      "userId": "13863917908140273125"
     },
     "user_tz": -540
    },
    "id": "5501CpitI8Ps",
    "outputId": "672b6bbb-675b-4f8e-c32d-fc2b3694af61"
   },
   "outputs": [],
   "source": [
    "display(graphviz.Source(dot_data))"
   ]
  },
  {
   "cell_type": "markdown",
   "metadata": {
    "id": "6vH3hEu1d2er"
   },
   "source": [
    "# **Ch 3. Deep Neural Network (DNN)**\n"
   ]
  },
  {
   "cell_type": "markdown",
   "metadata": {
    "id": "BpPfUkKeY-61"
   },
   "source": [
    "## Ch 3-1. 모델 생성 및 학습"
   ]
  },
  {
   "cell_type": "code",
   "execution_count": null,
   "metadata": {
    "executionInfo": {
     "elapsed": 2184,
     "status": "ok",
     "timestamp": 1690438397821,
     "user": {
      "displayName": "YK CHA",
      "userId": "13863917908140273125"
     },
     "user_tz": -540
    },
    "id": "f7PQcc_FbpB7"
   },
   "outputs": [],
   "source": [
    "import tensorflow as tf"
   ]
  },
  {
   "cell_type": "code",
   "execution_count": null,
   "metadata": {
    "colab": {
     "base_uri": "https://localhost:8080/"
    },
    "executionInfo": {
     "elapsed": 14596,
     "status": "ok",
     "timestamp": 1690438412413,
     "user": {
      "displayName": "YK CHA",
      "userId": "13863917908140273125"
     },
     "user_tz": -540
    },
    "id": "G16N95KYd-AL",
    "outputId": "cd895811-4930-4eac-857e-026d48716357"
   },
   "outputs": [],
   "source": [
    "dnn_model = tf.keras.models.Sequential([\n",
    "    tf.keras.layers.Dense(64, activation='relu', input_shape=(X_scaled_train.shape[1],)),\n",
    "    tf.keras.layers.Dense(64, activation='relu'),\n",
    "    tf.keras.layers.Dense(1)\n",
    "])\n",
    "dnn_model.compile(loss='mean_squared_error', optimizer='adam')\n",
    "\n",
    "hist=dnn_model.fit(X_scaled_train, Y_scaled_train, epochs=50, batch_size=32, verbose=1)"
   ]
  },
  {
   "cell_type": "markdown",
   "metadata": {
    "id": "uX9xf7-jZKGE"
   },
   "source": [
    "## Ch 3-2. 모델 평가"
   ]
  },
  {
   "cell_type": "code",
   "execution_count": null,
   "metadata": {
    "colab": {
     "base_uri": "https://localhost:8080/"
    },
    "executionInfo": {
     "elapsed": 10,
     "status": "ok",
     "timestamp": 1690438412414,
     "user": {
      "displayName": "YK CHA",
      "userId": "13863917908140273125"
     },
     "user_tz": -540
    },
    "id": "jIgOL-8BeUhH",
    "outputId": "d70e5e35-a296-416e-f830-5e03bb18fa86"
   },
   "outputs": [],
   "source": [
    "# 학습된 DNN을 활용하여 테스트 셋 예측\n",
    "Y_scaled_train_pred = dnn_model.predict(X_scaled_train)\n",
    "Y_scaled_test_pred = dnn_model.predict(X_scaled_test)"
   ]
  },
  {
   "cell_type": "code",
   "execution_count": null,
   "metadata": {
    "colab": {
     "base_uri": "https://localhost:8080/"
    },
    "executionInfo": {
     "elapsed": 8,
     "status": "ok",
     "timestamp": 1690438412416,
     "user": {
      "displayName": "YK CHA",
      "userId": "13863917908140273125"
     },
     "user_tz": -540
    },
    "id": "n8bfJPjrfCO6",
    "outputId": "47089e55-90c8-4ea6-d27f-5e259013905f"
   },
   "outputs": [],
   "source": [
    "# DNN 학습 성능 평가 for train\n",
    "mse_train = mean_squared_error(Y_scaled_train, Y_scaled_train_pred)\n",
    "print(\"MSE_train:\", mse_train)\n",
    "r2_train = r2_score(Y_scaled_train, Y_scaled_train_pred)\n",
    "print(\"R-squared_train:\", r2_train)\n",
    "\n",
    "# DNN 학습 성능 평가 for test\n",
    "mse_test = mean_squared_error(Y_scaled_test, Y_scaled_test_pred)\n",
    "print(\"MSE_test:\", mse_test)\n",
    "r2_test = r2_score(Y_scaled_test, Y_scaled_test_pred)\n",
    "print(\"R-squared_test:\", r2_test)"
   ]
  },
  {
   "cell_type": "code",
   "execution_count": null,
   "metadata": {
    "colab": {
     "base_uri": "https://localhost:8080/",
     "height": 410
    },
    "executionInfo": {
     "elapsed": 1882,
     "status": "ok",
     "timestamp": 1690438414292,
     "user": {
      "displayName": "YK CHA",
      "userId": "13863917908140273125"
     },
     "user_tz": -540
    },
    "id": "OGVbPX5BfOtx",
    "outputId": "9effaddc-e003-44c2-fa8e-355a22ca1ced"
   },
   "outputs": [],
   "source": [
    "# 예측 값과 실제 값 비교를 위한 데이터 준비\n",
    "plt.figure(figsize=(15, 4))  # 그래프 크기 설정\n",
    "\n",
    "# 실제 값과 예측 값 비교를 위한 plot for test dataset\n",
    "plt.subplot(1,3,1)\n",
    "plt.scatter(Y_scaled_train_pred, Y_scaled_train, c='orange', alpha=0.5)\n",
    "# x=y 그리기\n",
    "min_val = min(min(Y_scaled_test_pred), min(Y_scaled_test))\n",
    "max_val = max(max(Y_scaled_test_pred), max(Y_scaled_test))\n",
    "plt.plot([min_val, max_val], [min_val, max_val], color='black', linestyle='-')\n",
    "# plot\n",
    "plt.title(\"Support Vector Regression\")\n",
    "plt.xlabel(\"Predicted value\")\n",
    "plt.ylabel(\"Actual value\")\n",
    "plt.legend(['Test dataset','x=y'])\n",
    "\n",
    "# 실제 값과 예측 값 비교를 위한 plot for training dataset\n",
    "plt.subplot(1,3,2)\n",
    "plt.scatter(Y_scaled_test_pred, Y_scaled_test, c='blue', alpha=0.5)\n",
    "# x=y 그리기\n",
    "min_val = min(min(Y_scaled_test_pred), min(Y_scaled_test))\n",
    "max_val = max(max(Y_scaled_test_pred), max(Y_scaled_test))\n",
    "plt.plot([min_val, max_val], [min_val, max_val], color='black', linestyle='-')\n",
    "# plot\n",
    "plt.title(\"Support Vector Regression\")\n",
    "plt.xlabel(\"Predicted value\")\n",
    "plt.ylabel(\"Actual value\")\n",
    "plt.legend(['Training dataset','x=y'])\n",
    "\n",
    "# 실제 값과 예측 값 비교를 위한 plot for training dataset\n",
    "plt.subplot(1,3,3)\n",
    "plt.scatter(Y_scaled_train_pred, Y_scaled_train, c='orange', alpha=0.5)\n",
    "plt.scatter(Y_scaled_test_pred, Y_scaled_test, c='blue', alpha=0.5)\n",
    "# x=y 그리기\n",
    "min_val = min(min(Y_scaled_test_pred), min(Y_scaled_test))\n",
    "max_val = max(max(Y_scaled_test_pred), max(Y_scaled_test))\n",
    "plt.plot([min_val, max_val], [min_val, max_val], color='black', linestyle='-')\n",
    "# plot\n",
    "plt.title(\"Support Vector Regression\")\n",
    "plt.xlabel(\"Predicted value\")\n",
    "plt.ylabel(\"Actual value\")\n",
    "plt.legend(['Test dataset','Training dataset','x=y'])\n",
    "\n",
    "plt.show()"
   ]
  },
  {
   "cell_type": "code",
   "execution_count": null,
   "metadata": {
    "colab": {
     "base_uri": "https://localhost:8080/",
     "height": 449
    },
    "executionInfo": {
     "elapsed": 924,
     "status": "ok",
     "timestamp": 1690438415211,
     "user": {
      "displayName": "YK CHA",
      "userId": "13863917908140273125"
     },
     "user_tz": -540
    },
    "id": "O8geAm0JfjCd",
    "outputId": "d50735fd-125a-43be-819d-95e014b519fe"
   },
   "outputs": [],
   "source": [
    "# 손실 그래프\n",
    "plt.plot(hist.history['loss'], label='Train Loss')\n",
    "plt.xlabel('Epochs')\n",
    "plt.ylabel('Loss')\n",
    "plt.legend()\n",
    "plt.show()"
   ]
  },
  {
   "cell_type": "code",
   "execution_count": null,
   "metadata": {},
   "outputs": [],
   "source": []
  }
 ],
 "metadata": {
  "accelerator": "GPU",
  "colab": {
   "collapsed_sections": [
    "wzPWgS3ymLPw",
    "fEf6cQhm_8oX",
    "zUXNHR3KAk7n",
    "qiV0fMNkAoqP",
    "BpPfUkKeY-61"
   ],
   "gpuType": "T4",
   "provenance": []
  },
  "kernelspec": {
   "display_name": "Python 3 (ipykernel)",
   "language": "python",
   "name": "python3"
  },
  "language_info": {
   "codemirror_mode": {
    "name": "ipython",
    "version": 3
   },
   "file_extension": ".py",
   "mimetype": "text/x-python",
   "name": "python",
   "nbconvert_exporter": "python",
   "pygments_lexer": "ipython3",
   "version": "3.11.3"
  }
 },
 "nbformat": 4,
 "nbformat_minor": 1
}
