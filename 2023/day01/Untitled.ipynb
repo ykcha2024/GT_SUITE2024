{
 "cells": [
  {
   "cell_type": "code",
   "execution_count": null,
   "id": "5420a5ea",
   "metadata": {},
   "outputs": [],
   "source": []
  },
  {
   "cell_type": "code",
   "execution_count": 12,
   "id": "0806c8f3",
   "metadata": {},
   "outputs": [
    {
     "name": "stdout",
     "output_type": "stream",
     "text": [
      "best parameters :  {'max_depth': 4, 'min_samples_split': 2}\n",
      "best score :  0.9333333333333332\n"
     ]
    },
    {
     "data": {
      "text/plain": [
       "1.0"
      ]
     },
     "execution_count": 12,
     "metadata": {},
     "output_type": "execute_result"
    }
   ],
   "source": [
    "import pandas as pd\n",
    "import numpy as np\n",
    "from sklearn.datasets import load_iris\n",
    "from sklearn.tree import DecisionTreeClassifier\n",
    "from sklearn.model_selection import GridSearchCV, train_test_split\n",
    "from sklearn.metrics import accuracy_score\n",
    "\n",
    "iris_data = load_iris()\n",
    "label = iris_data.target\n",
    "data = iris_data.data\n",
    "\n",
    "X_train, X_val, y_train, y_val = train_test_split(data, label, test_size=0.2)\n",
    "\n",
    "\n",
    "# GridSearchCV의 param_grid 설정\n",
    "params = {\n",
    "    'max_depth': [2, 3, 4],\n",
    "    'min_samples_split': [2, 3, 4]\n",
    "}\n",
    "\n",
    "dtc = DecisionTreeClassifier()\n",
    "\n",
    "grid_tree = GridSearchCV(dtc, param_grid=params, cv=3, refit=True)\n",
    "\n",
    "grid_tree.get_params().keys() # parameter 찾기\n",
    "\n",
    "grid_tree.fit(X_train, y_train)\n",
    "\n",
    "print('best parameters : ', grid_tree.best_params_)\n",
    "print('best score : ', grid_tree.best_score_)\n",
    "em = grid_tree.best_estimator_\n",
    "pred = em.predict(X_val)\n",
    "accuracy_score(y_val, pred)"
   ]
  },
  {
   "cell_type": "code",
   "execution_count": null,
   "id": "a6f548e3",
   "metadata": {},
   "outputs": [],
   "source": []
  }
 ],
 "metadata": {
  "kernelspec": {
   "display_name": "Python 3 (ipykernel)",
   "language": "python",
   "name": "python3"
  },
  "language_info": {
   "codemirror_mode": {
    "name": "ipython",
    "version": 3
   },
   "file_extension": ".py",
   "mimetype": "text/x-python",
   "name": "python",
   "nbconvert_exporter": "python",
   "pygments_lexer": "ipython3",
   "version": "3.11.3"
  }
 },
 "nbformat": 4,
 "nbformat_minor": 5
}
