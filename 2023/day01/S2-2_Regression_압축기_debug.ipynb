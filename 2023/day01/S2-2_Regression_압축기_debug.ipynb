{
 "cells": [
  {
   "cell_type": "markdown",
   "metadata": {
    "id": "2WC07KZJYNTx"
   },
   "source": [
    "# **Ch 0. 초기 설정 및 라이브러리 불러오기**"
   ]
  },
  {
   "cell_type": "code",
   "execution_count": 5,
   "metadata": {
    "colab": {
     "base_uri": "https://localhost:8080/"
    },
    "executionInfo": {
     "elapsed": 21696,
     "status": "ok",
     "timestamp": 1690436494129,
     "user": {
      "displayName": "YK CHA",
      "userId": "13863917908140273125"
     },
     "user_tz": -540
    },
    "id": "1GpDZ5zhBPLe",
    "outputId": "a414a350-02f8-4111-fce1-35186f2b0f50"
   },
   "outputs": [],
   "source": [
    "# 구글 드라이브로부터 데이터 불러오기\n",
    "# from google.colab import drive\n",
    "# drive.mount('/content/gdrive')\n",
    "\n",
    "# 변수 저장/불러오기\n",
    "import pickle\n",
    "\n",
    "# 학습/평가 데이터 분할\n",
    "from sklearn.model_selection import train_test_split\n",
    "\n",
    "# 학습 결과 평가\n",
    "from sklearn.metrics import mean_squared_error, r2_score\n",
    "\n",
    "# 시각화\n",
    "import matplotlib.pyplot as plt"
   ]
  },
  {
   "cell_type": "code",
   "execution_count": 2,
   "metadata": {
    "colab": {
     "base_uri": "https://localhost:8080/"
    },
    "executionInfo": {
     "elapsed": 8,
     "status": "ok",
     "timestamp": 1690436494129,
     "user": {
      "displayName": "YK CHA",
      "userId": "13863917908140273125"
     },
     "user_tz": -540
    },
    "id": "UblrlWIpBmI8",
    "outputId": "3d042ce7-3c30-49ea-cfcb-4bd67f36a045"
   },
   "outputs": [],
   "source": [
    "# %cd /..\n",
    "# %cd content/gdrive/MyDrive/hanon_1st\n",
    "\n",
    "# Additional command for the diriectory\n",
    "# !pwd : 현재 directory 확인\n",
    "# !ls  : 현재 directory 에서의 파일들 확인"
   ]
  },
  {
   "cell_type": "code",
   "execution_count": 14,
   "metadata": {
    "executionInfo": {
     "elapsed": 5,
     "status": "ok",
     "timestamp": 1690436494130,
     "user": {
      "displayName": "YK CHA",
      "userId": "13863917908140273125"
     },
     "user_tz": -540
    },
    "id": "R2JX063GTVae"
   },
   "outputs": [],
   "source": [
    "# 변수 불러오기\n",
    "with open(\"Compressor_pp.pkl\", \"rb\") as file:\n",
    "    X_scaled, Y_scaled, scaler_X, scaler_Y = pickle.load(file)"
   ]
  },
  {
   "cell_type": "code",
   "execution_count": 17,
   "metadata": {},
   "outputs": [
    {
     "data": {
      "text/plain": [
       "(array([[-1.12167725,  0.33720513, -0.92086142, ..., -1.09861889,\n",
       "         -0.68200149, -0.31583513],\n",
       "        [-1.12322976,  0.33720513, -0.92086142, ..., -1.09861889,\n",
       "         -0.6691378 , -0.31583513],\n",
       "        [-1.12504823,  0.33720513, -0.92086142, ..., -1.12090911,\n",
       "         -0.67515288, -0.3485773 ],\n",
       "        ...,\n",
       "        [ 1.37809205,  0.33720513,  0.44388758, ...,  0.52856732,\n",
       "          1.25405648, -0.36796829],\n",
       "        [ 1.3774086 ,  0.33720513,  0.69052897, ...,  0.66230866,\n",
       "         -0.68572225, -0.44902899],\n",
       "        [ 1.37655505,  0.33720513,  0.69052897, ...,  0.66230866,\n",
       "         -0.68572225, -0.44902899]]),\n",
       " array([[-0.45404795],\n",
       "        [-0.4246767 ],\n",
       "        [-0.39530545],\n",
       "        ...,\n",
       "        [ 1.03213723],\n",
       "        [ 1.81928669],\n",
       "        [ 2.01901118]]),\n",
       " StandardScaler(),\n",
       " StandardScaler())"
      ]
     },
     "execution_count": 17,
     "metadata": {},
     "output_type": "execute_result"
    }
   ],
   "source": [
    "X_scaled, Y_scaled, scaler_X, scaler_Y"
   ]
  },
  {
   "cell_type": "markdown",
   "metadata": {
    "id": "YuWNjwQGN5Uf"
   },
   "source": [
    "# **Ch 1. Support Vector Regression (SVR)**"
   ]
  },
  {
   "cell_type": "markdown",
   "metadata": {
    "id": "wzPWgS3ymLPw"
   },
   "source": [
    "## Ch 1-1. 모델 생성 및 학습\n"
   ]
  },
  {
   "cell_type": "code",
   "execution_count": 6,
   "metadata": {
    "executionInfo": {
     "elapsed": 551,
     "status": "ok",
     "timestamp": 1690436494677,
     "user": {
      "displayName": "YK CHA",
      "userId": "13863917908140273125"
     },
     "user_tz": -540
    },
    "id": "y_FdQRdZN4ZK"
   },
   "outputs": [],
   "source": [
    "# SVR 불러오기\n",
    "from sklearn.svm import SVR"
   ]
  },
  {
   "cell_type": "code",
   "execution_count": 19,
   "metadata": {
    "executionInfo": {
     "elapsed": 10,
     "status": "ok",
     "timestamp": 1690436494677,
     "user": {
      "displayName": "YK CHA",
      "userId": "13863917908140273125"
     },
     "user_tz": -540
    },
    "id": "7JYoKKPnoXGn"
   },
   "outputs": [],
   "source": [
    "# 데이터를 학습용과 테스트용으로 분리\n",
    "X_scaled_train, X_scaled_test, Y_scaled_train, Y_scaled_test = train_test_split(X_scaled, Y_scaled, test_size=0.3, random_state=42)"
   ]
  },
  {
   "cell_type": "code",
   "execution_count": 22,
   "metadata": {},
   "outputs": [
    {
     "data": {
      "text/plain": [
       "(array([[-0.01160745, -0.35225563, -0.62489176, ..., -0.63052423,\n",
       "          1.18617196, -0.21506556],\n",
       "        [ 1.3774086 ,  0.33720513,  0.69052897, ...,  0.66230866,\n",
       "         -0.68572225, -0.44902899],\n",
       "        [ 0.82330456, -1.04257929,  1.24958278, ..., -0.45220245,\n",
       "         -0.6570217 , -1.14265425],\n",
       "        ...,\n",
       "        [-1.12302261,  0.33720513, -1.10995315, ..., -1.43297222,\n",
       "          0.65426665, -0.49925483],\n",
       "        [-0.01225071, -0.35225563, -0.87153315, ..., -1.05403844,\n",
       "          1.81947439, -0.34031229],\n",
       "        [-1.12481932, -0.52569945, -0.62489176, ..., -0.808846  ,\n",
       "         -0.63528147, -0.40579661]]),\n",
       " array([[-0.01508353, -0.35225563,  0.69052897, ..., -0.69739489,\n",
       "         -0.68572225, -1.11022997],\n",
       "        [-1.12513795,  0.33720513, -1.6114573 , ..., -1.63358422,\n",
       "          3.80960797,  3.29279638],\n",
       "        [ 0.82018724, -1.0434422 ,  2.48278971, ..., -0.31846112,\n",
       "         -0.68413255, -1.2971464 ],\n",
       "        ...,\n",
       "        [-0.56743099, -0.35225563, -0.54267796, ...,  0.14963355,\n",
       "         -0.56275674,  0.4509037 ],\n",
       "        [-0.56885975, -0.35225563, -0.54267796, ...,  0.1050531 ,\n",
       "          0.46006536,  0.40671767],\n",
       "        [-0.56570224,  2.92678178, -0.8879759 , ...,  0.84063043,\n",
       "         -0.37525797,  2.35503537]]),\n",
       " array([[-0.76244606],\n",
       "        [ 1.81928669],\n",
       "        [ 0.48583201],\n",
       "        ...,\n",
       "        [-1.12958667],\n",
       "        [-0.99741605],\n",
       "        [-0.49810482]]),\n",
       " array([[ 8.79406738e-01],\n",
       "        [-1.63477214e+00],\n",
       "        [ 1.22011322e+00],\n",
       "        [-5.92092818e-01],\n",
       "        [-1.53490990e+00],\n",
       "        [ 2.43020867e+00],\n",
       "        [ 1.19074197e+00],\n",
       "        [ 3.88906886e-01],\n",
       "        [ 1.62748272e-01],\n",
       "        [-1.60335463e-01],\n",
       "        [-1.42623628e+00],\n",
       "        [-7.18389187e-01],\n",
       "        [ 4.56460758e-01],\n",
       "        [ 3.15478765e-01],\n",
       "        [ 6.03317001e-01],\n",
       "        [-1.34792198e-02],\n",
       "        [-1.15895792e+00],\n",
       "        [-1.25588304e+00],\n",
       "        [-1.01210167e+00],\n",
       "        [ 1.06738273e+00],\n",
       "        [ 1.68711608e+00],\n",
       "        [-1.60335463e-01],\n",
       "        [ 6.62059498e-01],\n",
       "        [-1.15895792e+00],\n",
       "        [-5.71532944e-01],\n",
       "        [-8.53496930e-01],\n",
       "        [-1.22944891e+00],\n",
       "        [-1.89706712e-01],\n",
       "        [-1.30964214e-01],\n",
       "        [ 3.97718261e-01],\n",
       "        [ 5.44574504e-01],\n",
       "        [-1.04147292e+00],\n",
       "        [-7.77131684e-01],\n",
       "        [ 2.56736268e-01],\n",
       "        [ 4.77020632e-01],\n",
       "        [-1.13546092e+00],\n",
       "        [-8.94616678e-01],\n",
       "        [-8.82868179e-01],\n",
       "        [-1.01592966e-01],\n",
       "        [ 8.97029487e-01],\n",
       "        [ 1.21628524e-01],\n",
       "        [ 3.09604515e-01],\n",
       "        [ 1.16137072e+00],\n",
       "        [ 7.64858869e-01],\n",
       "        [-7.44823310e-01],\n",
       "        [ 8.08915742e-01],\n",
       "        [ 1.35815809e+00],\n",
       "        [-3.95305452e-01],\n",
       "        [ 8.97029487e-01],\n",
       "        [-2.33763584e-01],\n",
       "        [-1.30875128e+00],\n",
       "        [ 6.91430747e-01],\n",
       "        [-8.53496930e-01],\n",
       "        [-2.19077960e-01],\n",
       "        [ 1.07325698e+00],\n",
       "        [-1.98518086e-01],\n",
       "        [ 2.03957106e+00],\n",
       "        [ 2.36559192e+00],\n",
       "        [-6.89017938e-01],\n",
       "        [-1.38217941e+00],\n",
       "        [-1.03266155e+00],\n",
       "        [-4.28504684e-02],\n",
       "        [-1.28231716e+00],\n",
       "        [-3.65934203e-01],\n",
       "        [ 9.55771985e-01],\n",
       "        [ 2.24810692e+00],\n",
       "        [ 1.54319696e+00],\n",
       "        [-1.60246377e+00],\n",
       "        [-1.45649839e-01],\n",
       "        [ 9.85143233e-01],\n",
       "        [ 8.97029487e-01],\n",
       "        [-1.30875128e+00],\n",
       "        [ 6.62059498e-01],\n",
       "        [ 1.04005775e-01],\n",
       "        [-1.27644291e+00],\n",
       "        [-5.42161695e-01],\n",
       "        [-8.06502933e-01],\n",
       "        [-5.42161695e-01],\n",
       "        [ 5.73945753e-01],\n",
       "        [-3.65934203e-01],\n",
       "        [ 4.27089509e-01],\n",
       "        [ 2.80233266e-01],\n",
       "        [ 1.23186172e+00],\n",
       "        [-3.51248579e-01],\n",
       "        [ 3.07050189e+00],\n",
       "        [-1.01592966e-01],\n",
       "        [-1.60335463e-01],\n",
       "        [-2.22015085e-01],\n",
       "        [-2.33763584e-01],\n",
       "        [ 1.77816695e+00],\n",
       "        [-6.15589816e-01],\n",
       "        [-1.38805366e+00],\n",
       "        [ 1.07325698e+00],\n",
       "        [-1.51728715e+00],\n",
       "        [-8.35874181e-01],\n",
       "        [-4.68733573e-01],\n",
       "        [-3.07191706e-01],\n",
       "        [ 8.93201504e-02],\n",
       "        [ 1.10262823e+00],\n",
       "        [ 8.38286990e-01],\n",
       "        [-9.32799302e-01],\n",
       "        [ 1.99845131e+00],\n",
       "        [-3.77682703e-01],\n",
       "        [ 7.46345261e-02],\n",
       "        [ 1.10262823e+00],\n",
       "        [-1.04147292e+00],\n",
       "        [-1.40861353e+00],\n",
       "        [-1.13341465e-01],\n",
       "        [-3.95305452e-01],\n",
       "        [-1.60335463e-01],\n",
       "        [ 1.04005775e-01],\n",
       "        [ 3.68347012e-01],\n",
       "        [ 1.62748272e-01],\n",
       "        [-1.89706712e-01],\n",
       "        [ 1.58920288e-02],\n",
       "        [-1.07467215e-01],\n",
       "        [ 1.88291537e-02],\n",
       "        [ 6.03317001e-01],\n",
       "        [-1.59952665e+00],\n",
       "        [ 1.24948447e+00],\n",
       "        [ 9.85143233e-01],\n",
       "        [-2.36700709e-01],\n",
       "        [-1.43504765e+00],\n",
       "        [-2.04392336e-01],\n",
       "        [-2.22905944e-02],\n",
       "        [ 9.85143233e-01],\n",
       "        [ 6.91430747e-01],\n",
       "        [-1.60335463e-01],\n",
       "        [ 2.51244816e+00],\n",
       "        [-1.30964214e-01],\n",
       "        [ 2.86784027e+00],\n",
       "        [ 1.78110407e+00],\n",
       "        [-8.65245430e-01],\n",
       "        [ 2.50862018e-01],\n",
       "        [ 1.00177791e-02],\n",
       "        [ 7.46345261e-02],\n",
       "        [-1.28819141e+00],\n",
       "        [ 9.26400736e-01],\n",
       "        [-5.12790446e-01],\n",
       "        [ 3.56100174e+00],\n",
       "        [-9.53359176e-01],\n",
       "        [-3.95305452e-01],\n",
       "        [-1.06203280e+00],\n",
       "        [-1.15895792e+00],\n",
       "        [ 5.15203255e-01],\n",
       "        [-2.42574959e-01],\n",
       "        [-6.59646689e-01],\n",
       "        [ 2.26572967e+00],\n",
       "        [-1.12077529e+00],\n",
       "        [ 4.03592511e-01],\n",
       "        [ 6.32688250e-01],\n",
       "        [-1.04147292e+00],\n",
       "        [ 4.85832007e-01],\n",
       "        [-1.00329030e+00],\n",
       "        [ 9.51944001e-02],\n",
       "        [ 1.27885572e+00],\n",
       "        [ 8.38286990e-01],\n",
       "        [ 1.07325698e+00],\n",
       "        [-1.60335463e-01],\n",
       "        [ 1.80371021e-01],\n",
       "        [ 2.28922667e+00],\n",
       "        [-4.92230572e-01],\n",
       "        [-7.03703562e-01],\n",
       "        [-1.72083962e-01],\n",
       "        [ 3.68347012e-01],\n",
       "        [-6.21464066e-01],\n",
       "        [-4.92230572e-01],\n",
       "        [ 3.97718261e-01],\n",
       "        [ 4.85832007e-01],\n",
       "        [-6.74332314e-01],\n",
       "        [-4.24676700e-01],\n",
       "        [ 1.62748272e-01],\n",
       "        [-1.60335463e-01],\n",
       "        [-2.77820457e-01],\n",
       "        [-3.95305452e-01],\n",
       "        [-1.34792198e-02],\n",
       "        [ 9.41086360e-01],\n",
       "        [ 1.92119521e-01],\n",
       "        [ 2.64755591e+00],\n",
       "        [ 3.97718261e-01],\n",
       "        [ 4.06529635e-01],\n",
       "        [ 2.75035528e+00],\n",
       "        [ 5.15203255e-01],\n",
       "        [-1.49966440e+00],\n",
       "        [-5.71532944e-01],\n",
       "        [-6.59646689e-01],\n",
       "        [ 3.68347012e-01],\n",
       "        [ 4.85832007e-01],\n",
       "        [-5.77407193e-01],\n",
       "        [ 7.79544493e-01],\n",
       "        [-1.66414339e+00],\n",
       "        [ 1.19074197e+00],\n",
       "        [-7.77131684e-01],\n",
       "        [-5.42161695e-01],\n",
       "        [ 1.36696947e+00],\n",
       "        [-1.01592966e-01],\n",
       "        [ 1.21423897e+00],\n",
       "        [ 7.20801996e-01],\n",
       "        [ 2.21490769e-01],\n",
       "        [ 3.68347012e-01],\n",
       "        [-1.38217941e+00],\n",
       "        [ 6.03317001e-01],\n",
       "        [ 8.38286990e-01],\n",
       "        [ 4.85832007e-01],\n",
       "        [-1.10021542e+00],\n",
       "        [ 2.80233266e-01],\n",
       "        [-7.77131684e-01],\n",
       "        [ 2.38321467e+00],\n",
       "        [ 2.30302144e-01],\n",
       "        [-1.30287703e+00],\n",
       "        [-1.06496992e+00],\n",
       "        [-4.09991076e-01],\n",
       "        [-8.18251432e-01],\n",
       "        [ 8.38286990e-01],\n",
       "        [-6.21464066e-01],\n",
       "        [-9.26925052e-01],\n",
       "        [-4.24676700e-01],\n",
       "        [-8.27062807e-01],\n",
       "        [ 3.38975764e-01],\n",
       "        [ 6.62059498e-01],\n",
       "        [-2.48449209e-01],\n",
       "        [ 1.04388573e+00],\n",
       "        [ 2.50862018e-01],\n",
       "        [ 3.51400774e+00],\n",
       "        [-1.07378129e+00],\n",
       "        [-1.14133517e+00],\n",
       "        [-7.44823310e-01],\n",
       "        [ 4.56460758e-01],\n",
       "        [ 3.09604515e-01],\n",
       "        [ 6.32688250e-01],\n",
       "        [ 3.00882226e+00],\n",
       "        [ 1.10262823e+00],\n",
       "        [ 9.26400736e-01],\n",
       "        [ 1.76641845e+00],\n",
       "        [ 1.42571196e+00],\n",
       "        [-7.18389187e-01],\n",
       "        [-2.48449209e-01],\n",
       "        [ 4.68209258e-01],\n",
       "        [ 1.86628069e+00],\n",
       "        [-5.71532944e-01],\n",
       "        [-8.12377182e-01],\n",
       "        [ 3.77158387e-01],\n",
       "        [-5.83281443e-01],\n",
       "        [-3.95305452e-01],\n",
       "        [-1.24707166e+00],\n",
       "        [-1.54372127e+00],\n",
       "        [ 4.27089509e-01],\n",
       "        [-7.53634685e-01],\n",
       "        [-6.00904192e-01],\n",
       "        [-2.81648441e-02],\n",
       "        [ 4.52632774e-02],\n",
       "        [-1.48204165e+00],\n",
       "        [ 4.00655386e-01],\n",
       "        [-4.83419198e-01],\n",
       "        [-1.12958667e+00],\n",
       "        [-7.03703562e-01],\n",
       "        [ 1.65685397e-01],\n",
       "        [ 3.08812463e+00],\n",
       "        [ 1.33377023e-01],\n",
       "        [ 1.10262823e+00],\n",
       "        [-1.33518541e+00],\n",
       "        [-1.04147292e+00],\n",
       "        [ 1.27885572e+00],\n",
       "        [-9.82730424e-01],\n",
       "        [-6.44961065e-01],\n",
       "        [-8.06502933e-01],\n",
       "        [-8.68182555e-01],\n",
       "        [-3.71808453e-01],\n",
       "        [-3.95305452e-01],\n",
       "        [-1.33901339e-01],\n",
       "        [ 4.56460758e-01],\n",
       "        [ 1.42188398e-01],\n",
       "        [-2.30826460e-01],\n",
       "        [-1.60335463e-01],\n",
       "        [ 6.32688250e-01],\n",
       "        [ 4.85832007e-01],\n",
       "        [-1.58777815e+00],\n",
       "        [ 2.50862018e-01],\n",
       "        [ 1.63131070e+00],\n",
       "        [ 4.27089509e-01],\n",
       "        [ 1.06942900e-01],\n",
       "        [-1.52022427e+00],\n",
       "        [ 3.38975764e-01],\n",
       "        [-9.27815911e-02],\n",
       "        [-1.35868241e+00],\n",
       "        [-6.30275441e-01],\n",
       "        [ 8.38286990e-01],\n",
       "        [-1.34792198e-02],\n",
       "        [ 1.48062648e-01],\n",
       "        [ 3.05776531e-02],\n",
       "        [-1.80895337e-01],\n",
       "        [-1.07084417e+00],\n",
       "        [ 6.32688250e-01],\n",
       "        [ 5.44574504e-01],\n",
       "        [ 9.26400736e-01],\n",
       "        [-5.39224570e-01],\n",
       "        [-1.10021542e+00],\n",
       "        [-9.35736426e-01],\n",
       "        [-9.88604674e-01],\n",
       "        [-1.06790705e+00],\n",
       "        [ 1.02038873e+00],\n",
       "        [ 1.13199948e+00],\n",
       "        [ 8.97029487e-01],\n",
       "        [-5.45098820e-01],\n",
       "        [ 1.58920288e-02],\n",
       "        [-1.17658067e+00],\n",
       "        [-1.49379015e+00],\n",
       "        [-1.21476329e+00],\n",
       "        [-3.36562955e-01],\n",
       "        [ 9.85143233e-01],\n",
       "        [ 8.38286990e-01],\n",
       "        [-7.18389187e-01],\n",
       "        [-1.34792198e-02],\n",
       "        [-8.94616678e-01],\n",
       "        [-1.60335463e-01],\n",
       "        [-3.95305452e-01],\n",
       "        [ 1.51382571e+00],\n",
       "        [-7.18389187e-01],\n",
       "        [ 6.62059498e-01],\n",
       "        [-4.54047949e-01],\n",
       "        [-1.10021542e+00],\n",
       "        [-1.15895792e+00],\n",
       "        [ 6.91430747e-01],\n",
       "        [-1.07084417e+00],\n",
       "        [-1.26175729e+00],\n",
       "        [ 9.55771985e-01],\n",
       "        [-4.24676700e-01],\n",
       "        [ 1.62748272e-01],\n",
       "        [ 4.85832007e-01],\n",
       "        [ 4.85832007e-01],\n",
       "        [-1.73072035e-03],\n",
       "        [ 9.81315250e-02],\n",
       "        [-4.24676700e-01],\n",
       "        [-3.77682703e-01],\n",
       "        [-9.26925052e-01],\n",
       "        [ 4.52632774e-02],\n",
       "        [ 2.80233266e-01],\n",
       "        [ 3.44850013e-01],\n",
       "        [ 1.14668510e+00],\n",
       "        [-1.05028430e+00],\n",
       "        [ 1.33759822e+00],\n",
       "        [ 4.85832007e-01],\n",
       "        [-9.23987927e-01],\n",
       "        [ 2.45957991e+00],\n",
       "        [ 4.56460758e-01],\n",
       "        [ 9.85143233e-01],\n",
       "        [-6.59646689e-01],\n",
       "        [ 1.63131070e+00],\n",
       "        [-3.65934203e-01],\n",
       "        [ 8.67658239e-01],\n",
       "        [-2.54323458e-01],\n",
       "        [-1.67589189e+00],\n",
       "        [ 6.32688250e-01],\n",
       "        [-1.25089965e-01],\n",
       "        [-6.39086815e-01],\n",
       "        [ 4.11318121e+00],\n",
       "        [ 1.33377023e-01],\n",
       "        [-1.10021542e+00],\n",
       "        [ 8.97029487e-01],\n",
       "        [-4.86356323e-01],\n",
       "        [ 6.62059498e-01],\n",
       "        [-7.18389187e-01],\n",
       "        [ 1.13199948e+00],\n",
       "        [ 8.08915742e-01],\n",
       "        [-7.18389187e-01],\n",
       "        [ 3.71284137e-01],\n",
       "        [-7.91817308e-01],\n",
       "        [ 2.38027754e+00],\n",
       "        [ 1.57256821e+00],\n",
       "        [ 1.30822697e+00],\n",
       "        [-9.53359176e-01],\n",
       "        [-1.19215715e-01],\n",
       "        [ 4.97580506e-01],\n",
       "        [-7.44823310e-01],\n",
       "        [ 3.09604515e-01],\n",
       "        [ 4.56460758e-01],\n",
       "        [ 3.68347012e-01],\n",
       "        [-1.11196392e+00],\n",
       "        [-1.05322142e+00],\n",
       "        [-8.65245430e-01],\n",
       "        [-1.21476329e+00],\n",
       "        [-9.26925052e-01],\n",
       "        [-1.29112853e+00],\n",
       "        [ 1.07325698e+00],\n",
       "        [-4.83419198e-01],\n",
       "        [ 1.13199948e+00],\n",
       "        [-7.47760435e-01],\n",
       "        [-1.28819141e+00],\n",
       "        [-1.01592966e-01],\n",
       "        [-5.12790446e-01],\n",
       "        [-3.95305452e-01],\n",
       "        [ 3.09604515e-01],\n",
       "        [-1.13252379e+00],\n",
       "        [ 1.22011322e+00],\n",
       "        [ 9.85143233e-01],\n",
       "        [ 2.08362793e+00],\n",
       "        [-7.15452062e-01],\n",
       "        [ 2.77296142e-01],\n",
       "        [-4.95167697e-01],\n",
       "        [ 2.06306806e+00],\n",
       "        [-9.23987927e-01],\n",
       "        [-3.99133436e-02],\n",
       "        [-1.30964214e-01],\n",
       "        [ 4.85832007e-01],\n",
       "        [-1.12958667e+00],\n",
       "        [-1.21182616e+00],\n",
       "        [ 8.97029487e-01],\n",
       "        [-1.17951779e+00],\n",
       "        [ 4.85832007e-01],\n",
       "        [-4.24676700e-01],\n",
       "        [ 1.04005775e-01],\n",
       "        [ 2.51538529e+00],\n",
       "        [ 2.03868020e-01],\n",
       "        [ 6.91430747e-01],\n",
       "        [-1.60335463e-01],\n",
       "        [-3.68871328e-01],\n",
       "        [-8.82868179e-01],\n",
       "        [ 3.75778910e+00],\n",
       "        [-9.82730424e-01],\n",
       "        [-1.10021542e+00],\n",
       "        [ 1.42277484e+00],\n",
       "        [-2.48449209e-01],\n",
       "        [-5.42161695e-01],\n",
       "        [-4.54047949e-01],\n",
       "        [-1.30964214e-01],\n",
       "        [ 1.04388573e+00],\n",
       "        [-7.03703562e-01],\n",
       "        [ 1.93383456e+00],\n",
       "        [ 4.27089509e-01],\n",
       "        [-8.35874181e-01],\n",
       "        [ 1.58920288e-02],\n",
       "        [ 6.91430747e-01],\n",
       "        [-7.33074811e-01],\n",
       "        [-1.01592966e-01],\n",
       "        [-1.46735603e+00],\n",
       "        [-5.42161695e-01],\n",
       "        [-1.30964214e-01],\n",
       "        [-5.30413195e-01],\n",
       "        [ 1.54319696e+00],\n",
       "        [-4.92230572e-01],\n",
       "        [ 1.16137072e+00],\n",
       "        [-7.47760435e-01],\n",
       "        [ 5.11375272e-02],\n",
       "        [-6.59646689e-01],\n",
       "        [-3.71808453e-01],\n",
       "        [ 1.06942900e-01],\n",
       "        [ 1.13199948e+00],\n",
       "        [-1.36455666e+00],\n",
       "        [ 3.38975764e-01],\n",
       "        [ 2.80233266e-01],\n",
       "        [ 1.60193945e+00],\n",
       "        [-5.12790446e-01],\n",
       "        [-2.81648441e-02],\n",
       "        [-1.01592966e-01],\n",
       "        [-9.82730424e-01],\n",
       "        [ 4.52632774e-02],\n",
       "        [ 4.27089509e-01],\n",
       "        [ 1.98376569e+00],\n",
       "        [ 1.80371021e-01],\n",
       "        [-3.07191706e-01],\n",
       "        [ 4.27089509e-01],\n",
       "        [-6.59646689e-01],\n",
       "        [-2.57260583e-01],\n",
       "        [ 1.13199948e+00],\n",
       "        [-3.65934203e-01],\n",
       "        [ 2.91483427e+00],\n",
       "        [ 1.62748272e-01],\n",
       "        [-1.60335463e-01],\n",
       "        [ 6.97304997e-01],\n",
       "        [ 7.20801996e-01],\n",
       "        [-1.60335463e-01],\n",
       "        [ 3.97718261e-01],\n",
       "        [-8.65245430e-01],\n",
       "        [ 1.56874022e-01],\n",
       "        [-1.30964214e-01],\n",
       "        [-1.24413454e+00],\n",
       "        [-1.31168841e+00],\n",
       "        [ 4.27089509e-01],\n",
       "        [-1.15895792e+00],\n",
       "        [-5.62721569e-01],\n",
       "        [ 2.77385227e+00],\n",
       "        [ 1.60193945e+00],\n",
       "        [ 3.97718261e-01],\n",
       "        [-8.94616678e-01],\n",
       "        [-9.82730424e-01],\n",
       "        [-1.15895792e+00],\n",
       "        [-5.06916197e-01],\n",
       "        [ 4.91706256e-01],\n",
       "        [ 5.29888880e-01],\n",
       "        [-6.18526941e-01],\n",
       "        [ 2.42050643e-01],\n",
       "        [-1.47323028e+00],\n",
       "        [ 2.62112178e+00],\n",
       "        [-1.01592966e-01],\n",
       "        [-8.06502933e-01],\n",
       "        [-8.41748431e-01],\n",
       "        [ 6.62059498e-01],\n",
       "        [-6.63474673e-02],\n",
       "        [ 2.08656506e+00],\n",
       "        [-3.16003081e-01],\n",
       "        [-3.68871328e-01],\n",
       "        [ 2.00930895e-01],\n",
       "        [ 3.68347012e-01],\n",
       "        [ 1.07325698e+00],\n",
       "        [ 6.62059498e-01],\n",
       "        [-1.37043091e+00],\n",
       "        [ 3.68347012e-01],\n",
       "        [ 1.13199948e+00],\n",
       "        [-6.00904192e-01],\n",
       "        [-1.30964214e-01],\n",
       "        [-1.22357466e+00],\n",
       "        [ 4.27089509e-01],\n",
       "        [-6.89017938e-01],\n",
       "        [-1.16189504e+00],\n",
       "        [ 1.60193945e+00],\n",
       "        [ 9.93954608e-01],\n",
       "        [-7.18389187e-01],\n",
       "        [-1.15895792e+00],\n",
       "        [-5.42161695e-01],\n",
       "        [-8.06502933e-01],\n",
       "        [ 2.23635842e+00],\n",
       "        [-1.78456551e+00],\n",
       "        [ 3.38975764e-01],\n",
       "        [ 4.56460758e-01],\n",
       "        [-6.80206563e-01],\n",
       "        [-1.39392790e+00],\n",
       "        [-1.10021542e+00],\n",
       "        [-1.25294591e+00],\n",
       "        [-1.29700278e+00],\n",
       "        [-1.15895792e+00],\n",
       "        [ 2.76405283e-02],\n",
       "        [-8.91679554e-01],\n",
       "        [-5.45989679e-02],\n",
       "        [-7.22217170e-02],\n",
       "        [-1.10021542e+00],\n",
       "        [ 5.85694252e-01],\n",
       "        [-1.01210167e+00],\n",
       "        [-1.10021542e+00],\n",
       "        [-2.77820457e-01],\n",
       "        [ 5.70117769e-02],\n",
       "        [ 8.38286990e-01],\n",
       "        [-3.60059954e-01],\n",
       "        [ 1.39634071e+00],\n",
       "        [-1.37043091e+00],\n",
       "        [-7.22217170e-02],\n",
       "        [-7.18389187e-01],\n",
       "        [ 7.50173244e-01],\n",
       "        [ 3.12043301e+00],\n",
       "        [-1.30964214e-01],\n",
       "        [ 3.09604515e-01],\n",
       "        [-3.74745578e-01],\n",
       "        [-7.80068809e-01],\n",
       "        [ 5.15203255e-01]]))"
      ]
     },
     "execution_count": 22,
     "metadata": {},
     "output_type": "execute_result"
    }
   ],
   "source": [
    "X_scaled_train, X_scaled_test, Y_scaled_train, Y_scaled_test"
   ]
  },
  {
   "cell_type": "code",
   "execution_count": 6,
   "metadata": {
    "colab": {
     "base_uri": "https://localhost:8080/",
     "height": 131
    },
    "executionInfo": {
     "elapsed": 11,
     "status": "ok",
     "timestamp": 1690436494678,
     "user": {
      "displayName": "YK CHA",
      "userId": "13863917908140273125"
     },
     "user_tz": -540
    },
    "id": "AMmHrRm0OJnZ",
    "outputId": "ce637fec-1d80-4513-8a65-adc09d765412"
   },
   "outputs": [
    {
     "name": "stderr",
     "output_type": "stream",
     "text": [
      "C:\\anaconda3\\Lib\\site-packages\\sklearn\\utils\\validation.py:1143: DataConversionWarning: A column-vector y was passed when a 1d array was expected. Please change the shape of y to (n_samples, ), for example using ravel().\n",
      "  y = column_or_1d(y, warn=True)\n"
     ]
    },
    {
     "data": {
      "text/html": [
       "<style>#sk-container-id-1 {color: black;background-color: white;}#sk-container-id-1 pre{padding: 0;}#sk-container-id-1 div.sk-toggleable {background-color: white;}#sk-container-id-1 label.sk-toggleable__label {cursor: pointer;display: block;width: 100%;margin-bottom: 0;padding: 0.3em;box-sizing: border-box;text-align: center;}#sk-container-id-1 label.sk-toggleable__label-arrow:before {content: \"▸\";float: left;margin-right: 0.25em;color: #696969;}#sk-container-id-1 label.sk-toggleable__label-arrow:hover:before {color: black;}#sk-container-id-1 div.sk-estimator:hover label.sk-toggleable__label-arrow:before {color: black;}#sk-container-id-1 div.sk-toggleable__content {max-height: 0;max-width: 0;overflow: hidden;text-align: left;background-color: #f0f8ff;}#sk-container-id-1 div.sk-toggleable__content pre {margin: 0.2em;color: black;border-radius: 0.25em;background-color: #f0f8ff;}#sk-container-id-1 input.sk-toggleable__control:checked~div.sk-toggleable__content {max-height: 200px;max-width: 100%;overflow: auto;}#sk-container-id-1 input.sk-toggleable__control:checked~label.sk-toggleable__label-arrow:before {content: \"▾\";}#sk-container-id-1 div.sk-estimator input.sk-toggleable__control:checked~label.sk-toggleable__label {background-color: #d4ebff;}#sk-container-id-1 div.sk-label input.sk-toggleable__control:checked~label.sk-toggleable__label {background-color: #d4ebff;}#sk-container-id-1 input.sk-hidden--visually {border: 0;clip: rect(1px 1px 1px 1px);clip: rect(1px, 1px, 1px, 1px);height: 1px;margin: -1px;overflow: hidden;padding: 0;position: absolute;width: 1px;}#sk-container-id-1 div.sk-estimator {font-family: monospace;background-color: #f0f8ff;border: 1px dotted black;border-radius: 0.25em;box-sizing: border-box;margin-bottom: 0.5em;}#sk-container-id-1 div.sk-estimator:hover {background-color: #d4ebff;}#sk-container-id-1 div.sk-parallel-item::after {content: \"\";width: 100%;border-bottom: 1px solid gray;flex-grow: 1;}#sk-container-id-1 div.sk-label:hover label.sk-toggleable__label {background-color: #d4ebff;}#sk-container-id-1 div.sk-serial::before {content: \"\";position: absolute;border-left: 1px solid gray;box-sizing: border-box;top: 0;bottom: 0;left: 50%;z-index: 0;}#sk-container-id-1 div.sk-serial {display: flex;flex-direction: column;align-items: center;background-color: white;padding-right: 0.2em;padding-left: 0.2em;position: relative;}#sk-container-id-1 div.sk-item {position: relative;z-index: 1;}#sk-container-id-1 div.sk-parallel {display: flex;align-items: stretch;justify-content: center;background-color: white;position: relative;}#sk-container-id-1 div.sk-item::before, #sk-container-id-1 div.sk-parallel-item::before {content: \"\";position: absolute;border-left: 1px solid gray;box-sizing: border-box;top: 0;bottom: 0;left: 50%;z-index: -1;}#sk-container-id-1 div.sk-parallel-item {display: flex;flex-direction: column;z-index: 1;position: relative;background-color: white;}#sk-container-id-1 div.sk-parallel-item:first-child::after {align-self: flex-end;width: 50%;}#sk-container-id-1 div.sk-parallel-item:last-child::after {align-self: flex-start;width: 50%;}#sk-container-id-1 div.sk-parallel-item:only-child::after {width: 0;}#sk-container-id-1 div.sk-dashed-wrapped {border: 1px dashed gray;margin: 0 0.4em 0.5em 0.4em;box-sizing: border-box;padding-bottom: 0.4em;background-color: white;}#sk-container-id-1 div.sk-label label {font-family: monospace;font-weight: bold;display: inline-block;line-height: 1.2em;}#sk-container-id-1 div.sk-label-container {text-align: center;}#sk-container-id-1 div.sk-container {/* jupyter's `normalize.less` sets `[hidden] { display: none; }` but bootstrap.min.css set `[hidden] { display: none !important; }` so we also need the `!important` here to be able to override the default hidden behavior on the sphinx rendered scikit-learn.org. See: https://github.com/scikit-learn/scikit-learn/issues/21755 */display: inline-block !important;position: relative;}#sk-container-id-1 div.sk-text-repr-fallback {display: none;}</style><div id=\"sk-container-id-1\" class=\"sk-top-container\"><div class=\"sk-text-repr-fallback\"><pre>SVR(kernel=&#x27;linear&#x27;)</pre><b>In a Jupyter environment, please rerun this cell to show the HTML representation or trust the notebook. <br />On GitHub, the HTML representation is unable to render, please try loading this page with nbviewer.org.</b></div><div class=\"sk-container\" hidden><div class=\"sk-item\"><div class=\"sk-estimator sk-toggleable\"><input class=\"sk-toggleable__control sk-hidden--visually\" id=\"sk-estimator-id-1\" type=\"checkbox\" checked><label for=\"sk-estimator-id-1\" class=\"sk-toggleable__label sk-toggleable__label-arrow\">SVR</label><div class=\"sk-toggleable__content\"><pre>SVR(kernel=&#x27;linear&#x27;)</pre></div></div></div></div></div>"
      ],
      "text/plain": [
       "SVR(kernel='linear')"
      ]
     },
     "execution_count": 6,
     "metadata": {},
     "output_type": "execute_result"
    }
   ],
   "source": [
    "# SVR 학습\n",
    "# https://scikit-learn.org/stable/modules/generated/sklearn.svm.SVR.html\n",
    "svm_model = SVR(kernel='linear')\n",
    "#svm_model = SVR(kernel='rbf')\n",
    "svm_model.fit(X_scaled_train, Y_scaled_train)"
   ]
  },
  {
   "cell_type": "markdown",
   "metadata": {
    "id": "U_6szSXAmUdP"
   },
   "source": [
    "## Ch 1-2. 모델 평가"
   ]
  },
  {
   "cell_type": "markdown",
   "metadata": {
    "id": "ocPlIY2s-nIu"
   },
   "source": [
    "![MSE](https://github.com/woooky/jinwook/assets/84065529/a212b536-657b-42cc-b41b-8027a3b3b14c)\n",
    "\n",
    "![R2](https://github.com/woooky/jinwook/assets/84065529/e3ba38b7-9c11-46a3-addc-7893bbcf76fb)"
   ]
  },
  {
   "cell_type": "code",
   "execution_count": 8,
   "metadata": {},
   "outputs": [],
   "source": [
    "#import matplotlib matplotlib.use('TkAgg')"
   ]
  },
  {
   "cell_type": "code",
   "execution_count": 9,
   "metadata": {
    "executionInfo": {
     "elapsed": 8,
     "status": "ok",
     "timestamp": 1690436494678,
     "user": {
      "displayName": "YK CHA",
      "userId": "13863917908140273125"
     },
     "user_tz": -540
    },
    "id": "b-yz-SyMOk8k"
   },
   "outputs": [],
   "source": [
    "# 학습된 SVR을 활용하여 테스트 셋 예측\n",
    "Y_scaled_train_pred = svm_model.predict(X_scaled_train)\n",
    "Y_scaled_test_pred = svm_model.predict(X_scaled_test)"
   ]
  },
  {
   "cell_type": "code",
   "execution_count": 40,
   "metadata": {},
   "outputs": [
    {
     "data": {
      "text/plain": [
       "(array([-0.82307346,  1.5004543 ,  0.25217093, ..., -1.05090828,\n",
       "        -1.17968545, -0.84236015]),\n",
       " array([[-0.76244606],\n",
       "        [ 1.81928669],\n",
       "        [ 0.48583201],\n",
       "        ...,\n",
       "        [-1.12958667],\n",
       "        [-0.99741605],\n",
       "        [-0.49810482]]))"
      ]
     },
     "execution_count": 40,
     "metadata": {},
     "output_type": "execute_result"
    }
   ],
   "source": [
    "Y_scaled_train_pred, Y_scaled_train"
   ]
  },
  {
   "cell_type": "code",
   "execution_count": 10,
   "metadata": {
    "colab": {
     "base_uri": "https://localhost:8080/"
    },
    "executionInfo": {
     "elapsed": 8,
     "status": "ok",
     "timestamp": 1690436494678,
     "user": {
      "displayName": "YK CHA",
      "userId": "13863917908140273125"
     },
     "user_tz": -540
    },
    "id": "g881bub7Oq1P",
    "outputId": "c3153090-bcfd-44f0-971a-06b2af33c255"
   },
   "outputs": [
    {
     "name": "stdout",
     "output_type": "stream",
     "text": [
      "MSE_train: 0.13978209992021615\n",
      "R-squared_train: 0.8570178281704296\n",
      "MSE_test: 0.13262460134233223\n",
      "R-squared_test: 0.8737302288514749\n"
     ]
    }
   ],
   "source": [
    "# SVR 학습 성능 평가\n",
    "mse_train = mean_squared_error(Y_scaled_train, Y_scaled_train_pred)\n",
    "print(\"MSE_train:\", mse_train)\n",
    "r2_train = r2_score(Y_scaled_train, Y_scaled_train_pred)\n",
    "print(\"R-squared_train:\", r2_train)\n",
    "\n",
    "mse_test = mean_squared_error(Y_scaled_test, Y_scaled_test_pred)\n",
    "print(\"MSE_test:\", mse_test)\n",
    "r2_test = r2_score(Y_scaled_test, Y_scaled_test_pred)\n",
    "print(\"R-squared_test:\", r2_test)"
   ]
  },
  {
   "cell_type": "code",
   "execution_count": 11,
   "metadata": {},
   "outputs": [
    {
     "data": {
      "text/plain": [
       "<matplotlib.collections.PathCollection at 0x27ad5814590>"
      ]
     },
     "execution_count": 11,
     "metadata": {},
     "output_type": "execute_result"
    },
    {
     "data": {
      "image/png": "[encoded data removed]",
      "text/plain": [
       "<Figure size 1500x400 with 1 Axes>"
      ]
     },
     "metadata": {},
     "output_type": "display_data"
    }
   ],
   "source": [
    "# 예측 값과 실제 값 비교를 위한 데이터 준비\n",
    "plt.figure(figsize=(15, 4))  # 그래프 크기 설정\n",
    "# 실제 값과 예측 값 비교를 위한 plot for test dataset\n",
    "plt.subplot(1,3,1)\n",
    "plt.scatter(Y_scaled_train_pred, Y_scaled_train, c='orange', alpha=0.5)"
   ]
  },
  {
   "cell_type": "code",
   "execution_count": 43,
   "metadata": {},
   "outputs": [
    {
     "ename": "ValueError",
     "evalue": "x and y must have same first dimension, but have shapes (4,) and (3, 2)",
     "output_type": "error",
     "traceback": [
      "\u001b[1;31m---------------------------------------------------------------------------\u001b[0m",
      "\u001b[1;31mValueError\u001b[0m                                Traceback (most recent call last)",
      "Cell \u001b[1;32mIn[43], line 4\u001b[0m\n\u001b[0;32m      2\u001b[0m x \u001b[38;5;241m=\u001b[39m [\u001b[38;5;241m1\u001b[39m, \u001b[38;5;241m2\u001b[39m, \u001b[38;5;241m3\u001b[39m, \u001b[38;5;241m4\u001b[39m]\n\u001b[0;32m      3\u001b[0m y \u001b[38;5;241m=\u001b[39m np\u001b[38;5;241m.\u001b[39marray([[\u001b[38;5;241m1\u001b[39m, \u001b[38;5;241m2\u001b[39m], [\u001b[38;5;241m3\u001b[39m, \u001b[38;5;241m4\u001b[39m], [\u001b[38;5;241m5\u001b[39m, \u001b[38;5;241m6\u001b[39m]])\n\u001b[1;32m----> 4\u001b[0m plt\u001b[38;5;241m.\u001b[39mplot(x, y)\n",
      "File \u001b[1;32mC:\\anaconda3\\Lib\\site-packages\\matplotlib\\pyplot.py:2812\u001b[0m, in \u001b[0;36mplot\u001b[1;34m(scalex, scaley, data, *args, **kwargs)\u001b[0m\n\u001b[0;32m   2810\u001b[0m \u001b[38;5;129m@_copy_docstring_and_deprecators\u001b[39m(Axes\u001b[38;5;241m.\u001b[39mplot)\n\u001b[0;32m   2811\u001b[0m \u001b[38;5;28;01mdef\u001b[39;00m \u001b[38;5;21mplot\u001b[39m(\u001b[38;5;241m*\u001b[39margs, scalex\u001b[38;5;241m=\u001b[39m\u001b[38;5;28;01mTrue\u001b[39;00m, scaley\u001b[38;5;241m=\u001b[39m\u001b[38;5;28;01mTrue\u001b[39;00m, data\u001b[38;5;241m=\u001b[39m\u001b[38;5;28;01mNone\u001b[39;00m, \u001b[38;5;241m*\u001b[39m\u001b[38;5;241m*\u001b[39mkwargs):\n\u001b[1;32m-> 2812\u001b[0m     \u001b[38;5;28;01mreturn\u001b[39;00m gca()\u001b[38;5;241m.\u001b[39mplot(\n\u001b[0;32m   2813\u001b[0m         \u001b[38;5;241m*\u001b[39margs, scalex\u001b[38;5;241m=\u001b[39mscalex, scaley\u001b[38;5;241m=\u001b[39mscaley,\n\u001b[0;32m   2814\u001b[0m         \u001b[38;5;241m*\u001b[39m\u001b[38;5;241m*\u001b[39m({\u001b[38;5;124m\"\u001b[39m\u001b[38;5;124mdata\u001b[39m\u001b[38;5;124m\"\u001b[39m: data} \u001b[38;5;28;01mif\u001b[39;00m data \u001b[38;5;129;01mis\u001b[39;00m \u001b[38;5;129;01mnot\u001b[39;00m \u001b[38;5;28;01mNone\u001b[39;00m \u001b[38;5;28;01melse\u001b[39;00m {}), \u001b[38;5;241m*\u001b[39m\u001b[38;5;241m*\u001b[39mkwargs)\n",
      "File \u001b[1;32mC:\\anaconda3\\Lib\\site-packages\\matplotlib\\axes\\_axes.py:1688\u001b[0m, in \u001b[0;36mAxes.plot\u001b[1;34m(self, scalex, scaley, data, *args, **kwargs)\u001b[0m\n\u001b[0;32m   1445\u001b[0m \u001b[38;5;250m\u001b[39m\u001b[38;5;124;03m\"\"\"\u001b[39;00m\n\u001b[0;32m   1446\u001b[0m \u001b[38;5;124;03mPlot y versus x as lines and/or markers.\u001b[39;00m\n\u001b[0;32m   1447\u001b[0m \n\u001b[1;32m   (...)\u001b[0m\n\u001b[0;32m   1685\u001b[0m \u001b[38;5;124;03m(``'green'``) or hex strings (``'#008000'``).\u001b[39;00m\n\u001b[0;32m   1686\u001b[0m \u001b[38;5;124;03m\"\"\"\u001b[39;00m\n\u001b[0;32m   1687\u001b[0m kwargs \u001b[38;5;241m=\u001b[39m cbook\u001b[38;5;241m.\u001b[39mnormalize_kwargs(kwargs, mlines\u001b[38;5;241m.\u001b[39mLine2D)\n\u001b[1;32m-> 1688\u001b[0m lines \u001b[38;5;241m=\u001b[39m [\u001b[38;5;241m*\u001b[39m\u001b[38;5;28mself\u001b[39m\u001b[38;5;241m.\u001b[39m_get_lines(\u001b[38;5;241m*\u001b[39margs, data\u001b[38;5;241m=\u001b[39mdata, \u001b[38;5;241m*\u001b[39m\u001b[38;5;241m*\u001b[39mkwargs)]\n\u001b[0;32m   1689\u001b[0m \u001b[38;5;28;01mfor\u001b[39;00m line \u001b[38;5;129;01min\u001b[39;00m lines:\n\u001b[0;32m   1690\u001b[0m     \u001b[38;5;28mself\u001b[39m\u001b[38;5;241m.\u001b[39madd_line(line)\n",
      "File \u001b[1;32mC:\\anaconda3\\Lib\\site-packages\\matplotlib\\axes\\_base.py:311\u001b[0m, in \u001b[0;36m_process_plot_var_args.__call__\u001b[1;34m(self, data, *args, **kwargs)\u001b[0m\n\u001b[0;32m    309\u001b[0m     this \u001b[38;5;241m+\u001b[39m\u001b[38;5;241m=\u001b[39m args[\u001b[38;5;241m0\u001b[39m],\n\u001b[0;32m    310\u001b[0m     args \u001b[38;5;241m=\u001b[39m args[\u001b[38;5;241m1\u001b[39m:]\n\u001b[1;32m--> 311\u001b[0m \u001b[38;5;28;01myield from\u001b[39;00m \u001b[38;5;28mself\u001b[39m\u001b[38;5;241m.\u001b[39m_plot_args(\n\u001b[0;32m    312\u001b[0m     this, kwargs, ambiguous_fmt_datakey\u001b[38;5;241m=\u001b[39mambiguous_fmt_datakey)\n",
      "File \u001b[1;32mC:\\anaconda3\\Lib\\site-packages\\matplotlib\\axes\\_base.py:504\u001b[0m, in \u001b[0;36m_process_plot_var_args._plot_args\u001b[1;34m(self, tup, kwargs, return_kwargs, ambiguous_fmt_datakey)\u001b[0m\n\u001b[0;32m    501\u001b[0m     \u001b[38;5;28mself\u001b[39m\u001b[38;5;241m.\u001b[39maxes\u001b[38;5;241m.\u001b[39myaxis\u001b[38;5;241m.\u001b[39mupdate_units(y)\n\u001b[0;32m    503\u001b[0m \u001b[38;5;28;01mif\u001b[39;00m x\u001b[38;5;241m.\u001b[39mshape[\u001b[38;5;241m0\u001b[39m] \u001b[38;5;241m!=\u001b[39m y\u001b[38;5;241m.\u001b[39mshape[\u001b[38;5;241m0\u001b[39m]:\n\u001b[1;32m--> 504\u001b[0m     \u001b[38;5;28;01mraise\u001b[39;00m \u001b[38;5;167;01mValueError\u001b[39;00m(\u001b[38;5;124mf\u001b[39m\u001b[38;5;124m\"\u001b[39m\u001b[38;5;124mx and y must have same first dimension, but \u001b[39m\u001b[38;5;124m\"\u001b[39m\n\u001b[0;32m    505\u001b[0m                      \u001b[38;5;124mf\u001b[39m\u001b[38;5;124m\"\u001b[39m\u001b[38;5;124mhave shapes \u001b[39m\u001b[38;5;132;01m{\u001b[39;00mx\u001b[38;5;241m.\u001b[39mshape\u001b[38;5;132;01m}\u001b[39;00m\u001b[38;5;124m and \u001b[39m\u001b[38;5;132;01m{\u001b[39;00my\u001b[38;5;241m.\u001b[39mshape\u001b[38;5;132;01m}\u001b[39;00m\u001b[38;5;124m\"\u001b[39m)\n\u001b[0;32m    506\u001b[0m \u001b[38;5;28;01mif\u001b[39;00m x\u001b[38;5;241m.\u001b[39mndim \u001b[38;5;241m>\u001b[39m \u001b[38;5;241m2\u001b[39m \u001b[38;5;129;01mor\u001b[39;00m y\u001b[38;5;241m.\u001b[39mndim \u001b[38;5;241m>\u001b[39m \u001b[38;5;241m2\u001b[39m:\n\u001b[0;32m    507\u001b[0m     \u001b[38;5;28;01mraise\u001b[39;00m \u001b[38;5;167;01mValueError\u001b[39;00m(\u001b[38;5;124mf\u001b[39m\u001b[38;5;124m\"\u001b[39m\u001b[38;5;124mx and y can be no greater than 2D, but have \u001b[39m\u001b[38;5;124m\"\u001b[39m\n\u001b[0;32m    508\u001b[0m                      \u001b[38;5;124mf\u001b[39m\u001b[38;5;124m\"\u001b[39m\u001b[38;5;124mshapes \u001b[39m\u001b[38;5;132;01m{\u001b[39;00mx\u001b[38;5;241m.\u001b[39mshape\u001b[38;5;132;01m}\u001b[39;00m\u001b[38;5;124m and \u001b[39m\u001b[38;5;132;01m{\u001b[39;00my\u001b[38;5;241m.\u001b[39mshape\u001b[38;5;132;01m}\u001b[39;00m\u001b[38;5;124m\"\u001b[39m)\n",
      "\u001b[1;31mValueError\u001b[0m: x and y must have same first dimension, but have shapes (4,) and (3, 2)"
     ]
    },
    {
     "data": {
      "image/png": "[encoded data removed]",
      "text/plain": [
       "<Figure size 640x480 with 1 Axes>"
      ]
     },
     "metadata": {},
     "output_type": "display_data"
    }
   ],
   "source": [
    "import numpy as np\n",
    "x = [1, 2, 3, 4]\n",
    "y = np.array([[1, 2], [3, 4], [5, 6]])\n",
    "plt.plot(x, y)"
   ]
  },
  {
   "cell_type": "code",
   "execution_count": 38,
   "metadata": {},
   "outputs": [
    {
     "data": {
      "text/plain": [
       "[<matplotlib.lines.Line2D at 0x27adb6d3e10>]"
      ]
     },
     "execution_count": 38,
     "metadata": {},
     "output_type": "execute_result"
    },
    {
     "data": {
      "image/png": "[encoded data removed]",
      "text/plain": [
       "<Figure size 640x480 with 1 Axes>"
      ]
     },
     "metadata": {},
     "output_type": "display_data"
    }
   ],
   "source": [
    "plt.plot([1, 2, 2.5, 3], [1, 2, 2.5, 3], 'go-', label='line 1', linewidth=1)\n",
    "plt.plot([1, 2, 3], [1, 4, 9], 'rs-', label='line 2', linewidth=1)"
   ]
  },
  {
   "cell_type": "code",
   "execution_count": 82,
   "metadata": {},
   "outputs": [
    {
     "data": {
      "text/plain": [
       "(3.314229284869992, array([4.11318121]))"
      ]
     },
     "execution_count": 82,
     "metadata": {},
     "output_type": "execute_result"
    }
   ],
   "source": [
    "max(Y_scaled_test_pred), max(Y_scaled_test)"
   ]
  },
  {
   "cell_type": "code",
   "execution_count": 90,
   "metadata": {},
   "outputs": [
    {
     "name": "stdout",
     "output_type": "stream",
     "text": [
      "()\n",
      "(1,)\n",
      "(1,)\n"
     ]
    }
   ],
   "source": [
    "# x=y 그리기\n",
    "min_val = min(min(Y_scaled_test_pred), min(Y_scaled_test))\n",
    "print(min_val.shape)\n",
    "min_val = min_val.reshape(-1, )\n",
    "print(min_val.shape)\n",
    "max_val = max(max(Y_scaled_test_pred), max(Y_scaled_test))\n",
    "print(max_val.shape)"
   ]
  },
  {
   "cell_type": "code",
   "execution_count": null,
   "metadata": {},
   "outputs": [],
   "source": [
    "# x=y 그리기\n",
    "min_val = min(min(Y_scaled_test_pred), min(Y_scaled_test))\n",
    "print(min_val.shape)\n",
    "min_val = min_val.reshape(-1, )\n",
    "print(min_val.shape)\n",
    "max_val = max(max(Y_scaled_test_pred), max(Y_scaled_test))\n",
    "print(max_val.shape)"
   ]
  },
  {
   "cell_type": "code",
   "execution_count": 86,
   "metadata": {},
   "outputs": [
    {
     "data": {
      "text/plain": [
       "(array([-3.95381164]), array([4.11318121]))"
      ]
     },
     "execution_count": 86,
     "metadata": {},
     "output_type": "execute_result"
    }
   ],
   "source": [
    "# xlabel = min_val, max_val\n",
    "# xlabel\n",
    "\n",
    "# ylabel = min_val, max_val\n",
    "# ylabel"
   ]
  },
  {
   "cell_type": "code",
   "execution_count": 68,
   "metadata": {},
   "outputs": [
    {
     "name": "stdout",
     "output_type": "stream",
     "text": [
      "(1,)\n",
      "(1,)\n"
     ]
    },
    {
     "data": {
      "text/plain": [
       "array([4.11318121])"
      ]
     },
     "execution_count": 68,
     "metadata": {},
     "output_type": "execute_result"
    }
   ],
   "source": [
    "# y_train = y_train.reshape(-1, )\n",
    "# print(y_train.shape)\n",
    "\n",
    "# print(max_val.shape)\n",
    "# max_val = max_val.reshape(-1, )\n",
    "# print(max_val.shape)\n",
    "# max_val1\n",
    "\n",
    "# np.ravel(min_val, order='C') # by default\n",
    "# np.ravel(max_val, order='C') # by default\n",
    "\n",
    "# min_val\n",
    "#max_val.tolist()\n"
   ]
  },
  {
   "cell_type": "code",
   "execution_count": 91,
   "metadata": {},
   "outputs": [
    {
     "data": {
      "text/plain": [
       "[<matplotlib.lines.Line2D at 0x27ade5ead10>]"
      ]
     },
     "execution_count": 91,
     "metadata": {},
     "output_type": "execute_result"
    },
    {
     "data": {
      "image/png": "[encoded data removed]",
      "text/plain": [
       "<Figure size 640x480 with 1 Axes>"
      ]
     },
     "metadata": {},
     "output_type": "display_data"
    }
   ],
   "source": [
    "plt.plot([min_val, max_val], [min_val, max_val], color='black', linestyle='-')\n",
    "\n",
    "# plt.plot('xlabel', 'ylabel', color='black', linestyle='-', data=obj)"
   ]
  },
  {
   "cell_type": "code",
   "execution_count": 92,
   "metadata": {
    "colab": {
     "base_uri": "https://localhost:8080/",
     "height": 466
    },
    "executionInfo": {
     "elapsed": 2708,
     "status": "ok",
     "timestamp": 1690436497381,
     "user": {
      "displayName": "YK CHA",
      "userId": "13863917908140273125"
     },
     "user_tz": -540
    },
    "id": "iBqf_AFnpktt",
    "outputId": "e18b66d2-7bee-4169-9986-7aa6aef1ee9d"
   },
   "outputs": [
    {
     "ename": "ValueError",
     "evalue": "setting an array element with a sequence. The requested array has an inhomogeneous shape after 1 dimensions. The detected shape was (2,) + inhomogeneous part.",
     "output_type": "error",
     "traceback": [
      "\u001b[1;31m---------------------------------------------------------------------------\u001b[0m",
      "\u001b[1;31mValueError\u001b[0m                                Traceback (most recent call last)",
      "Cell \u001b[1;32mIn[92], line 10\u001b[0m\n\u001b[0;32m      8\u001b[0m min_val \u001b[38;5;241m=\u001b[39m \u001b[38;5;28mmin\u001b[39m(\u001b[38;5;28mmin\u001b[39m(Y_scaled_test_pred), \u001b[38;5;28mmin\u001b[39m(Y_scaled_test))\n\u001b[0;32m      9\u001b[0m max_val \u001b[38;5;241m=\u001b[39m \u001b[38;5;28mmax\u001b[39m(\u001b[38;5;28mmax\u001b[39m(Y_scaled_test_pred), \u001b[38;5;28mmax\u001b[39m(Y_scaled_test))\n\u001b[1;32m---> 10\u001b[0m plt\u001b[38;5;241m.\u001b[39mplot([min_val, max_val], [min_val, max_val], color\u001b[38;5;241m=\u001b[39m\u001b[38;5;124m'\u001b[39m\u001b[38;5;124mblack\u001b[39m\u001b[38;5;124m'\u001b[39m, linestyle\u001b[38;5;241m=\u001b[39m\u001b[38;5;124m'\u001b[39m\u001b[38;5;124m-\u001b[39m\u001b[38;5;124m'\u001b[39m)\n\u001b[0;32m     11\u001b[0m \u001b[38;5;66;03m# plot\u001b[39;00m\n\u001b[0;32m     12\u001b[0m plt\u001b[38;5;241m.\u001b[39mtitle(\u001b[38;5;124m\"\u001b[39m\u001b[38;5;124mSupport Vector Regression\u001b[39m\u001b[38;5;124m\"\u001b[39m)\n",
      "File \u001b[1;32mC:\\anaconda3\\Lib\\site-packages\\matplotlib\\pyplot.py:2812\u001b[0m, in \u001b[0;36mplot\u001b[1;34m(scalex, scaley, data, *args, **kwargs)\u001b[0m\n\u001b[0;32m   2810\u001b[0m \u001b[38;5;129m@_copy_docstring_and_deprecators\u001b[39m(Axes\u001b[38;5;241m.\u001b[39mplot)\n\u001b[0;32m   2811\u001b[0m \u001b[38;5;28;01mdef\u001b[39;00m \u001b[38;5;21mplot\u001b[39m(\u001b[38;5;241m*\u001b[39margs, scalex\u001b[38;5;241m=\u001b[39m\u001b[38;5;28;01mTrue\u001b[39;00m, scaley\u001b[38;5;241m=\u001b[39m\u001b[38;5;28;01mTrue\u001b[39;00m, data\u001b[38;5;241m=\u001b[39m\u001b[38;5;28;01mNone\u001b[39;00m, \u001b[38;5;241m*\u001b[39m\u001b[38;5;241m*\u001b[39mkwargs):\n\u001b[1;32m-> 2812\u001b[0m     \u001b[38;5;28;01mreturn\u001b[39;00m gca()\u001b[38;5;241m.\u001b[39mplot(\n\u001b[0;32m   2813\u001b[0m         \u001b[38;5;241m*\u001b[39margs, scalex\u001b[38;5;241m=\u001b[39mscalex, scaley\u001b[38;5;241m=\u001b[39mscaley,\n\u001b[0;32m   2814\u001b[0m         \u001b[38;5;241m*\u001b[39m\u001b[38;5;241m*\u001b[39m({\u001b[38;5;124m\"\u001b[39m\u001b[38;5;124mdata\u001b[39m\u001b[38;5;124m\"\u001b[39m: data} \u001b[38;5;28;01mif\u001b[39;00m data \u001b[38;5;129;01mis\u001b[39;00m \u001b[38;5;129;01mnot\u001b[39;00m \u001b[38;5;28;01mNone\u001b[39;00m \u001b[38;5;28;01melse\u001b[39;00m {}), \u001b[38;5;241m*\u001b[39m\u001b[38;5;241m*\u001b[39mkwargs)\n",
      "File \u001b[1;32mC:\\anaconda3\\Lib\\site-packages\\matplotlib\\axes\\_axes.py:1688\u001b[0m, in \u001b[0;36mAxes.plot\u001b[1;34m(self, scalex, scaley, data, *args, **kwargs)\u001b[0m\n\u001b[0;32m   1445\u001b[0m \u001b[38;5;250m\u001b[39m\u001b[38;5;124;03m\"\"\"\u001b[39;00m\n\u001b[0;32m   1446\u001b[0m \u001b[38;5;124;03mPlot y versus x as lines and/or markers.\u001b[39;00m\n\u001b[0;32m   1447\u001b[0m \n\u001b[1;32m   (...)\u001b[0m\n\u001b[0;32m   1685\u001b[0m \u001b[38;5;124;03m(``'green'``) or hex strings (``'#008000'``).\u001b[39;00m\n\u001b[0;32m   1686\u001b[0m \u001b[38;5;124;03m\"\"\"\u001b[39;00m\n\u001b[0;32m   1687\u001b[0m kwargs \u001b[38;5;241m=\u001b[39m cbook\u001b[38;5;241m.\u001b[39mnormalize_kwargs(kwargs, mlines\u001b[38;5;241m.\u001b[39mLine2D)\n\u001b[1;32m-> 1688\u001b[0m lines \u001b[38;5;241m=\u001b[39m [\u001b[38;5;241m*\u001b[39m\u001b[38;5;28mself\u001b[39m\u001b[38;5;241m.\u001b[39m_get_lines(\u001b[38;5;241m*\u001b[39margs, data\u001b[38;5;241m=\u001b[39mdata, \u001b[38;5;241m*\u001b[39m\u001b[38;5;241m*\u001b[39mkwargs)]\n\u001b[0;32m   1689\u001b[0m \u001b[38;5;28;01mfor\u001b[39;00m line \u001b[38;5;129;01min\u001b[39;00m lines:\n\u001b[0;32m   1690\u001b[0m     \u001b[38;5;28mself\u001b[39m\u001b[38;5;241m.\u001b[39madd_line(line)\n",
      "File \u001b[1;32mC:\\anaconda3\\Lib\\site-packages\\matplotlib\\axes\\_base.py:311\u001b[0m, in \u001b[0;36m_process_plot_var_args.__call__\u001b[1;34m(self, data, *args, **kwargs)\u001b[0m\n\u001b[0;32m    309\u001b[0m     this \u001b[38;5;241m+\u001b[39m\u001b[38;5;241m=\u001b[39m args[\u001b[38;5;241m0\u001b[39m],\n\u001b[0;32m    310\u001b[0m     args \u001b[38;5;241m=\u001b[39m args[\u001b[38;5;241m1\u001b[39m:]\n\u001b[1;32m--> 311\u001b[0m \u001b[38;5;28;01myield from\u001b[39;00m \u001b[38;5;28mself\u001b[39m\u001b[38;5;241m.\u001b[39m_plot_args(\n\u001b[0;32m    312\u001b[0m     this, kwargs, ambiguous_fmt_datakey\u001b[38;5;241m=\u001b[39mambiguous_fmt_datakey)\n",
      "File \u001b[1;32mC:\\anaconda3\\Lib\\site-packages\\matplotlib\\axes\\_base.py:493\u001b[0m, in \u001b[0;36m_process_plot_var_args._plot_args\u001b[1;34m(self, tup, kwargs, return_kwargs, ambiguous_fmt_datakey)\u001b[0m\n\u001b[0;32m    490\u001b[0m         kw[prop_name] \u001b[38;5;241m=\u001b[39m val\n\u001b[0;32m    492\u001b[0m \u001b[38;5;28;01mif\u001b[39;00m \u001b[38;5;28mlen\u001b[39m(xy) \u001b[38;5;241m==\u001b[39m \u001b[38;5;241m2\u001b[39m:\n\u001b[1;32m--> 493\u001b[0m     x \u001b[38;5;241m=\u001b[39m _check_1d(xy[\u001b[38;5;241m0\u001b[39m])\n\u001b[0;32m    494\u001b[0m     y \u001b[38;5;241m=\u001b[39m _check_1d(xy[\u001b[38;5;241m1\u001b[39m])\n\u001b[0;32m    495\u001b[0m \u001b[38;5;28;01melse\u001b[39;00m:\n",
      "File \u001b[1;32mC:\\anaconda3\\Lib\\site-packages\\matplotlib\\cbook\\__init__.py:1348\u001b[0m, in \u001b[0;36m_check_1d\u001b[1;34m(x)\u001b[0m\n\u001b[0;32m   1342\u001b[0m \u001b[38;5;66;03m# plot requires `shape` and `ndim`.  If passed an\u001b[39;00m\n\u001b[0;32m   1343\u001b[0m \u001b[38;5;66;03m# object that doesn't provide them, then force to numpy array.\u001b[39;00m\n\u001b[0;32m   1344\u001b[0m \u001b[38;5;66;03m# Note this will strip unit information.\u001b[39;00m\n\u001b[0;32m   1345\u001b[0m \u001b[38;5;28;01mif\u001b[39;00m (\u001b[38;5;129;01mnot\u001b[39;00m \u001b[38;5;28mhasattr\u001b[39m(x, \u001b[38;5;124m'\u001b[39m\u001b[38;5;124mshape\u001b[39m\u001b[38;5;124m'\u001b[39m) \u001b[38;5;129;01mor\u001b[39;00m\n\u001b[0;32m   1346\u001b[0m         \u001b[38;5;129;01mnot\u001b[39;00m \u001b[38;5;28mhasattr\u001b[39m(x, \u001b[38;5;124m'\u001b[39m\u001b[38;5;124mndim\u001b[39m\u001b[38;5;124m'\u001b[39m) \u001b[38;5;129;01mor\u001b[39;00m\n\u001b[0;32m   1347\u001b[0m         \u001b[38;5;28mlen\u001b[39m(x\u001b[38;5;241m.\u001b[39mshape) \u001b[38;5;241m<\u001b[39m \u001b[38;5;241m1\u001b[39m):\n\u001b[1;32m-> 1348\u001b[0m     \u001b[38;5;28;01mreturn\u001b[39;00m np\u001b[38;5;241m.\u001b[39matleast_1d(x)\n\u001b[0;32m   1349\u001b[0m \u001b[38;5;28;01melse\u001b[39;00m:\n\u001b[0;32m   1350\u001b[0m     \u001b[38;5;28;01mreturn\u001b[39;00m x\n",
      "File \u001b[1;32m<__array_function__ internals>:200\u001b[0m, in \u001b[0;36matleast_1d\u001b[1;34m(*args, **kwargs)\u001b[0m\n",
      "File \u001b[1;32mC:\\anaconda3\\Lib\\site-packages\\numpy\\core\\shape_base.py:65\u001b[0m, in \u001b[0;36matleast_1d\u001b[1;34m(*arys)\u001b[0m\n\u001b[0;32m     63\u001b[0m res \u001b[38;5;241m=\u001b[39m []\n\u001b[0;32m     64\u001b[0m \u001b[38;5;28;01mfor\u001b[39;00m ary \u001b[38;5;129;01min\u001b[39;00m arys:\n\u001b[1;32m---> 65\u001b[0m     ary \u001b[38;5;241m=\u001b[39m asanyarray(ary)\n\u001b[0;32m     66\u001b[0m     \u001b[38;5;28;01mif\u001b[39;00m ary\u001b[38;5;241m.\u001b[39mndim \u001b[38;5;241m==\u001b[39m \u001b[38;5;241m0\u001b[39m:\n\u001b[0;32m     67\u001b[0m         result \u001b[38;5;241m=\u001b[39m ary\u001b[38;5;241m.\u001b[39mreshape(\u001b[38;5;241m1\u001b[39m)\n",
      "\u001b[1;31mValueError\u001b[0m: setting an array element with a sequence. The requested array has an inhomogeneous shape after 1 dimensions. The detected shape was (2,) + inhomogeneous part."
     ]
    },
    {
     "data": {
      "image/png": "[encoded data removed]",
      "text/plain": [
       "<Figure size 1500x400 with 1 Axes>"
      ]
     },
     "metadata": {},
     "output_type": "display_data"
    }
   ],
   "source": [
    "# 예측 값과 실제 값 비교를 위한 데이터 준비\n",
    "plt.figure(figsize=(15, 4))  # 그래프 크기 설정\n",
    "\n",
    "# 실제 값과 예측 값 비교를 위한 plot for test dataset\n",
    "plt.subplot(1,3,1)\n",
    "plt.scatter(Y_scaled_train_pred, Y_scaled_train, c='orange', alpha=0.5)\n",
    "# x=y 그리기\n",
    "min_val = min(min(Y_scaled_test_pred), min(Y_scaled_test))\n",
    "max_val = max(max(Y_scaled_test_pred), max(Y_scaled_test))\n",
    "plt.plot([min_val, max_val], [min_val, max_val], color='black', linestyle='-')\n",
    "# plot\n",
    "plt.title(\"Support Vector Regression\")\n",
    "plt.xlabel(\"Predicted value\")\n",
    "plt.ylabel(\"Actual value\")\n",
    "plt.legend(['Test dataset','x=y'])\n",
    "\n",
    "# 실제 값과 예측 값 비교를 위한 plot for training dataset\n",
    "plt.subplot(1,3,2)\n",
    "plt.scatter(Y_scaled_test_pred, Y_scaled_test, c='blue', alpha=0.5)\n",
    "# x=y 그리기\n",
    "min_val = min(min(Y_scaled_test_pred), min(Y_scaled_test))\n",
    "max_val = max(max(Y_scaled_test_pred), max(Y_scaled_test))\n",
    "plt.plot([min_val, max_val], [min_val, max_val], color='black', linestyle='-')\n",
    "# plot\n",
    "plt.title(\"Support Vector Regression\")\n",
    "plt.xlabel(\"Predicted value\")\n",
    "plt.ylabel(\"Actual value\")\n",
    "plt.legend(['Training dataset','x=y'])\n",
    "\n",
    "# 실제 값과 예측 값 비교를 위한 plot for training dataset\n",
    "plt.subplot(1,3,3)\n",
    "plt.scatter(Y_scaled_train_pred, Y_scaled_train, c='orange', alpha=0.5)\n",
    "plt.scatter(Y_scaled_test_pred, Y_scaled_test, c='blue', alpha=0.5)\n",
    "# x=y 그리기\n",
    "min_val = min(min(Y_scaled_test_pred), min(Y_scaled_test))\n",
    "max_val = max(max(Y_scaled_test_pred), max(Y_scaled_test))\n",
    "plt.plot([min_val, max_val], [min_val, max_val], color='black', linestyle='-')\n",
    "# plot\n",
    "plt.title(\"Support Vector Regression\")\n",
    "plt.xlabel(\"Predicted value\")\n",
    "plt.ylabel(\"Actual value\")\n",
    "plt.legend(['Test dataset','Training dataset','x=y'])\n",
    "\n",
    "plt.show()"
   ]
  },
  {
   "cell_type": "markdown",
   "metadata": {
    "id": "lICHNtvjpl_-"
   },
   "source": [
    "## Ch 1-3. 임의의 input에 대한 output 예측"
   ]
  },
  {
   "cell_type": "code",
   "execution_count": null,
   "metadata": {
    "colab": {
     "base_uri": "https://localhost:8080/"
    },
    "executionInfo": {
     "elapsed": 8,
     "status": "ok",
     "timestamp": 1690436497382,
     "user": {
      "displayName": "YK CHA",
      "userId": "13863917908140273125"
     },
     "user_tz": -540
    },
    "id": "vBqLMMy2Tkmi",
    "outputId": "e314794e-4691-4c2f-8ed0-370b4ad0c656"
   },
   "outputs": [],
   "source": [
    "# 알고싶은 input\n",
    "X_unknown=[-15, 3000, -0.1, -20, 2.1, 1.2, 4.0]\n",
    "\n",
    "# input 스케일링\n",
    "X_unknown_scaled=scaler_X.transform([X_unknown])\n",
    "\n",
    "# 예측\n",
    "y_pred_unknown =  svm_model.predict(X_unknown_scaled)\n",
    "print(y_pred_unknown)"
   ]
  },
  {
   "cell_type": "markdown",
   "metadata": {
    "id": "eD5tVFmvaXpr"
   },
   "source": [
    "# **Ch 2. Random Forest Regression (RFR)**\n"
   ]
  },
  {
   "cell_type": "markdown",
   "metadata": {
    "id": "fEf6cQhm_8oX"
   },
   "source": [
    "## Ch 2-1. 모델 생성 및 학습"
   ]
  },
  {
   "cell_type": "code",
   "execution_count": 7,
   "metadata": {
    "executionInfo": {
     "elapsed": 6,
     "status": "ok",
     "timestamp": 1690436497382,
     "user": {
      "displayName": "YK CHA",
      "userId": "13863917908140273125"
     },
     "user_tz": -540
    },
    "id": "iMcEbFdtahWw"
   },
   "outputs": [],
   "source": [
    "from sklearn.ensemble import RandomForestRegressor"
   ]
  },
  {
   "cell_type": "code",
   "execution_count": 8,
   "metadata": {
    "colab": {
     "base_uri": "https://localhost:8080/",
     "height": 111
    },
    "executionInfo": {
     "elapsed": 528,
     "status": "ok",
     "timestamp": 1690436497904,
     "user": {
      "displayName": "YK CHA",
      "userId": "13863917908140273125"
     },
     "user_tz": -540
    },
    "id": "S58oJJ4lalTS",
    "outputId": "31846ba7-db4f-42d6-c8e8-9352f3e97939"
   },
   "outputs": [
    {
     "ename": "NameError",
     "evalue": "name 'X_scaled_train' is not defined",
     "output_type": "error",
     "traceback": [
      "\u001b[1;31m---------------------------------------------------------------------------\u001b[0m",
      "\u001b[1;31mNameError\u001b[0m                                 Traceback (most recent call last)",
      "Cell \u001b[1;32mIn[8], line 4\u001b[0m\n\u001b[0;32m      1\u001b[0m \u001b[38;5;66;03m# https://scikit-learn.org/stable/modules/generated/sklearn.ensemble.RandomForestRegressor.html\u001b[39;00m\n\u001b[0;32m      2\u001b[0m rfr_model \u001b[38;5;241m=\u001b[39m RandomForestRegressor(n_estimators\u001b[38;5;241m=\u001b[39m\u001b[38;5;241m5\u001b[39m, random_state\u001b[38;5;241m=\u001b[39m\u001b[38;5;241m42\u001b[39m)\n\u001b[1;32m----> 4\u001b[0m rfr_model\u001b[38;5;241m.\u001b[39mfit(X_scaled_train, Y_scaled_train)\n",
      "\u001b[1;31mNameError\u001b[0m: name 'X_scaled_train' is not defined"
     ]
    }
   ],
   "source": [
    "# https://scikit-learn.org/stable/modules/generated/sklearn.ensemble.RandomForestRegressor.html\n",
    "rfr_model = RandomForestRegressor(n_estimators=5, random_state=42)\n",
    "\n",
    "rfr_model.fit(X_scaled_train, Y_scaled_train)"
   ]
  },
  {
   "cell_type": "markdown",
   "metadata": {
    "id": "U0pv64CKAAgR"
   },
   "source": [
    "## Ch 2-2. 모델 평가"
   ]
  },
  {
   "cell_type": "code",
   "execution_count": null,
   "metadata": {
    "executionInfo": {
     "elapsed": 8,
     "status": "ok",
     "timestamp": 1690436497904,
     "user": {
      "displayName": "YK CHA",
      "userId": "13863917908140273125"
     },
     "user_tz": -540
    },
    "id": "l77HOMHBarDh"
   },
   "outputs": [],
   "source": [
    "# 학습된 RFR을 활용하여 테스트 셋 예측\n",
    "Y_scaled_train_pred = rfr_model.predict(X_scaled_train)\n",
    "Y_scaled_test_pred = rfr_model.predict(X_scaled_test)"
   ]
  },
  {
   "cell_type": "code",
   "execution_count": null,
   "metadata": {
    "colab": {
     "base_uri": "https://localhost:8080/"
    },
    "executionInfo": {
     "elapsed": 8,
     "status": "ok",
     "timestamp": 1690436497905,
     "user": {
      "displayName": "YK CHA",
      "userId": "13863917908140273125"
     },
     "user_tz": -540
    },
    "id": "Vc3rJBh7awzg",
    "outputId": "e983dc33-9aee-4a00-fc15-cf84899e717d"
   },
   "outputs": [],
   "source": [
    "# RFR 학습 성능 평가 for train\n",
    "mse_train = mean_squared_error(Y_scaled_train, Y_scaled_train_pred)\n",
    "print(\"MSE_train:\", mse_train)\n",
    "r2_train = r2_score(Y_scaled_train, Y_scaled_train_pred)\n",
    "print(\"R-squared_train:\", r2_train)\n",
    "\n",
    "# RFR 학습 성능 평가 for test\n",
    "mse_test = mean_squared_error(Y_scaled_test, Y_scaled_test_pred)\n",
    "print(\"MSE_test:\", mse_test)\n",
    "r2_test = r2_score(Y_scaled_test, Y_scaled_test_pred)\n",
    "print(\"R-squared_test:\", r2_test)"
   ]
  },
  {
   "cell_type": "code",
   "execution_count": null,
   "metadata": {
    "colab": {
     "base_uri": "https://localhost:8080/",
     "height": 410
    },
    "executionInfo": {
     "elapsed": 2250,
     "status": "ok",
     "timestamp": 1690436500149,
     "user": {
      "displayName": "YK CHA",
      "userId": "13863917908140273125"
     },
     "user_tz": -540
    },
    "id": "v2jViPFQa1iA",
    "outputId": "2e0435cc-9ced-4113-e0ed-4c141105477d"
   },
   "outputs": [],
   "source": [
    "# 예측 값과 실제 값 비교를 위한 데이터 준비\n",
    "plt.figure(figsize=(15, 4))  # 그래프 크기 설정\n",
    "\n",
    "# 실제 값과 예측 값 비교를 위한 plot for test dataset\n",
    "plt.subplot(1,3,1)\n",
    "plt.scatter(Y_scaled_train_pred, Y_scaled_train, c='orange', alpha=0.5)\n",
    "# x=y 그리기\n",
    "min_val = min(min(Y_scaled_test_pred), min(Y_scaled_test))\n",
    "max_val = max(max(Y_scaled_test_pred), max(Y_scaled_test))\n",
    "plt.plot([min_val, max_val], [min_val, max_val], color='black', linestyle='-')\n",
    "# plot\n",
    "plt.title(\"Random Forest Regression\")\n",
    "plt.xlabel(\"Predicted value\")\n",
    "plt.ylabel(\"Actual value\")\n",
    "plt.legend(['Test dataset','x=y'])\n",
    "\n",
    "# 실제 값과 예측 값 비교를 위한 plot for training dataset\n",
    "plt.subplot(1,3,2)\n",
    "plt.scatter(Y_scaled_test_pred, Y_scaled_test, c='blue', alpha=0.5)\n",
    "# x=y 그리기\n",
    "min_val = min(min(Y_scaled_test_pred), min(Y_scaled_test))\n",
    "max_val = max(max(Y_scaled_test_pred), max(Y_scaled_test))\n",
    "plt.plot([min_val, max_val], [min_val, max_val], color='black', linestyle='-')\n",
    "# plot\n",
    "plt.title(\"Random Forest Regression\")\n",
    "plt.xlabel(\"Predicted value\")\n",
    "plt.ylabel(\"Actual value\")\n",
    "plt.legend(['Training dataset','x=y'])\n",
    "\n",
    "# 실제 값과 예측 값 비교를 위한 plot for training dataset\n",
    "plt.subplot(1,3,3)\n",
    "plt.scatter(Y_scaled_train_pred, Y_scaled_train, c='orange', alpha=0.5)\n",
    "plt.scatter(Y_scaled_test_pred, Y_scaled_test, c='blue', alpha=0.5)\n",
    "# x=y 그리기\n",
    "min_val = min(min(Y_scaled_test_pred), min(Y_scaled_test))\n",
    "max_val = max(max(Y_scaled_test_pred), max(Y_scaled_test))\n",
    "plt.plot([min_val, max_val], [min_val, max_val], color='black', linestyle='-')\n",
    "# plot\n",
    "plt.title(\"Random Forest Regression\")\n",
    "plt.xlabel(\"Predicted value\")\n",
    "plt.ylabel(\"Actual value\")\n",
    "plt.legend(['Test dataset','Training dataset','x=y'])\n",
    "\n",
    "plt.show()"
   ]
  },
  {
   "cell_type": "markdown",
   "metadata": {
    "id": "zUXNHR3KAk7n"
   },
   "source": [
    "## Ch 2-3. 결정트리 시각화"
   ]
  },
  {
   "cell_type": "code",
   "execution_count": null,
   "metadata": {
    "executionInfo": {
     "elapsed": 7,
     "status": "ok",
     "timestamp": 1690436500150,
     "user": {
      "displayName": "YK CHA",
      "userId": "13863917908140273125"
     },
     "user_tz": -540
    },
    "id": "d-gsm2-KFyWv"
   },
   "outputs": [],
   "source": [
    "# 결정트리 시각화\n",
    "import graphviz\n",
    "from sklearn import tree"
   ]
  },
  {
   "cell_type": "code",
   "execution_count": null,
   "metadata": {
    "executionInfo": {
     "elapsed": 8303,
     "status": "ok",
     "timestamp": 1690436508447,
     "user": {
      "displayName": "YK CHA",
      "userId": "13863917908140273125"
     },
     "user_tz": -540
    },
    "id": "WKR3OK9EF2dY"
   },
   "outputs": [],
   "source": [
    "# 개별 트리 시각화\n",
    "for i, estimator in enumerate(rfr_model.estimators_):\n",
    "    dot_data = tree.export_graphviz(estimator, out_file=None,\n",
    "                                    filled=True, rounded=True,\n",
    "                                    special_characters=True)\n",
    "    graph = graphviz.Source(dot_data)\n",
    "    graph.view(filename=f\"tree_{i+1}\")"
   ]
  },
  {
   "cell_type": "code",
   "execution_count": null,
   "metadata": {
    "colab": {
     "base_uri": "https://localhost:8080/",
     "height": 1000
    },
    "executionInfo": {
     "elapsed": 1792,
     "status": "ok",
     "timestamp": 1690436510225,
     "user": {
      "displayName": "YK CHA",
      "userId": "13863917908140273125"
     },
     "user_tz": -540
    },
    "id": "5501CpitI8Ps",
    "outputId": "9ee5b4d6-adf8-42d0-c002-1e99b6bb8333"
   },
   "outputs": [],
   "source": [
    "display(graphviz.Source(dot_data))"
   ]
  },
  {
   "cell_type": "markdown",
   "metadata": {
    "id": "qiV0fMNkAoqP"
   },
   "source": [
    "## Ch 2-4. 임의의 input에 대한 output 예측"
   ]
  },
  {
   "cell_type": "code",
   "execution_count": null,
   "metadata": {
    "colab": {
     "base_uri": "https://localhost:8080/"
    },
    "executionInfo": {
     "elapsed": 10,
     "status": "ok",
     "timestamp": 1690436510225,
     "user": {
      "displayName": "YK CHA",
      "userId": "13863917908140273125"
     },
     "user_tz": -540
    },
    "id": "lxKwIMd8YFvh",
    "outputId": "0aa14e1e-ef60-4941-e58c-88e8be4b9fbb"
   },
   "outputs": [],
   "source": [
    "# 알고싶은 input\n",
    "X_unknown=[-15, 3000, -0.1, -20, 2.1, 1.2, 4.0]\n",
    "\n",
    "# input 스케일링\n",
    "X_unknown_scaled=scaler_X.transform([X_unknown])\n",
    "\n",
    "# 예측\n",
    "y_pred_unknown =  rfr_model.predict(X_unknown_scaled)\n",
    "print(y_pred_unknown)"
   ]
  },
  {
   "cell_type": "markdown",
   "metadata": {
    "id": "6vH3hEu1d2er"
   },
   "source": [
    "# **Ch 3. Deep Neural Network (DNN)**\n"
   ]
  },
  {
   "cell_type": "markdown",
   "metadata": {
    "id": "BpPfUkKeY-61"
   },
   "source": [
    "## Ch 3-1. 모델 생성 및 학습"
   ]
  },
  {
   "cell_type": "code",
   "execution_count": null,
   "metadata": {
    "executionInfo": {
     "elapsed": 2740,
     "status": "ok",
     "timestamp": 1690436512959,
     "user": {
      "displayName": "YK CHA",
      "userId": "13863917908140273125"
     },
     "user_tz": -540
    },
    "id": "f7PQcc_FbpB7"
   },
   "outputs": [],
   "source": [
    "import tensorflow as tf"
   ]
  },
  {
   "cell_type": "code",
   "execution_count": null,
   "metadata": {
    "colab": {
     "base_uri": "https://localhost:8080/"
    },
    "executionInfo": {
     "elapsed": 16669,
     "status": "ok",
     "timestamp": 1690436529617,
     "user": {
      "displayName": "YK CHA",
      "userId": "13863917908140273125"
     },
     "user_tz": -540
    },
    "id": "G16N95KYd-AL",
    "outputId": "aaff235b-13aa-42d4-a5ec-d48c95f72781"
   },
   "outputs": [],
   "source": [
    "dnn_model = tf.keras.models.Sequential([\n",
    "    tf.keras.layers.Dense(64, activation='relu', input_shape=(X_scaled_train.shape[1],)),\n",
    "    tf.keras.layers.Dense(64, activation='relu'),\n",
    "    tf.keras.layers.Dense(1)\n",
    "])\n",
    "dnn_model.compile(loss='mean_squared_error', optimizer='adam')\n",
    "\n",
    "hist=dnn_model.fit(X_scaled_train, Y_scaled_train, epochs=50, batch_size=32, verbose=1)"
   ]
  },
  {
   "cell_type": "markdown",
   "metadata": {
    "id": "uX9xf7-jZKGE"
   },
   "source": [
    "## Ch 3-2. 모델 평가"
   ]
  },
  {
   "cell_type": "code",
   "execution_count": null,
   "metadata": {
    "colab": {
     "base_uri": "https://localhost:8080/"
    },
    "executionInfo": {
     "elapsed": 487,
     "status": "ok",
     "timestamp": 1690436530099,
     "user": {
      "displayName": "YK CHA",
      "userId": "13863917908140273125"
     },
     "user_tz": -540
    },
    "id": "jIgOL-8BeUhH",
    "outputId": "acca2585-f881-4e99-cdf2-ce8f73208d6f"
   },
   "outputs": [],
   "source": [
    "# 학습된 DNN을 활용하여 테스트 셋 예측\n",
    "Y_scaled_train_pred = dnn_model.predict(X_scaled_train)\n",
    "Y_scaled_test_pred = dnn_model.predict(X_scaled_test)"
   ]
  },
  {
   "cell_type": "code",
   "execution_count": null,
   "metadata": {
    "colab": {
     "base_uri": "https://localhost:8080/"
    },
    "executionInfo": {
     "elapsed": 4,
     "status": "ok",
     "timestamp": 1690436530099,
     "user": {
      "displayName": "YK CHA",
      "userId": "13863917908140273125"
     },
     "user_tz": -540
    },
    "id": "n8bfJPjrfCO6",
    "outputId": "b0b701c9-9024-44ec-9b01-799876196b38"
   },
   "outputs": [],
   "source": [
    "# DNN 학습 성능 평가 for train\n",
    "mse_train = mean_squared_error(Y_scaled_train, Y_scaled_train_pred)\n",
    "print(\"MSE_train:\", mse_train)\n",
    "r2_train = r2_score(Y_scaled_train, Y_scaled_train_pred)\n",
    "print(\"R-squared_train:\", r2_train)\n",
    "\n",
    "# DNN 학습 성능 평가 for test\n",
    "mse_test = mean_squared_error(Y_scaled_test, Y_scaled_test_pred)\n",
    "print(\"MSE_test:\", mse_test)\n",
    "r2_test = r2_score(Y_scaled_test, Y_scaled_test_pred)\n",
    "print(\"R-squared_test:\", r2_test)"
   ]
  },
  {
   "cell_type": "code",
   "execution_count": null,
   "metadata": {
    "colab": {
     "base_uri": "https://localhost:8080/",
     "height": 410
    },
    "executionInfo": {
     "elapsed": 1258,
     "status": "ok",
     "timestamp": 1690436531354,
     "user": {
      "displayName": "YK CHA",
      "userId": "13863917908140273125"
     },
     "user_tz": -540
    },
    "id": "OGVbPX5BfOtx",
    "outputId": "ab6abf42-590f-4a52-ed1f-75fe2c400151"
   },
   "outputs": [],
   "source": [
    "# 예측 값과 실제 값 비교를 위한 데이터 준비\n",
    "plt.figure(figsize=(15, 4))  # 그래프 크기 설정\n",
    "\n",
    "# 실제 값과 예측 값 비교를 위한 plot for test dataset\n",
    "plt.subplot(1,3,1)\n",
    "plt.scatter(Y_scaled_train_pred, Y_scaled_train, c='orange', alpha=0.5)\n",
    "# x=y 그리기\n",
    "min_val = min(min(Y_scaled_test_pred), min(Y_scaled_test))\n",
    "max_val = max(max(Y_scaled_test_pred), max(Y_scaled_test))\n",
    "plt.plot([min_val, max_val], [min_val, max_val], color='black', linestyle='-')\n",
    "# plot\n",
    "plt.title(\"Deep Neural Network\")\n",
    "plt.xlabel(\"Predicted value\")\n",
    "plt.ylabel(\"Actual value\")\n",
    "plt.legend(['Test dataset','x=y'])\n",
    "\n",
    "# 실제 값과 예측 값 비교를 위한 plot for training dataset\n",
    "plt.subplot(1,3,2)\n",
    "plt.scatter(Y_scaled_test_pred, Y_scaled_test, c='blue', alpha=0.5)\n",
    "# x=y 그리기\n",
    "min_val = min(min(Y_scaled_test_pred), min(Y_scaled_test))\n",
    "max_val = max(max(Y_scaled_test_pred), max(Y_scaled_test))\n",
    "plt.plot([min_val, max_val], [min_val, max_val], color='black', linestyle='-')\n",
    "# plot\n",
    "plt.title(\"Deep Neural Network\")\n",
    "plt.xlabel(\"Predicted value\")\n",
    "plt.ylabel(\"Actual value\")\n",
    "plt.legend(['Training dataset','x=y'])\n",
    "\n",
    "# 실제 값과 예측 값 비교를 위한 plot for training dataset\n",
    "plt.subplot(1,3,3)\n",
    "plt.scatter(Y_scaled_train_pred, Y_scaled_train, c='orange', alpha=0.5)\n",
    "plt.scatter(Y_scaled_test_pred, Y_scaled_test, c='blue', alpha=0.5)\n",
    "# x=y 그리기\n",
    "min_val = min(min(Y_scaled_test_pred), min(Y_scaled_test))\n",
    "max_val = max(max(Y_scaled_test_pred), max(Y_scaled_test))\n",
    "plt.plot([min_val, max_val], [min_val, max_val], color='black', linestyle='-')\n",
    "# plot\n",
    "plt.title(\"Deep Neural Network\")\n",
    "plt.xlabel(\"Predicted value\")\n",
    "plt.ylabel(\"Actual value\")\n",
    "plt.legend(['Test dataset','Training dataset','x=y'])\n",
    "\n",
    "plt.show()"
   ]
  },
  {
   "cell_type": "code",
   "execution_count": null,
   "metadata": {
    "colab": {
     "base_uri": "https://localhost:8080/",
     "height": 451
    },
    "executionInfo": {
     "elapsed": 10,
     "status": "ok",
     "timestamp": 1690436531354,
     "user": {
      "displayName": "YK CHA",
      "userId": "13863917908140273125"
     },
     "user_tz": -540
    },
    "id": "O8geAm0JfjCd",
    "outputId": "5788bd2e-7e4f-4a90-fa64-aab8434753bf"
   },
   "outputs": [],
   "source": [
    "# 손실 그래프\n",
    "plt.plot(hist.history['loss'], label='Train Loss')\n",
    "plt.xlabel('Epochs')\n",
    "plt.ylabel('Loss')\n",
    "plt.legend()\n",
    "plt.show()"
   ]
  }
 ],
 "metadata": {
  "accelerator": "GPU",
  "colab": {
   "gpuType": "T4",
   "provenance": []
  },
  "kernelspec": {
   "display_name": "Python 3 (ipykernel)",
   "language": "python",
   "name": "python3"
  },
  "language_info": {
   "codemirror_mode": {
    "name": "ipython",
    "version": 3
   },
   "file_extension": ".py",
   "mimetype": "text/x-python",
   "name": "python",
   "nbconvert_exporter": "python",
   "pygments_lexer": "ipython3",
   "version": "3.11.3"
  }
 },
 "nbformat": 4,
 "nbformat_minor": 1
}
